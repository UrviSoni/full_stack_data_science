{
 "cells": [
  {
   "cell_type": "code",
   "execution_count": 1,
   "id": "adjacent-portland",
   "metadata": {},
   "outputs": [
    {
     "name": "stdout",
     "output_type": "stream",
     "text": [
      "\u001b[33mWARNING: Value for scheme.headers does not match. Please report this to <https://github.com/pypa/pip/issues/9617>\n",
      "distutils: /home/urvi/anaconda3/envs/ineuron-test/include/python3.6m/UNKNOWN\n",
      "sysconfig: /home/urvi/anaconda3/envs/ineuron-test/include/python3.6m\u001b[0m\n",
      "\u001b[33mWARNING: Additional context:\n",
      "user = False\n",
      "home = None\n",
      "root = None\n",
      "prefix = None\u001b[0m\n",
      "Collecting cassandra-driver\n",
      "  Downloading cassandra_driver-3.25.0-cp36-cp36m-manylinux1_x86_64.whl (3.8 MB)\n",
      "\u001b[K     |████████████████████████████████| 3.8 MB 1.9 MB/s eta 0:00:01\n",
      "\u001b[?25hRequirement already satisfied: six>=1.9 in /home/urvi/.local/lib/python3.6/site-packages (from cassandra-driver) (1.13.0)\n",
      "Collecting geomet<0.3,>=0.1\n",
      "  Downloading geomet-0.2.1.post1-py3-none-any.whl (18 kB)\n",
      "Requirement already satisfied: click in /home/urvi/.local/lib/python3.6/site-packages (from geomet<0.3,>=0.1->cassandra-driver) (7.0)\n",
      "Installing collected packages: geomet, cassandra-driver\n",
      "\u001b[33mWARNING: Value for scheme.headers does not match. Please report this to <https://github.com/pypa/pip/issues/9617>\n",
      "distutils: /home/urvi/anaconda3/envs/ineuron-test/include/python3.6m/UNKNOWN\n",
      "sysconfig: /home/urvi/anaconda3/envs/ineuron-test/include/python3.6m\u001b[0m\n",
      "\u001b[33mWARNING: Additional context:\n",
      "user = False\n",
      "home = None\n",
      "root = None\n",
      "prefix = None\u001b[0m\n",
      "Successfully installed cassandra-driver-3.25.0 geomet-0.2.1.post1\n",
      "\u001b[33mWARNING: You are using pip version 21.1; however, version 21.1.1 is available.\n",
      "You should consider upgrading via the '/home/urvi/anaconda3/envs/ineuron-test/bin/python3 -m pip install --upgrade pip' command.\u001b[0m\n"
     ]
    }
   ],
   "source": [
    "!pip install cassandra-driver "
   ]
  },
  {
   "cell_type": "code",
   "execution_count": null,
   "id": "collaborative-copying",
   "metadata": {},
   "outputs": [],
   "source": []
  }
 ],
 "metadata": {
  "kernelspec": {
   "display_name": "Python 3",
   "language": "python",
   "name": "python3"
  },
  "language_info": {
   "codemirror_mode": {
    "name": "ipython",
    "version": 3
   },
   "file_extension": ".py",
   "mimetype": "text/x-python",
   "name": "python",
   "nbconvert_exporter": "python",
   "pygments_lexer": "ipython3",
   "version": "3.6.13"
  }
 },
 "nbformat": 4,
 "nbformat_minor": 5
}
