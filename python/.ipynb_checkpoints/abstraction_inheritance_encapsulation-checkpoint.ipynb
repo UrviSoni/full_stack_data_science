{
 "cells": [
  {
   "cell_type": "code",
   "execution_count": 19,
   "id": "upper-river",
   "metadata": {},
   "outputs": [],
   "source": [
    "# Absrtaction :- It is nothing means to protacting your variable\n",
    "\n",
    "class test:\n",
    "    def __init__(self, a, b, c, d):\n",
    "        self._a = a\n",
    "        self.b = b # if you cant' find any underscore then it's a public variable\n",
    "        self.c = c\n",
    "        self.d = d\n",
    "        \n",
    "    def test_custome(self, v):\n",
    "        return v - self._a\n",
    "    \n",
    "    def __str__(self):\n",
    "        return \"This is my test code for abstraction\""
   ]
  },
  {
   "cell_type": "code",
   "execution_count": 20,
   "id": "controlling-dependence",
   "metadata": {},
   "outputs": [],
   "source": [
    "o = test(4,5,6,7)"
   ]
  },
  {
   "cell_type": "code",
   "execution_count": 21,
   "id": "prescription-season",
   "metadata": {},
   "outputs": [
    {
     "data": {
      "text/plain": [
       "3"
      ]
     },
     "execution_count": 21,
     "metadata": {},
     "output_type": "execute_result"
    }
   ],
   "source": [
    "o.test_custome(7)"
   ]
  },
  {
   "cell_type": "code",
   "execution_count": 22,
   "id": "published-creativity",
   "metadata": {},
   "outputs": [
    {
     "data": {
      "text/plain": [
       "4"
      ]
     },
     "execution_count": 22,
     "metadata": {},
     "output_type": "execute_result"
    }
   ],
   "source": [
    "o._a # if it's a single underscore(_) then it's protected variable"
   ]
  },
  {
   "cell_type": "code",
   "execution_count": 26,
   "id": "cardiac-arthur",
   "metadata": {},
   "outputs": [],
   "source": [
    "class test:\n",
    "    def __init__(self, a, b, c, d):\n",
    "        self.__a = a\n",
    "        self.b = b\n",
    "        self.c = c\n",
    "        self.d = d\n",
    "        \n",
    "    def test_custome(self, v):\n",
    "        return v - self.__a\n",
    "    \n",
    "    def __str__(self):\n",
    "        return \"This is my test code for abstraction\""
   ]
  },
  {
   "cell_type": "code",
   "execution_count": 27,
   "id": "relevant-classic",
   "metadata": {},
   "outputs": [],
   "source": [
    "o = test(4,5,6,7)"
   ]
  },
  {
   "cell_type": "code",
   "execution_count": 28,
   "id": "likely-africa",
   "metadata": {},
   "outputs": [
    {
     "data": {
      "text/plain": [
       "3"
      ]
     },
     "execution_count": 28,
     "metadata": {},
     "output_type": "execute_result"
    }
   ],
   "source": [
    "o.test_custome(7)"
   ]
  },
  {
   "cell_type": "code",
   "execution_count": 29,
   "id": "separated-examination",
   "metadata": {},
   "outputs": [
    {
     "ename": "AttributeError",
     "evalue": "'test' object has no attribute '__a'",
     "output_type": "error",
     "traceback": [
      "\u001b[0;31m---------------------------------------------------------------------------\u001b[0m",
      "\u001b[0;31mAttributeError\u001b[0m                            Traceback (most recent call last)",
      "\u001b[0;32m<ipython-input-29-1e42657c998a>\u001b[0m in \u001b[0;36m<module>\u001b[0;34m\u001b[0m\n\u001b[0;32m----> 1\u001b[0;31m \u001b[0mo\u001b[0m\u001b[0;34m.\u001b[0m\u001b[0m__a\u001b[0m\u001b[0;34m\u001b[0m\u001b[0;34m\u001b[0m\u001b[0m\n\u001b[0m",
      "\u001b[0;31mAttributeError\u001b[0m: 'test' object has no attribute '__a'"
     ]
    }
   ],
   "source": [
    "o.__a # if it has double underscore(__) then it's private variable"
   ]
  },
  {
   "cell_type": "code",
   "execution_count": 30,
   "id": "diverse-lincoln",
   "metadata": {},
   "outputs": [
    {
     "data": {
      "text/plain": [
       "4"
      ]
     },
     "execution_count": 30,
     "metadata": {},
     "output_type": "execute_result"
    }
   ],
   "source": [
    "o._test__a"
   ]
  },
  {
   "cell_type": "code",
   "execution_count": 33,
   "id": "western-chair",
   "metadata": {},
   "outputs": [
    {
     "data": {
      "text/plain": [
       "4"
      ]
     },
     "execution_count": 33,
     "metadata": {},
     "output_type": "execute_result"
    }
   ],
   "source": [
    "# Inheritance - Child-Parent RelationShip - will help you to reusablity of the code\n",
    "\n",
    "class test1(test): # test1 => child class, test => parent class\n",
    "    def __init__(self, j, *args):\n",
    "        super(test1,self).__init__(*args)\n",
    "        self.j = j\n",
    "        \n",
    "m = test1(4,5,6,7,8)\n",
    "m.b\n"
   ]
  },
  {
   "cell_type": "code",
   "execution_count": 34,
   "id": "lucky-motivation",
   "metadata": {},
   "outputs": [
    {
     "data": {
      "text/plain": [
       "4"
      ]
     },
     "execution_count": 34,
     "metadata": {},
     "output_type": "execute_result"
    }
   ],
   "source": [
    "m.j"
   ]
  },
  {
   "cell_type": "code",
   "execution_count": 35,
   "id": "abandoned-intent",
   "metadata": {},
   "outputs": [
    {
     "data": {
      "text/plain": [
       "3"
      ]
     },
     "execution_count": 35,
     "metadata": {},
     "output_type": "execute_result"
    }
   ],
   "source": [
    "m.test_custome(8)"
   ]
  },
  {
   "cell_type": "code",
   "execution_count": 36,
   "id": "emerging-tulsa",
   "metadata": {},
   "outputs": [
    {
     "data": {
      "text/plain": [
       "6"
      ]
     },
     "execution_count": 36,
     "metadata": {},
     "output_type": "execute_result"
    }
   ],
   "source": [
    "m.b"
   ]
  },
  {
   "cell_type": "code",
   "execution_count": 37,
   "id": "consolidated-dietary",
   "metadata": {},
   "outputs": [
    {
     "data": {
      "text/plain": [
       "7"
      ]
     },
     "execution_count": 37,
     "metadata": {},
     "output_type": "execute_result"
    }
   ],
   "source": [
    "m.c"
   ]
  },
  {
   "cell_type": "code",
   "execution_count": 38,
   "id": "modified-thriller",
   "metadata": {},
   "outputs": [
    {
     "data": {
      "text/plain": [
       "8"
      ]
     },
     "execution_count": 38,
     "metadata": {},
     "output_type": "execute_result"
    }
   ],
   "source": [
    "m.d"
   ]
  },
  {
   "cell_type": "code",
   "execution_count": 51,
   "id": "explicit-christianity",
   "metadata": {},
   "outputs": [
    {
     "name": "stdout",
     "output_type": "stream",
     "text": [
      "In calss test\n",
      "In calss test1\n",
      "In class test2\n",
      "In calss test\n"
     ]
    }
   ],
   "source": [
    "# Task :-\n",
    "# 1.create class test and test1 \n",
    "# 2.inherit test and test1 into test2 \n",
    "# 3.function a in test \n",
    "# 4.function a in test1 \n",
    "# 5.test2 should inherit function-a from test1 and test both \n",
    "\n",
    "class test:\n",
    "    def a(self):\n",
    "        print(\"In calss test\")\n",
    "        \n",
    "class test1:\n",
    "    def a(self):\n",
    "        print(\"In calss test1\")\n",
    "        \n",
    "class test2(test,test1):\n",
    "    t1 = test()\n",
    "    t1.a()\n",
    "    t2 = test1()\n",
    "    t2.a()\n",
    "    print(\"In class test2\")\n",
    "\n",
    "t2 = test2()\n",
    "t2.a()"
   ]
  },
  {
   "cell_type": "code",
   "execution_count": 53,
   "id": "senior-engagement",
   "metadata": {},
   "outputs": [
    {
     "name": "stdout",
     "output_type": "stream",
     "text": [
      "In calss test\n",
      "In calss test1\n"
     ]
    }
   ],
   "source": [
    "# Task :-\n",
    "# 1.create class test and test1 \n",
    "# 2.inherit test and test1 into test2 \n",
    "# 3.function a in test \n",
    "# 4.function a in test1 \n",
    "# 5.test2 should inherit function-a from test1 and test both \n",
    "\n",
    "class test:\n",
    "    def a(self):\n",
    "        print(\"In calss test\")\n",
    "        \n",
    "class test1:\n",
    "    def a(self):\n",
    "        print(\"In calss test1\")\n",
    "        \n",
    "class test2():\n",
    "    t1 = test()\n",
    "    t1.a()\n",
    "    t2 = test1()\n",
    "    t2.a()\n",
    "    #print(\"In class test2\")\n",
    "\n",
    "t2 = test2()\n"
   ]
  },
  {
   "cell_type": "code",
   "execution_count": 64,
   "id": "phantom-liberal",
   "metadata": {},
   "outputs": [],
   "source": [
    "# Encapsulation - Wrapping of an object \n",
    "\n",
    "class test:\n",
    "    def __init__(self,a,b,c):\n",
    "        self.a = a\n",
    "        self.b = b\n",
    "        self.c = c\n",
    "        \n",
    "    def __str__(self):\n",
    "        return \"This the return from my test class\"\n",
    "    \n",
    "class test1:\n",
    "    def __init__(self,a,b,c):\n",
    "        self.a = a\n",
    "        self.b = b\n",
    "        self.c = c\n",
    "        \n",
    "    def __str__(self):\n",
    "        return \"This the return from my test1 class\"\n",
    "    \n",
    "class test2:\n",
    "    def __init__(self,a,b,c):\n",
    "        self.a = a\n",
    "        self.b = b\n",
    "        self.c = c\n",
    "        \n",
    "    def __str__(self):\n",
    "        return \"This the return from my test2 class\"\n",
    "    \n",
    "class final:\n",
    "    def __init__(self,x,y,z):\n",
    "        self.x = x\n",
    "        self.y = y\n",
    "        self.z = z\n",
    "        \n",
    "    def __str__(self):\n",
    "        return str(self.x) + \"   \"  + str(self.y) + \"  \" +str(self.z)"
   ]
  },
  {
   "cell_type": "code",
   "execution_count": 65,
   "id": "binding-alignment",
   "metadata": {},
   "outputs": [],
   "source": [
    "t = test(4,5,6)\n",
    "t1 = test1(3,4,5)\n",
    "t2 = test2(5,6,7)\n",
    "\n",
    "f = final(t,t1,t2)"
   ]
  },
  {
   "cell_type": "code",
   "execution_count": 66,
   "id": "automotive-psychology",
   "metadata": {},
   "outputs": [
    {
     "name": "stdout",
     "output_type": "stream",
     "text": [
      "This the return from my test class   This the return from my test1 class  This the return from my test2 class\n"
     ]
    }
   ],
   "source": [
    "print(f)"
   ]
  },
  {
   "cell_type": "code",
   "execution_count": 67,
   "id": "bizarre-symposium",
   "metadata": {},
   "outputs": [],
   "source": [
    "t = test(4,5,6)\n",
    "t1 = test1(3,4,5)\n",
    "t2 = test2(5,6,7)\n",
    "\n",
    "f = final(t,t1,\"urvi\")"
   ]
  },
  {
   "cell_type": "code",
   "execution_count": 68,
   "id": "mysterious-grocery",
   "metadata": {},
   "outputs": [
    {
     "name": "stdout",
     "output_type": "stream",
     "text": [
      "This the return from my test class   This the return from my test1 class  urvi\n"
     ]
    }
   ],
   "source": [
    "print(f)"
   ]
  },
  {
   "cell_type": "code",
   "execution_count": 1,
   "id": "pregnant-minneapolis",
   "metadata": {},
   "outputs": [
    {
     "name": "stdout",
     "output_type": "stream",
     "text": [
      "10\n"
     ]
    }
   ],
   "source": [
    "# Inheritance\n",
    "\n",
    "class parent:\n",
    "    a = 10\n",
    "    b = 40\n",
    "    \n",
    "    def __init__(self, parent_a, parent_b):\n",
    "        self.parent_a = parent_a\n",
    "        self.parent_b = parent_b\n",
    "        \n",
    "class child(parent):\n",
    "    print(parent.a)"
   ]
  },
  {
   "cell_type": "code",
   "execution_count": 2,
   "id": "attractive-legislation",
   "metadata": {},
   "outputs": [],
   "source": [
    "# Inheritance\n",
    "\n",
    "class parent:\n",
    "    a = 10\n",
    "    b = 40\n",
    "    \n",
    "    def __init__(self, parent_a, parent_b):\n",
    "        self.parent_a = parent_a\n",
    "        self.parent_b = parent_b\n",
    "        \n",
    "class child(parent):\n",
    "    def __init__(self, *args):\n",
    "        super(child,self).__init__(*args)"
   ]
  },
  {
   "cell_type": "code",
   "execution_count": 18,
   "id": "handy-chess",
   "metadata": {},
   "outputs": [
    {
     "name": "stdout",
     "output_type": "stream",
     "text": [
      "Test is a t1 born in 1954.\n"
     ]
    }
   ],
   "source": [
    "class Dog:\n",
    "    def __init__(self,name,year_of_birth,breed):\n",
    "        self._name = name\n",
    "        self._year_of_birth = year_of_birth\n",
    "        self._breed = breed\n",
    "        \n",
    "    def __str__(self):\n",
    "        return \"%s is a %s born in %d.\" %(self._name,self._breed,self._year_of_birth)\n",
    "    \n",
    "abc = Dog(\"Test\", 1954, \"t1\")\n",
    "dog1 = Dog(\"German\", 565, \"coco\")\n",
    "dog2 = Dog(\"German\", 565, \"coco\")\n",
    "dog3 = Dog(\"German\", 565, \"coco\")\n",
    "dog4 = Dog(\"German\", 565, \"coco\")\n",
    "dog5 = Dog(\"German\", 565, \"coco\")\n",
    "dog6 = Dog(\"German\", 565, \"coco\")\n",
    "\n",
    "print(abc)"
   ]
  },
  {
   "cell_type": "code",
   "execution_count": 12,
   "id": "similar-bruce",
   "metadata": {},
   "outputs": [],
   "source": [
    "class Student:\n",
    "    def __init__(self,name,student_id, school_name, address):\n",
    "        self.name = name\n",
    "        self.student_id = student_id\n",
    "        self.school_name =  school_name\n",
    "        self.address = address\n",
    "        \n",
    "    def __str__(self):\n",
    "        return str(self.name) + \"  \" + str(self.student_id) + \"  \" + str(self.school_name) + \"  \" + str(self.address)"
   ]
  },
  {
   "cell_type": "code",
   "execution_count": 13,
   "id": "juvenile-challenge",
   "metadata": {},
   "outputs": [],
   "source": [
    "stu = Student(\"urvi\", 123, \"VVHS\", \"India\")"
   ]
  },
  {
   "cell_type": "code",
   "execution_count": 14,
   "id": "generic-ethics",
   "metadata": {},
   "outputs": [
    {
     "name": "stdout",
     "output_type": "stream",
     "text": [
      "urvi  123  VVHS  India\n"
     ]
    }
   ],
   "source": [
    "print(stu)"
   ]
  },
  {
   "cell_type": "code",
   "execution_count": 15,
   "id": "inside-lafayette",
   "metadata": {},
   "outputs": [
    {
     "name": "stdout",
     "output_type": "stream",
     "text": [
      "Test is a t1 born in 1954.  45  dog_ab  afdaf\n"
     ]
    }
   ],
   "source": [
    "# Encapsulation\n",
    "\n",
    "dog = Student(abc,45,\"dog_ab\", \"afdaf\")\n",
    "print(dog)"
   ]
  },
  {
   "cell_type": "code",
   "execution_count": 19,
   "id": "stone-roman",
   "metadata": {},
   "outputs": [
    {
     "name": "stdout",
     "output_type": "stream",
     "text": [
      "German is a coco born in 565.  45  dog_ab  afdaf\n"
     ]
    }
   ],
   "source": [
    "dog1 = Student(dog1,45,\"dog_ab\", \"afdaf\")\n",
    "print(dog1)"
   ]
  },
  {
   "cell_type": "code",
   "execution_count": 20,
   "id": "unknown-coordinator",
   "metadata": {},
   "outputs": [],
   "source": [
    "class multiplynumeric():\n",
    "    def __init__(self, a):\n",
    "        self.a = a"
   ]
  },
  {
   "cell_type": "code",
   "execution_count": 21,
   "id": "national-richmond",
   "metadata": {},
   "outputs": [],
   "source": [
    "mul = multiplynumeric(9)\n",
    "mul1 = multiplynumeric(2)"
   ]
  },
  {
   "cell_type": "code",
   "execution_count": 22,
   "id": "becoming-argument",
   "metadata": {},
   "outputs": [
    {
     "data": {
      "text/plain": [
       "18"
      ]
     },
     "execution_count": 22,
     "metadata": {},
     "output_type": "execute_result"
    }
   ],
   "source": [
    "mul.a * mul1.a"
   ]
  },
  {
   "cell_type": "code",
   "execution_count": 27,
   "id": "excessive-hearts",
   "metadata": {},
   "outputs": [],
   "source": [
    "class multiplynumeric():\n",
    "    def __init__(self, a):\n",
    "        self.a = a\n",
    "        \n",
    "    def __mul__(self, other):\n",
    "        \n",
    "        return self.a * other.a"
   ]
  },
  {
   "cell_type": "code",
   "execution_count": 28,
   "id": "hawaiian-configuration",
   "metadata": {},
   "outputs": [],
   "source": [
    "mul = multiplynumeric(10)\n",
    "mul1 = multiplynumeric(2)"
   ]
  },
  {
   "cell_type": "code",
   "execution_count": 29,
   "id": "useful-component",
   "metadata": {},
   "outputs": [
    {
     "data": {
      "text/plain": [
       "20"
      ]
     },
     "execution_count": 29,
     "metadata": {},
     "output_type": "execute_result"
    }
   ],
   "source": [
    "mul * mul1"
   ]
  },
  {
   "cell_type": "code",
   "execution_count": 32,
   "id": "special-johnson",
   "metadata": {},
   "outputs": [
    {
     "ename": "TypeError",
     "evalue": "unsupported operand type(s) for +: 'multiplynumeric' and 'multiplynumeric'",
     "output_type": "error",
     "traceback": [
      "\u001b[0;31m---------------------------------------------------------------------------\u001b[0m",
      "\u001b[0;31mTypeError\u001b[0m                                 Traceback (most recent call last)",
      "\u001b[0;32m<ipython-input-32-8f62515cc26a>\u001b[0m in \u001b[0;36m<module>\u001b[0;34m\u001b[0m\n\u001b[0;32m----> 1\u001b[0;31m \u001b[0mmul\u001b[0m \u001b[0;34m+\u001b[0m \u001b[0mmul1\u001b[0m\u001b[0;34m\u001b[0m\u001b[0;34m\u001b[0m\u001b[0m\n\u001b[0m",
      "\u001b[0;31mTypeError\u001b[0m: unsupported operand type(s) for +: 'multiplynumeric' and 'multiplynumeric'"
     ]
    }
   ],
   "source": [
    "mul + mul1"
   ]
  },
  {
   "cell_type": "code",
   "execution_count": 33,
   "id": "mounted-fountain",
   "metadata": {},
   "outputs": [],
   "source": [
    "class multiplynumeric():\n",
    "    def __init__(self, a):\n",
    "        self.a = a\n",
    "        \n",
    "    def __mul__(self, other):\n",
    "        \n",
    "        return self.a + other.a"
   ]
  },
  {
   "cell_type": "code",
   "execution_count": 36,
   "id": "authentic-draft",
   "metadata": {},
   "outputs": [],
   "source": [
    "mul = multiplynumeric(10)\n",
    "mul1 = multiplynumeric(2)"
   ]
  },
  {
   "cell_type": "code",
   "execution_count": 37,
   "id": "favorite-trinidad",
   "metadata": {},
   "outputs": [
    {
     "data": {
      "text/plain": [
       "12"
      ]
     },
     "execution_count": 37,
     "metadata": {},
     "output_type": "execute_result"
    }
   ],
   "source": [
    "mul * mul1"
   ]
  },
  {
   "cell_type": "code",
   "execution_count": 38,
   "id": "optical-clothing",
   "metadata": {},
   "outputs": [],
   "source": [
    "def test(a,b):\n",
    "    return a+b"
   ]
  },
  {
   "cell_type": "code",
   "execution_count": 40,
   "id": "romantic-password",
   "metadata": {},
   "outputs": [
    {
     "name": "stdout",
     "output_type": "stream",
     "text": [
      "11\n",
      "urvi soni\n",
      "[3, 4, 5, 6, 4, 5, 6, 7]\n"
     ]
    }
   ],
   "source": [
    "print(test(5,6))\n",
    "print(test(\"urvi \",\"soni\"))\n",
    "print(test([3,4,5,6],[4,5,6,7]))"
   ]
  },
  {
   "cell_type": "code",
   "execution_count": 41,
   "id": "shared-romance",
   "metadata": {},
   "outputs": [],
   "source": [
    "class ineuron:\n",
    "    \n",
    "    def msg(self):\n",
    "        print(\"This is a msg to a Ineuron \")\n",
    "        \n",
    "class xyz:\n",
    "    \n",
    "    def msg(self):\n",
    "        print(\"This is a msg to xyz\")"
   ]
  },
  {
   "cell_type": "markdown",
   "id": "outdoor-massachusetts",
   "metadata": {},
   "source": [
    "def test(msg):\n",
    "    "
   ]
  }
 ],
 "metadata": {
  "kernelspec": {
   "display_name": "Python 3",
   "language": "python",
   "name": "python3"
  },
  "language_info": {
   "codemirror_mode": {
    "name": "ipython",
    "version": 3
   },
   "file_extension": ".py",
   "mimetype": "text/x-python",
   "name": "python",
   "nbconvert_exporter": "python",
   "pygments_lexer": "ipython3",
   "version": "3.6.13"
  }
 },
 "nbformat": 4,
 "nbformat_minor": 5
}
