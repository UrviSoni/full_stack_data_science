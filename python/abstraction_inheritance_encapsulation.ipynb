{
 "cells": [
  {
   "cell_type": "code",
   "execution_count": 19,
   "id": "upper-river",
   "metadata": {},
   "outputs": [],
   "source": [
    "# Absrtaction :- It is nothing means to protacting your variable\n",
    "\n",
    "class test:\n",
    "    def __init__(self, a, b, c, d):\n",
    "        self._a = a\n",
    "        self.b = b # if you cant' find any underscore then it's a public variable\n",
    "        self.c = c\n",
    "        self.d = d\n",
    "        \n",
    "    def test_custome(self, v):\n",
    "        return v - self._a\n",
    "    \n",
    "    def __str__(self):\n",
    "        return \"This is my test code for abstraction\""
   ]
  },
  {
   "cell_type": "code",
   "execution_count": 20,
   "id": "controlling-dependence",
   "metadata": {},
   "outputs": [],
   "source": [
    "o = test(4,5,6,7)"
   ]
  },
  {
   "cell_type": "code",
   "execution_count": 21,
   "id": "prescription-season",
   "metadata": {},
   "outputs": [
    {
     "data": {
      "text/plain": [
       "3"
      ]
     },
     "execution_count": 21,
     "metadata": {},
     "output_type": "execute_result"
    }
   ],
   "source": [
    "o.test_custome(7)"
   ]
  },
  {
   "cell_type": "code",
   "execution_count": 22,
   "id": "published-creativity",
   "metadata": {},
   "outputs": [
    {
     "data": {
      "text/plain": [
       "4"
      ]
     },
     "execution_count": 22,
     "metadata": {},
     "output_type": "execute_result"
    }
   ],
   "source": [
    "o._a # if it's a single underscore(_) then it's protected variable"
   ]
  },
  {
   "cell_type": "code",
   "execution_count": 26,
   "id": "cardiac-arthur",
   "metadata": {},
   "outputs": [],
   "source": [
    "class test:\n",
    "    def __init__(self, a, b, c, d):\n",
    "        self.__a = a\n",
    "        self.b = b\n",
    "        self.c = c\n",
    "        self.d = d\n",
    "        \n",
    "    def test_custome(self, v):\n",
    "        return v - self.__a\n",
    "    \n",
    "    def __str__(self):\n",
    "        return \"This is my test code for abstraction\""
   ]
  },
  {
   "cell_type": "code",
   "execution_count": 27,
   "id": "relevant-classic",
   "metadata": {},
   "outputs": [],
   "source": [
    "o = test(4,5,6,7)"
   ]
  },
  {
   "cell_type": "code",
   "execution_count": 28,
   "id": "likely-africa",
   "metadata": {},
   "outputs": [
    {
     "data": {
      "text/plain": [
       "3"
      ]
     },
     "execution_count": 28,
     "metadata": {},
     "output_type": "execute_result"
    }
   ],
   "source": [
    "o.test_custome(7)"
   ]
  },
  {
   "cell_type": "code",
   "execution_count": 29,
   "id": "separated-examination",
   "metadata": {},
   "outputs": [
    {
     "ename": "AttributeError",
     "evalue": "'test' object has no attribute '__a'",
     "output_type": "error",
     "traceback": [
      "\u001b[0;31m---------------------------------------------------------------------------\u001b[0m",
      "\u001b[0;31mAttributeError\u001b[0m                            Traceback (most recent call last)",
      "\u001b[0;32m<ipython-input-29-1e42657c998a>\u001b[0m in \u001b[0;36m<module>\u001b[0;34m\u001b[0m\n\u001b[0;32m----> 1\u001b[0;31m \u001b[0mo\u001b[0m\u001b[0;34m.\u001b[0m\u001b[0m__a\u001b[0m\u001b[0;34m\u001b[0m\u001b[0;34m\u001b[0m\u001b[0m\n\u001b[0m",
      "\u001b[0;31mAttributeError\u001b[0m: 'test' object has no attribute '__a'"
     ]
    }
   ],
   "source": [
    "o.__a # if it has double underscore(__) then it's private variable"
   ]
  },
  {
   "cell_type": "code",
   "execution_count": 30,
   "id": "diverse-lincoln",
   "metadata": {},
   "outputs": [
    {
     "data": {
      "text/plain": [
       "4"
      ]
     },
     "execution_count": 30,
     "metadata": {},
     "output_type": "execute_result"
    }
   ],
   "source": [
    "o._test__a"
   ]
  },
  {
   "cell_type": "code",
   "execution_count": 33,
   "id": "western-chair",
   "metadata": {},
   "outputs": [
    {
     "data": {
      "text/plain": [
       "4"
      ]
     },
     "execution_count": 33,
     "metadata": {},
     "output_type": "execute_result"
    }
   ],
   "source": [
    "# Inheritance - Child-Parent RelationShip - will help you to reusablity of the code\n",
    "\n",
    "class test1(test): # test1 => child class, test => parent class\n",
    "    def __init__(self, j, *args):\n",
    "        super(test1,self).__init__(*args)\n",
    "        self.j = j\n",
    "        \n",
    "m = test1(4,5,6,7,8)\n",
    "m.b\n"
   ]
  },
  {
   "cell_type": "code",
   "execution_count": 34,
   "id": "lucky-motivation",
   "metadata": {},
   "outputs": [
    {
     "data": {
      "text/plain": [
       "4"
      ]
     },
     "execution_count": 34,
     "metadata": {},
     "output_type": "execute_result"
    }
   ],
   "source": [
    "m.j"
   ]
  },
  {
   "cell_type": "code",
   "execution_count": 35,
   "id": "abandoned-intent",
   "metadata": {},
   "outputs": [
    {
     "data": {
      "text/plain": [
       "3"
      ]
     },
     "execution_count": 35,
     "metadata": {},
     "output_type": "execute_result"
    }
   ],
   "source": [
    "m.test_custome(8)"
   ]
  },
  {
   "cell_type": "code",
   "execution_count": 36,
   "id": "emerging-tulsa",
   "metadata": {},
   "outputs": [
    {
     "data": {
      "text/plain": [
       "6"
      ]
     },
     "execution_count": 36,
     "metadata": {},
     "output_type": "execute_result"
    }
   ],
   "source": [
    "m.b"
   ]
  },
  {
   "cell_type": "code",
   "execution_count": 37,
   "id": "consolidated-dietary",
   "metadata": {},
   "outputs": [
    {
     "data": {
      "text/plain": [
       "7"
      ]
     },
     "execution_count": 37,
     "metadata": {},
     "output_type": "execute_result"
    }
   ],
   "source": [
    "m.c"
   ]
  },
  {
   "cell_type": "code",
   "execution_count": 38,
   "id": "modified-thriller",
   "metadata": {},
   "outputs": [
    {
     "data": {
      "text/plain": [
       "8"
      ]
     },
     "execution_count": 38,
     "metadata": {},
     "output_type": "execute_result"
    }
   ],
   "source": [
    "m.d"
   ]
  },
  {
   "cell_type": "code",
   "execution_count": 51,
   "id": "explicit-christianity",
   "metadata": {},
   "outputs": [
    {
     "name": "stdout",
     "output_type": "stream",
     "text": [
      "In calss test\n",
      "In calss test1\n",
      "In class test2\n",
      "In calss test\n"
     ]
    }
   ],
   "source": [
    "# Task :-\n",
    "# 1.create class test and test1 \n",
    "# 2.inherit test and test1 into test2 \n",
    "# 3.function a in test \n",
    "# 4.function a in test1 \n",
    "# 5.test2 should inherit function-a from test1 and test both \n",
    "\n",
    "class test:\n",
    "    def a(self):\n",
    "        print(\"In calss test\")\n",
    "        \n",
    "class test1:\n",
    "    def a(self):\n",
    "        print(\"In calss test1\")\n",
    "        \n",
    "class test2(test,test1):\n",
    "    t1 = test()\n",
    "    t1.a()\n",
    "    t2 = test1()\n",
    "    t2.a()\n",
    "    print(\"In class test2\")\n",
    "\n",
    "t2 = test2()\n",
    "t2.a()"
   ]
  },
  {
   "cell_type": "code",
   "execution_count": 53,
   "id": "senior-engagement",
   "metadata": {},
   "outputs": [
    {
     "name": "stdout",
     "output_type": "stream",
     "text": [
      "In calss test\n",
      "In calss test1\n"
     ]
    }
   ],
   "source": [
    "# Task :-\n",
    "# 1.create class test and test1 \n",
    "# 2.inherit test and test1 into test2 \n",
    "# 3.function a in test \n",
    "# 4.function a in test1 \n",
    "# 5.test2 should inherit function-a from test1 and test both \n",
    "\n",
    "class test:\n",
    "    def a(self):\n",
    "        print(\"In calss test\")\n",
    "        \n",
    "class test1:\n",
    "    def a(self):\n",
    "        print(\"In calss test1\")\n",
    "        \n",
    "class test2():\n",
    "    t1 = test()\n",
    "    t1.a()\n",
    "    t2 = test1()\n",
    "    t2.a()\n",
    "    #print(\"In class test2\")\n",
    "\n",
    "t2 = test2()\n"
   ]
  },
  {
   "cell_type": "code",
   "execution_count": 1,
   "id": "commercial-swaziland",
   "metadata": {},
   "outputs": [],
   "source": [
    "class testa:\n",
    "    def __init__(self,a,b,c,d):\n",
    "        self.__a=a\n",
    "        self.b=b\n",
    "        self.c=c\n",
    "        self.d=d\n",
    "    def test_customer(self,v):\n",
    "        return v - self.__a\n",
    "class testb:\n",
    "    def __init__(self,a,b,c,d):\n",
    "        self.__a=a\n",
    "        self.b=b\n",
    "        self.c=c\n",
    "        self.d=d\n",
    "    def test_customer(self,v):\n",
    "        return v - self.b\n",
    "    \n",
    "class testc(testa,testb):\n",
    "    def __init__ (self, j, *args):\n",
    "        super(testa, self).__init__(*args)\n",
    "        self.j= j\n",
    "    def __init__ (self, k, *args):\n",
    "        super(testb, self).__init__(*args)\n",
    "        self.k= k\n"
   ]
  },
  {
   "cell_type": "code",
   "execution_count": 2,
   "id": "solar-watershed",
   "metadata": {},
   "outputs": [
    {
     "name": "stdout",
     "output_type": "stream",
     "text": [
      "This is class Test\n",
      "This is class Test1\n"
     ]
    }
   ],
   "source": [
    "class Test:\n",
    "    def a(self):\n",
    "        return \"This is class Test\"\n",
    "\n",
    "class Test1:\n",
    "    def a(self):\n",
    "        return \"This is class Test1\"\n",
    "\n",
    "class Test2(Test, Test1):\n",
    "    \"\"\"Test class methods overrides Test1 class methods\"\"\"\n",
    "    pass\n",
    "\n",
    "t2 = Test2()\n",
    "print(t2.a())\n",
    "\n",
    "class Test2(Test1, Test):\n",
    "    \"\"\"Test1 class methods overrides Test class methods\"\"\"\n",
    "    pass\n",
    "\n",
    "t2_ = Test2()\n",
    "print(t2_.a())\n"
   ]
  },
  {
   "cell_type": "code",
   "execution_count": 3,
   "id": "judicial-toilet",
   "metadata": {},
   "outputs": [],
   "source": [
    "class A:\n",
    "    def a(self):\n",
    "        return \"This is A ==> a method\"\n",
    "\n",
    "class B: \n",
    "    def a(self):\n",
    "        return \"This is B ==> a method\"\n",
    "\n",
    "class C(A,B):\n",
    "    def a(self):\n",
    "        return super(A,self).a()\n",
    "    \n",
    "    def a(self):\n",
    "        return super(B,self).a()\n"
   ]
  },
  {
   "cell_type": "code",
   "execution_count": 4,
   "id": "secret-cancellation",
   "metadata": {},
   "outputs": [
    {
     "ename": "AttributeError",
     "evalue": "'super' object has no attribute 'a'",
     "output_type": "error",
     "traceback": [
      "\u001b[0;31m---------------------------------------------------------------------------\u001b[0m",
      "\u001b[0;31mAttributeError\u001b[0m                            Traceback (most recent call last)",
      "\u001b[0;32m<ipython-input-4-ecc19922f645>\u001b[0m in \u001b[0;36m<module>\u001b[0;34m\u001b[0m\n\u001b[1;32m      1\u001b[0m \u001b[0mc\u001b[0m\u001b[0;34m=\u001b[0m \u001b[0mC\u001b[0m\u001b[0;34m(\u001b[0m\u001b[0;34m)\u001b[0m\u001b[0;34m\u001b[0m\u001b[0;34m\u001b[0m\u001b[0m\n\u001b[0;32m----> 2\u001b[0;31m \u001b[0mc\u001b[0m\u001b[0;34m.\u001b[0m\u001b[0ma\u001b[0m\u001b[0;34m(\u001b[0m\u001b[0;34m)\u001b[0m\u001b[0;34m\u001b[0m\u001b[0;34m\u001b[0m\u001b[0m\n\u001b[0m",
      "\u001b[0;32m<ipython-input-3-644af212cc6c>\u001b[0m in \u001b[0;36ma\u001b[0;34m(self)\u001b[0m\n\u001b[1;32m     12\u001b[0m \u001b[0;34m\u001b[0m\u001b[0m\n\u001b[1;32m     13\u001b[0m     \u001b[0;32mdef\u001b[0m \u001b[0ma\u001b[0m\u001b[0;34m(\u001b[0m\u001b[0mself\u001b[0m\u001b[0;34m)\u001b[0m\u001b[0;34m:\u001b[0m\u001b[0;34m\u001b[0m\u001b[0;34m\u001b[0m\u001b[0m\n\u001b[0;32m---> 14\u001b[0;31m         \u001b[0;32mreturn\u001b[0m \u001b[0msuper\u001b[0m\u001b[0;34m(\u001b[0m\u001b[0mB\u001b[0m\u001b[0;34m,\u001b[0m\u001b[0mself\u001b[0m\u001b[0;34m)\u001b[0m\u001b[0;34m.\u001b[0m\u001b[0ma\u001b[0m\u001b[0;34m(\u001b[0m\u001b[0;34m)\u001b[0m\u001b[0;34m\u001b[0m\u001b[0;34m\u001b[0m\u001b[0m\n\u001b[0m",
      "\u001b[0;31mAttributeError\u001b[0m: 'super' object has no attribute 'a'"
     ]
    }
   ],
   "source": [
    "c= C()\n",
    "c.a()"
   ]
  },
  {
   "cell_type": "code",
   "execution_count": 5,
   "id": "express-child",
   "metadata": {},
   "outputs": [],
   "source": [
    "class test:\n",
    "    def a():\n",
    "        return \"This belongs to test\"\n",
    "\n",
    "class test1:\n",
    "    def a():\n",
    "        return \"This belongs to test1\"\n",
    "\n",
    "class test2(test,test1):\n",
    "    def e():\n",
    "        super(test).a()\n",
    "    def j():\n",
    "        super(test1).a()\n"
   ]
  },
  {
   "cell_type": "code",
   "execution_count": 6,
   "id": "alert-artwork",
   "metadata": {},
   "outputs": [],
   "source": [
    "t = test2()"
   ]
  },
  {
   "cell_type": "code",
   "execution_count": 7,
   "id": "cardiovascular-outreach",
   "metadata": {},
   "outputs": [
    {
     "ename": "TypeError",
     "evalue": "e() takes 0 positional arguments but 1 was given",
     "output_type": "error",
     "traceback": [
      "\u001b[0;31m---------------------------------------------------------------------------\u001b[0m",
      "\u001b[0;31mTypeError\u001b[0m                                 Traceback (most recent call last)",
      "\u001b[0;32m<ipython-input-7-e5fcf2b8fc1f>\u001b[0m in \u001b[0;36m<module>\u001b[0;34m\u001b[0m\n\u001b[0;32m----> 1\u001b[0;31m \u001b[0mt\u001b[0m\u001b[0;34m.\u001b[0m\u001b[0me\u001b[0m\u001b[0;34m(\u001b[0m\u001b[0;34m)\u001b[0m\u001b[0;34m\u001b[0m\u001b[0;34m\u001b[0m\u001b[0m\n\u001b[0m",
      "\u001b[0;31mTypeError\u001b[0m: e() takes 0 positional arguments but 1 was given"
     ]
    }
   ],
   "source": [
    "t.e()"
   ]
  },
  {
   "cell_type": "code",
   "execution_count": 8,
   "id": "settled-voluntary",
   "metadata": {},
   "outputs": [
    {
     "name": "stdout",
     "output_type": "stream",
     "text": [
      "function a from class test\n",
      "function a from class test1\n"
     ]
    }
   ],
   "source": [
    "class test:\n",
    "    \n",
    "    def a(self):\n",
    "        print('function a from class test')\n",
    "\n",
    "class test1:\n",
    "    def a(self):\n",
    "        print('function a from class test1')\n",
    "\n",
    "class test2():\n",
    "    def a(self):\n",
    "        test.a(self)\n",
    "        test1.a(self)\n",
    "        \n",
    "t = test2()\n",
    "t.a()"
   ]
  },
  {
   "cell_type": "code",
   "execution_count": 9,
   "id": "faced-reproduction",
   "metadata": {},
   "outputs": [
    {
     "name": "stdout",
     "output_type": "stream",
     "text": [
      "This is from class test\n"
     ]
    }
   ],
   "source": [
    "class test:\n",
    "   \n",
    "    def a(self):\n",
    "        print(\"This is from class test\")\n",
    "        \n",
    "class test1:\n",
    "    \n",
    "    def a(self):\n",
    "        print(\"This is from class test1\")\n",
    "        \n",
    "\n",
    "        \n",
    "class test2(test,test1):\n",
    "    def a(self):\n",
    "        super(test2,self).a()\n",
    "        \n",
    "    \n",
    "    \n",
    "    \n",
    "t2=test2()\n",
    "t2.a()\n"
   ]
  },
  {
   "cell_type": "code",
   "execution_count": 10,
   "id": "interior-flush",
   "metadata": {},
   "outputs": [
    {
     "name": "stdout",
     "output_type": "stream",
     "text": [
      "test2\n",
      "this belongs to test\n",
      "this belongs to test1\n"
     ]
    }
   ],
   "source": [
    "class test:\n",
    "    def a(self):\n",
    "        print(\"this belongs to test\")\n",
    "class test1:\n",
    "    def a(self):\n",
    "        print(\"this belongs to test1\")\n",
    "        \n",
    "        \n",
    "class test2(test,test1):\n",
    "    def c(self):\n",
    "        print(\"test2\")\n",
    "obj = test2()\n",
    "obj.c()\n",
    "obj.a()\n",
    "test1.a(obj)\n"
   ]
  },
  {
   "cell_type": "code",
   "execution_count": 11,
   "id": "atlantic-symposium",
   "metadata": {},
   "outputs": [
    {
     "name": "stdout",
     "output_type": "stream",
     "text": [
      "this a function of class test\n",
      "this a function of class test1\n"
     ]
    }
   ],
   "source": [
    "class test:\n",
    "    def a(self):\n",
    "        return 'this a function of class test'\n",
    "ob1=test()\n",
    "\n",
    "class test1:\n",
    "    def a(self):\n",
    "        return 'this a function of class test1'\n",
    "ob2=test1()\n",
    "\n",
    "\n",
    "\n",
    "class test2(test,test1):\n",
    "    def x(self):\n",
    "        return ob1.a(),ob2.a()\n",
    "    \n",
    "ob3=test2()\n",
    "c1,c2=ob3.x()\n",
    "print(c1)\n",
    "print(c2)\n"
   ]
  },
  {
   "cell_type": "code",
   "execution_count": 12,
   "id": "diagnostic-terminal",
   "metadata": {},
   "outputs": [
    {
     "ename": "TypeError",
     "evalue": "m() missing 1 required positional argument: 'self'",
     "output_type": "error",
     "traceback": [
      "\u001b[0;31m---------------------------------------------------------------------------\u001b[0m",
      "\u001b[0;31mTypeError\u001b[0m                                 Traceback (most recent call last)",
      "\u001b[0;32m<ipython-input-12-08c16ed09cfe>\u001b[0m in \u001b[0;36m<module>\u001b[0;34m\u001b[0m\n\u001b[1;32m     16\u001b[0m \u001b[0;34m\u001b[0m\u001b[0m\n\u001b[1;32m     17\u001b[0m \u001b[0;34m\u001b[0m\u001b[0m\n\u001b[0;32m---> 18\u001b[0;31m \u001b[0mClass4\u001b[0m\u001b[0;34m.\u001b[0m\u001b[0mm\u001b[0m\u001b[0;34m(\u001b[0m\u001b[0;34m)\u001b[0m\u001b[0;34m\u001b[0m\u001b[0;34m\u001b[0m\u001b[0m\n\u001b[0m",
      "\u001b[0;31mTypeError\u001b[0m: m() missing 1 required positional argument: 'self'"
     ]
    }
   ],
   "source": [
    "class Class1:\n",
    "    def m(self):\n",
    "        print(\"In Class1\")\n",
    "  \n",
    "\n",
    "class Class2(Class1):\n",
    "    def m(self):\n",
    "        print(\"In Class2\")\n",
    "        super().m()\n",
    "  \n",
    " \n",
    "class Class4(Class2, Class1):\n",
    "        def m(self):\n",
    "            print(\"In Class4\")   \n",
    "            super().m()\n",
    "    \n",
    "\n",
    "Class4.m()\n"
   ]
  },
  {
   "cell_type": "code",
   "execution_count": 13,
   "id": "effective-library",
   "metadata": {},
   "outputs": [
    {
     "name": "stdout",
     "output_type": "stream",
     "text": [
      "In Class test\n",
      "In Class test1\n"
     ]
    }
   ],
   "source": [
    "class test:\n",
    "\tdef A(self):\n",
    "\t\tprint(\"In Class test\")\n",
    "\t\t\n",
    "class test1(test):\n",
    "\tdef A(self):\n",
    "\t\tprint(\"In Class test1\")\n",
    "\n",
    "class test2(test1):\n",
    "    pass\n",
    "\n",
    "obj = test2()\n",
    "test.A(obj)\n",
    "test1.A(obj)"
   ]
  },
  {
   "cell_type": "code",
   "execution_count": 14,
   "id": "collective-manor",
   "metadata": {},
   "outputs": [
    {
     "name": "stdout",
     "output_type": "stream",
     "text": [
      "iNeuron Company was established in 2018\n"
     ]
    }
   ],
   "source": [
    "class Ineuron:\n",
    "    company_website = 'https://ineuron.ai/'\n",
    "    name = 'iNeuron'\n",
    " \n",
    "    def contact_details(self):\n",
    "        print('Contact us at ', self.company_website)\n",
    " \n",
    " \n",
    "class Datascience(Ineuron):\n",
    "    def __init__(self):\n",
    "        self.year_of_establishment= 2018\n",
    " \n",
    "    def est_details(self):\n",
    "        print('{0} Company was established in {1}'\n",
    "              .format(self.name,self.year_of_establishment))\n",
    " \n",
    " \n",
    "ds = Datascience()\n",
    "ds.est_details()"
   ]
  },
  {
   "cell_type": "code",
   "execution_count": 16,
   "id": "naked-segment",
   "metadata": {},
   "outputs": [
    {
     "name": "stdout",
     "output_type": "stream",
     "text": [
      "multi_task\n",
      "Name: urvi\n"
     ]
    }
   ],
   "source": [
    "class OS:\n",
    "    multi_task = True\n",
    "    os_name = 'Windows OS'\n",
    "    name = \"urvi\"\n",
    " \n",
    " \n",
    "class windows(OS, Ineuron):\n",
    "    def __init__(self):\n",
    "        if self.multi_task is True:\n",
    "            print('multi_task')\n",
    "        print('Name: {}'.format(self.name))\n",
    " \n",
    " \n",
    "windows = windows()\n",
    " "
   ]
  },
  {
   "cell_type": "code",
   "execution_count": 17,
   "id": "everyday-pottery",
   "metadata": {},
   "outputs": [
    {
     "name": "stdout",
     "output_type": "stream",
     "text": [
      "multi_task\n",
      "Name: iNeuron\n"
     ]
    }
   ],
   "source": [
    "class windows(Ineuron,OS):\n",
    "    def __init__(self):\n",
    "        if self.multi_task is True:\n",
    "            print('multi_task')\n",
    "        print('Name: {}'.format(self.name))\n",
    " \n",
    " \n",
    "windows = windows()"
   ]
  },
  {
   "cell_type": "code",
   "execution_count": 18,
   "id": "alive-employee",
   "metadata": {},
   "outputs": [
    {
     "name": "stdout",
     "output_type": "stream",
     "text": [
      "The company iNeuron offers total 12 different types of courses. Most trending course is Data-Science\n"
     ]
    }
   ],
   "source": [
    "class iNeuron:\n",
    "    num_of_courses = 12\n",
    " \n",
    " \n",
    "class Datascience(iNeuron):\n",
    "    course_type = 'Data-Science'\n",
    " \n",
    " \n",
    "class AI(Datascience):\n",
    "    def __init__(self):\n",
    "        self.company = \"iNeuron\"\n",
    "        print('The company {0} offers total {1} different types of courses. Most trending course is {2}'.format(self.company,self.num_of_courses,self.course_type))\n",
    " \n",
    " \n",
    "AI = AI()"
   ]
  },
  {
   "cell_type": "code",
   "execution_count": 64,
   "id": "phantom-liberal",
   "metadata": {},
   "outputs": [],
   "source": [
    "# Encapsulation - Wrapping of an object \n",
    "\n",
    "class test:\n",
    "    def __init__(self,a,b,c):\n",
    "        self.a = a\n",
    "        self.b = b\n",
    "        self.c = c\n",
    "        \n",
    "    def __str__(self):\n",
    "        return \"This the return from my test class\"\n",
    "    \n",
    "class test1:\n",
    "    def __init__(self,a,b,c):\n",
    "        self.a = a\n",
    "        self.b = b\n",
    "        self.c = c\n",
    "        \n",
    "    def __str__(self):\n",
    "        return \"This the return from my test1 class\"\n",
    "    \n",
    "class test2:\n",
    "    def __init__(self,a,b,c):\n",
    "        self.a = a\n",
    "        self.b = b\n",
    "        self.c = c\n",
    "        \n",
    "    def __str__(self):\n",
    "        return \"This the return from my test2 class\"\n",
    "    \n",
    "class final:\n",
    "    def __init__(self,x,y,z):\n",
    "        self.x = x\n",
    "        self.y = y\n",
    "        self.z = z\n",
    "        \n",
    "    def __str__(self):\n",
    "        return str(self.x) + \"   \"  + str(self.y) + \"  \" +str(self.z)"
   ]
  },
  {
   "cell_type": "code",
   "execution_count": 65,
   "id": "binding-alignment",
   "metadata": {},
   "outputs": [],
   "source": [
    "t = test(4,5,6)\n",
    "t1 = test1(3,4,5)\n",
    "t2 = test2(5,6,7)\n",
    "\n",
    "f = final(t,t1,t2)"
   ]
  },
  {
   "cell_type": "code",
   "execution_count": 66,
   "id": "automotive-psychology",
   "metadata": {},
   "outputs": [
    {
     "name": "stdout",
     "output_type": "stream",
     "text": [
      "This the return from my test class   This the return from my test1 class  This the return from my test2 class\n"
     ]
    }
   ],
   "source": [
    "print(f)"
   ]
  },
  {
   "cell_type": "code",
   "execution_count": 67,
   "id": "bizarre-symposium",
   "metadata": {},
   "outputs": [],
   "source": [
    "t = test(4,5,6)\n",
    "t1 = test1(3,4,5)\n",
    "t2 = test2(5,6,7)\n",
    "\n",
    "f = final(t,t1,\"urvi\")"
   ]
  },
  {
   "cell_type": "code",
   "execution_count": 68,
   "id": "mysterious-grocery",
   "metadata": {},
   "outputs": [
    {
     "name": "stdout",
     "output_type": "stream",
     "text": [
      "This the return from my test class   This the return from my test1 class  urvi\n"
     ]
    }
   ],
   "source": [
    "print(f)"
   ]
  },
  {
   "cell_type": "code",
   "execution_count": 19,
   "id": "atmospheric-plane",
   "metadata": {},
   "outputs": [
    {
     "name": "stdout",
     "output_type": "stream",
     "text": [
      "Tyres: \n",
      " \tBranch: Pirelli\n",
      " \tBelted-bias: True\n",
      " \tOptimal pressure: 2.0\n",
      "Engine: \n",
      " \tFuel type: Diesel\n",
      " \tNoise level:3\n",
      "Body:\n",
      " \tSize: Medium toyota\n"
     ]
    }
   ],
   "source": [
    "class Tyres:\n",
    "    def __init__(self, branch, belted_bias, opt_pressure):\n",
    "        self.branch = branch\n",
    "        self.belted_bias = belted_bias\n",
    "        self.opt_pressure = opt_pressure\n",
    "        \n",
    "    def __str__(self):\n",
    "        return (\"Tyres: \\n \\tBranch: \" + self.branch +\n",
    "               \"\\n \\tBelted-bias: \" + str(self.belted_bias) + \n",
    "               \"\\n \\tOptimal pressure: \" + str(self.opt_pressure))\n",
    "        \n",
    "class Engine:\n",
    "    def __init__(self, fuel_type, noise_level):\n",
    "        self.fuel_type = fuel_type\n",
    "        self.noise_level = noise_level\n",
    "        \n",
    "    def __str__(self):\n",
    "        return (\"Engine: \\n \\tFuel type: \" + self.fuel_type +\n",
    "                \"\\n \\tNoise level:\" + str(self.noise_level))\n",
    "        \n",
    "class Body:\n",
    "    def __init__(self, size):\n",
    "        self.size = size\n",
    "        \n",
    "    def __str__(self):\n",
    "        return \"Body:\\n \\tSize: \" + self.size\n",
    "        \n",
    "class Car:\n",
    "    def __init__(self,name ,  tyres, engine, body):\n",
    "        self.name = name \n",
    "        self.tyres = tyres\n",
    "        self.engine = engine\n",
    "        self.body = body\n",
    "        \n",
    "    def __str__(self):\n",
    "        return str(self.tyres) + \"\\n\" + str(self.engine) + \"\\n\" + str(self.body) + \" \" + str(self.name)\n",
    "\n",
    "        \n",
    "t = Tyres('Pirelli', True, 2.0)\n",
    "e = Engine('Diesel', 3)\n",
    "b = Body('Medium')\n",
    "c = Car(\"toyota\",t, e, b)\n",
    "print(c)"
   ]
  },
  {
   "cell_type": "code",
   "execution_count": null,
   "id": "insured-argument",
   "metadata": {},
   "outputs": [],
   "source": []
  },
  {
   "cell_type": "code",
   "execution_count": 1,
   "id": "pregnant-minneapolis",
   "metadata": {},
   "outputs": [
    {
     "name": "stdout",
     "output_type": "stream",
     "text": [
      "10\n"
     ]
    }
   ],
   "source": [
    "# Inheritance\n",
    "\n",
    "class parent:\n",
    "    a = 10\n",
    "    b = 40\n",
    "    \n",
    "    def __init__(self, parent_a, parent_b):\n",
    "        self.parent_a = parent_a\n",
    "        self.parent_b = parent_b\n",
    "        \n",
    "class child(parent):\n",
    "    print(parent.a)"
   ]
  },
  {
   "cell_type": "code",
   "execution_count": 20,
   "id": "normal-rocket",
   "metadata": {},
   "outputs": [],
   "source": [
    "class parent :\n",
    "    \n",
    "    a = 10 \n",
    "    b = 40 \n",
    "    \n",
    "    def __init__(self,parent_a , parent_b):\n",
    "        self.parent_a = parent_a\n",
    "        self.parent_b = parent_b\n",
    "        \n",
    "class child(parent):\n",
    "    def __init__(self, *args):\n",
    "        super(child,self).__init__(*args)"
   ]
  },
  {
   "cell_type": "code",
   "execution_count": 21,
   "id": "elder-incentive",
   "metadata": {},
   "outputs": [
    {
     "name": "stdout",
     "output_type": "stream",
     "text": [
      "Kudrjavka is a Laika born in 1954.\n"
     ]
    }
   ],
   "source": [
    "class Dog:\n",
    "    def __init__(self, name, year_of_birth, breed):\n",
    "        self._name = name\n",
    "        self._year_of_birth = year_of_birth\n",
    "        self._breed = breed\n",
    "\n",
    "    def __str__(self):\n",
    "        return \"%s is a %s born in %d.\" % (self._name, self._breed, self._year_of_birth)\n",
    "\n",
    "kudrjavka = Dog(\"Kudrjavka\", 1954, \"Laika\")\n",
    "dog1 = Dog(\"german\" ,565 , \"coco\")\n",
    "dog2= Dog(\"german\" ,565 , \"coco\")\n",
    "dog3= Dog(\"german\" ,565 , \"coco\")\n",
    "dog4= Dog(\"german\" ,565 , \"coco\")\n",
    "dog5 = Dog(\"german\" ,565 , \"coco\")\n",
    "\n",
    "dog6= Dog(\"german\" ,565 , \"coco\")\n",
    "\n",
    "\n",
    "print(kudrjavka)"
   ]
  },
  {
   "cell_type": "code",
   "execution_count": 12,
   "id": "reserved-distribution",
   "metadata": {},
   "outputs": [],
   "source": [
    "class Student:\n",
    "    def __init__(self,name,student_id, school_name, address):\n",
    "        self.name = name\n",
    "        self.student_id = student_id\n",
    "        self.school_name =  school_name\n",
    "        self.address = address\n",
    "        \n",
    "    def __str__(self):\n",
    "        return str(self.name) + \"  \" + str(self.student_id) + \"  \" + str(self.school_name) + \"  \" + str(self.address)"
   ]
  },
  {
   "cell_type": "code",
   "execution_count": 13,
   "id": "useful-million",
   "metadata": {},
   "outputs": [],
   "source": [
    "stu = Student(\"urvi\", 123, \"VVHS\", \"India\")"
   ]
  },
  {
   "cell_type": "code",
   "execution_count": 14,
   "id": "alone-immunology",
   "metadata": {},
   "outputs": [
    {
     "name": "stdout",
     "output_type": "stream",
     "text": [
      "urvi  123  VVHS  India\n"
     ]
    }
   ],
   "source": [
    "print(stu)"
   ]
  },
  {
   "cell_type": "code",
   "execution_count": 15,
   "id": "regulation-international",
   "metadata": {},
   "outputs": [
    {
     "name": "stdout",
     "output_type": "stream",
     "text": [
      "Test is a t1 born in 1954.  45  dog_ab  afdaf\n"
     ]
    }
   ],
   "source": [
    "# Encapsulation\n",
    "\n",
    "dog = Student(abc,45,\"dog_ab\", \"afdaf\")\n",
    "print(dog)"
   ]
  },
  {
   "cell_type": "code",
   "execution_count": 19,
   "id": "colored-recruitment",
   "metadata": {},
   "outputs": [
    {
     "name": "stdout",
     "output_type": "stream",
     "text": [
      "German is a coco born in 565.  45  dog_ab  afdaf\n"
     ]
    }
   ],
   "source": [
    "dog1 = Student(dog1,45,\"dog_ab\", \"afdaf\")\n",
    "print(dog1)"
   ]
  },
  {
   "cell_type": "code",
   "execution_count": 22,
   "id": "impressed-championship",
   "metadata": {},
   "outputs": [],
   "source": [
    "class BonusDistribution:\n",
    "    \n",
    "    def __init__ (self,employeeId, employeeRating):\n",
    "    \n",
    "        self.empId = employeeId\n",
    "        self.empRating = employeeRating\n",
    "        self.__bonusforRatingA = \"70%\"  #making value private\n",
    "        self.__bonusforRatingB = \"60%\"  #making value private\n",
    "        self.__bonusforRatingC = \"50%\"  #making value private\n",
    "        self.__bonusforRatingD = \"30%\"  #making value private\n",
    "        self.__bonusforRatingForRest = \"No Bonus\" #making value private\n",
    "        \n",
    "        \n",
    "    def bonusCalculator(self):\n",
    "        \n",
    "        if self.empRating == 'A':\n",
    "            bonus = self.__bonusforRatingA\n",
    "            msg = \"Bonus for this employee is :\"+ bonus\n",
    "            return msg\n",
    "        elif self.empRating == 'B':\n",
    "            bonus = self.__bonusforRatingB\n",
    "            msg = \"Bonus for this employee is :\"+ bonus\n",
    "            return msg\n",
    "        elif self.empRating == 'C':\n",
    "            bonus = self.__bonusforRatingC\n",
    "            msg = \"Bonus for this employee is :\"+ bonus\n",
    "            return msg\n",
    "        elif self.empRating == 'D':\n",
    "            bonus = self.__bonusforRatingD\n",
    "            msg = \"Bonus for this employee is :\"+ bonus\n",
    "            return msg\n",
    "        else:\n",
    "            bonus = self.__bonusforRatingForRest\n",
    "            msg = \"Bonus for this employee is :\"+ bonus\n",
    "            return msg\n",
    "        \n",
    "    def __changevariable(self , value) : \n",
    "         self.__bonusforRatingB = value"
   ]
  },
  {
   "cell_type": "code",
   "execution_count": 23,
   "id": "swiss-lecture",
   "metadata": {},
   "outputs": [],
   "source": [
    "emp1 = BonusDistribution(1232,'B')\n",
    "emp2 = BonusDistribution(1342,'B')\n",
    "emp3 = BonusDistribution(1031,'E')"
   ]
  },
  {
   "cell_type": "code",
   "execution_count": 24,
   "id": "surprised-jesus",
   "metadata": {},
   "outputs": [],
   "source": [
    "emp2._BonusDistribution__changevariable(\"67%\")"
   ]
  },
  {
   "cell_type": "code",
   "execution_count": 25,
   "id": "optical-collect",
   "metadata": {},
   "outputs": [
    {
     "data": {
      "text/plain": [
       "'Bonus for this employee is :67%'"
      ]
     },
     "execution_count": 25,
     "metadata": {},
     "output_type": "execute_result"
    }
   ],
   "source": [
    "emp2.bonusCalculator()"
   ]
  },
  {
   "cell_type": "code",
   "execution_count": 26,
   "id": "charitable-confidence",
   "metadata": {},
   "outputs": [
    {
     "data": {
      "text/plain": [
       "'Bonus for this employee is :60%'"
      ]
     },
     "execution_count": 26,
     "metadata": {},
     "output_type": "execute_result"
    }
   ],
   "source": [
    "emp1.bonusCalculator()"
   ]
  },
  {
   "cell_type": "code",
   "execution_count": 27,
   "id": "grand-diana",
   "metadata": {},
   "outputs": [],
   "source": [
    "emp1._BonusDistribution__bonusforRatingB = \"90%\""
   ]
  },
  {
   "cell_type": "code",
   "execution_count": 28,
   "id": "surprising-impact",
   "metadata": {},
   "outputs": [
    {
     "data": {
      "text/plain": [
       "'Bonus for this employee is :90%'"
      ]
     },
     "execution_count": 28,
     "metadata": {},
     "output_type": "execute_result"
    }
   ],
   "source": [
    "emp1.bonusCalculator()"
   ]
  },
  {
   "cell_type": "code",
   "execution_count": 31,
   "id": "inner-poison",
   "metadata": {},
   "outputs": [
    {
     "ename": "AttributeError",
     "evalue": "'BonusDistribution' object has no attribute 'changevariable'",
     "output_type": "error",
     "traceback": [
      "\u001b[0;31m---------------------------------------------------------------------------\u001b[0m",
      "\u001b[0;31mAttributeError\u001b[0m                            Traceback (most recent call last)",
      "\u001b[0;32m<ipython-input-31-247605194732>\u001b[0m in \u001b[0;36m<module>\u001b[0;34m\u001b[0m\n\u001b[0;32m----> 1\u001b[0;31m \u001b[0memp1\u001b[0m\u001b[0;34m.\u001b[0m\u001b[0mchangevariable\u001b[0m\u001b[0;34m(\u001b[0m\u001b[0;34m\"85%\"\u001b[0m\u001b[0;34m)\u001b[0m\u001b[0;34m\u001b[0m\u001b[0;34m\u001b[0m\u001b[0m\n\u001b[0m",
      "\u001b[0;31mAttributeError\u001b[0m: 'BonusDistribution' object has no attribute 'changevariable'"
     ]
    }
   ],
   "source": [
    "emp1.changevariable(\"85%\")"
   ]
  },
  {
   "cell_type": "code",
   "execution_count": 32,
   "id": "stopped-theory",
   "metadata": {},
   "outputs": [
    {
     "data": {
      "text/plain": [
       "'Bonus for this employee is :90%'"
      ]
     },
     "execution_count": 32,
     "metadata": {},
     "output_type": "execute_result"
    }
   ],
   "source": [
    "emp1.bonusCalculator()"
   ]
  },
  {
   "cell_type": "code",
   "execution_count": 33,
   "id": "dependent-gossip",
   "metadata": {},
   "outputs": [
    {
     "data": {
      "text/plain": [
       "'Bonus for this employee is :67%'"
      ]
     },
     "execution_count": 33,
     "metadata": {},
     "output_type": "execute_result"
    }
   ],
   "source": [
    "emp2.bonusCalculator()"
   ]
  },
  {
   "cell_type": "code",
   "execution_count": 34,
   "id": "annual-litigation",
   "metadata": {},
   "outputs": [],
   "source": [
    "emp1 = BonusDistribution(1232,'B')\n",
    "emp2 = BonusDistribution(1342,'B')"
   ]
  },
  {
   "cell_type": "code",
   "execution_count": null,
   "id": "saved-litigation",
   "metadata": {},
   "outputs": [],
   "source": [
    "print()"
   ]
  },
  {
   "cell_type": "code",
   "execution_count": 20,
   "id": "covered-submission",
   "metadata": {},
   "outputs": [],
   "source": [
    "class multiplynumeric():\n",
    "    def __init__(self, a):\n",
    "        self.a = a"
   ]
  },
  {
   "cell_type": "code",
   "execution_count": 21,
   "id": "boxed-vegetation",
   "metadata": {},
   "outputs": [],
   "source": [
    "mul = multiplynumeric(9)\n",
    "mul1 = multiplynumeric(2)"
   ]
  },
  {
   "cell_type": "code",
   "execution_count": 22,
   "id": "democratic-stereo",
   "metadata": {},
   "outputs": [
    {
     "data": {
      "text/plain": [
       "18"
      ]
     },
     "execution_count": 22,
     "metadata": {},
     "output_type": "execute_result"
    }
   ],
   "source": [
    "mul.a * mul1.a"
   ]
  },
  {
   "cell_type": "code",
   "execution_count": 27,
   "id": "fatty-architecture",
   "metadata": {},
   "outputs": [],
   "source": [
    "class multiplynumeric():\n",
    "    def __init__(self, a):\n",
    "        self.a = a\n",
    "        \n",
    "    def __mul__(self, other):\n",
    "        \n",
    "        return self.a * other.a"
   ]
  },
  {
   "cell_type": "code",
   "execution_count": 28,
   "id": "timely-motel",
   "metadata": {},
   "outputs": [],
   "source": [
    "mul = multiplynumeric(10)\n",
    "mul1 = multiplynumeric(2)"
   ]
  },
  {
   "cell_type": "code",
   "execution_count": 29,
   "id": "official-gasoline",
   "metadata": {},
   "outputs": [
    {
     "data": {
      "text/plain": [
       "20"
      ]
     },
     "execution_count": 29,
     "metadata": {},
     "output_type": "execute_result"
    }
   ],
   "source": [
    "mul * mul1"
   ]
  },
  {
   "cell_type": "code",
   "execution_count": 32,
   "id": "female-suite",
   "metadata": {},
   "outputs": [
    {
     "ename": "TypeError",
     "evalue": "unsupported operand type(s) for +: 'multiplynumeric' and 'multiplynumeric'",
     "output_type": "error",
     "traceback": [
      "\u001b[0;31m---------------------------------------------------------------------------\u001b[0m",
      "\u001b[0;31mTypeError\u001b[0m                                 Traceback (most recent call last)",
      "\u001b[0;32m<ipython-input-32-8f62515cc26a>\u001b[0m in \u001b[0;36m<module>\u001b[0;34m\u001b[0m\n\u001b[0;32m----> 1\u001b[0;31m \u001b[0mmul\u001b[0m \u001b[0;34m+\u001b[0m \u001b[0mmul1\u001b[0m\u001b[0;34m\u001b[0m\u001b[0;34m\u001b[0m\u001b[0m\n\u001b[0m",
      "\u001b[0;31mTypeError\u001b[0m: unsupported operand type(s) for +: 'multiplynumeric' and 'multiplynumeric'"
     ]
    }
   ],
   "source": [
    "mul + mul1"
   ]
  },
  {
   "cell_type": "code",
   "execution_count": 33,
   "id": "irish-corps",
   "metadata": {},
   "outputs": [],
   "source": [
    "class multiplynumeric():\n",
    "    def __init__(self, a):\n",
    "        self.a = a\n",
    "        \n",
    "    def __mul__(self, other):\n",
    "        \n",
    "        return self.a + other.a"
   ]
  },
  {
   "cell_type": "code",
   "execution_count": 36,
   "id": "honey-township",
   "metadata": {},
   "outputs": [],
   "source": [
    "mul = multiplynumeric(10)\n",
    "mul1 = multiplynumeric(2)"
   ]
  },
  {
   "cell_type": "code",
   "execution_count": 37,
   "id": "brave-prince",
   "metadata": {},
   "outputs": [
    {
     "data": {
      "text/plain": [
       "12"
      ]
     },
     "execution_count": 37,
     "metadata": {},
     "output_type": "execute_result"
    }
   ],
   "source": [
    "mul * mul1"
   ]
  },
  {
   "cell_type": "code",
   "execution_count": 38,
   "id": "nuclear-falls",
   "metadata": {},
   "outputs": [],
   "source": [
    "def test(a,b):\n",
    "    return a+b"
   ]
  },
  {
   "cell_type": "code",
   "execution_count": 40,
   "id": "particular-billy",
   "metadata": {},
   "outputs": [
    {
     "name": "stdout",
     "output_type": "stream",
     "text": [
      "11\n",
      "urvi soni\n",
      "[3, 4, 5, 6, 4, 5, 6, 7]\n"
     ]
    }
   ],
   "source": [
    "print(test(5,6))\n",
    "print(test(\"urvi \",\"soni\"))\n",
    "print(test([3,4,5,6],[4,5,6,7]))"
   ]
  },
  {
   "cell_type": "code",
   "execution_count": 41,
   "id": "improving-understanding",
   "metadata": {},
   "outputs": [],
   "source": [
    "class ineuron:\n",
    "    \n",
    "    def msg(self):\n",
    "        print(\"This is a msg to a Ineuron \")\n",
    "        \n",
    "class xyz:\n",
    "    \n",
    "    def msg(self):\n",
    "        print(\"This is a msg to xyz\")"
   ]
  },
  {
   "cell_type": "code",
   "execution_count": 43,
   "id": "stretch-audience",
   "metadata": {},
   "outputs": [],
   "source": [
    "def test(notes):\n",
    "    notes.msg()"
   ]
  },
  {
   "cell_type": "code",
   "execution_count": 44,
   "id": "alternate-worker",
   "metadata": {},
   "outputs": [],
   "source": [
    "i = ineuron()\n",
    "x = xyz()"
   ]
  },
  {
   "cell_type": "code",
   "execution_count": 45,
   "id": "southwest-germany",
   "metadata": {},
   "outputs": [
    {
     "name": "stdout",
     "output_type": "stream",
     "text": [
      "This is a msg to a Ineuron \n"
     ]
    }
   ],
   "source": [
    "test(i)"
   ]
  },
  {
   "cell_type": "code",
   "execution_count": 46,
   "id": "final-stewart",
   "metadata": {},
   "outputs": [
    {
     "name": "stdout",
     "output_type": "stream",
     "text": [
      "This is a msg to xyz\n"
     ]
    }
   ],
   "source": [
    "test(x)"
   ]
  },
  {
   "cell_type": "markdown",
   "id": "welsh-cleaning",
   "metadata": {},
   "source": [
    "1. inheritnce \n",
    "2 .ploy\n",
    "3 . abstraction\n",
    "4 . encaptuation "
   ]
  },
  {
   "cell_type": "markdown",
   "id": "organizational-cassette",
   "metadata": {},
   "source": [
    "https://dev.mysql.com/downloads/installer/"
   ]
  }
 ],
 "metadata": {
  "kernelspec": {
   "display_name": "Python 3",
   "language": "python",
   "name": "python3"
  },
  "language_info": {
   "codemirror_mode": {
    "name": "ipython",
    "version": 3
   },
   "file_extension": ".py",
   "mimetype": "text/x-python",
   "name": "python",
   "nbconvert_exporter": "python",
   "pygments_lexer": "ipython3",
   "version": "3.6.13"
  }
 },
 "nbformat": 4,
 "nbformat_minor": 5
}
