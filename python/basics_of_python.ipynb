{
 "cells": [
  {
   "cell_type": "markdown",
   "id": "official-stamp",
   "metadata": {},
   "source": [
    "#### To run the cell in Jupyter Notebook use \"shift + Enter\" and to check the suggestion of the method or statment use \"shift + Tab\" command."
   ]
  },
  {
   "cell_type": "code",
   "execution_count": 1,
   "id": "operational-purpose",
   "metadata": {},
   "outputs": [
    {
     "name": "stdout",
     "output_type": "stream",
     "text": [
      "This is my first python program\n"
     ]
    }
   ],
   "source": [
    "print(\"This is my first python program\")"
   ]
  },
  {
   "cell_type": "code",
   "execution_count": 2,
   "id": "induced-adams",
   "metadata": {},
   "outputs": [
    {
     "data": {
      "text/plain": [
       "'\\nsdfd\\nfdfd\\ndfd\\nrsfd\\nsrer\\nsrgr\\n'"
      ]
     },
     "execution_count": 2,
     "metadata": {},
     "output_type": "execute_result"
    }
   ],
   "source": [
    "# Comenting\n",
    "\n",
    "# Coment will start with # and \"\"\"\" (triple quote)\n",
    "\n",
    "# This is my first comment\n",
    "\n",
    "\"\"\"\n",
    "sdfd\n",
    "fdfd\n",
    "dfd\n",
    "rsfd\n",
    "srer\n",
    "srgr\n",
    "\"\"\""
   ]
  },
  {
   "cell_type": "code",
   "execution_count": 3,
   "id": "allied-speed",
   "metadata": {},
   "outputs": [
    {
     "name": "stdout",
     "output_type": "stream",
     "text": [
      "adsa\n",
      "jfds\n",
      "jsfdjs\n"
     ]
    }
   ],
   "source": [
    "print(\"adsa\")\n",
    "print(\"jfds\")\n",
    "print(\"jsfdjs\")"
   ]
  },
  {
   "cell_type": "code",
   "execution_count": 4,
   "id": "described-collar",
   "metadata": {},
   "outputs": [
    {
     "name": "stdout",
     "output_type": "stream",
     "text": [
      "jfds\n"
     ]
    }
   ],
   "source": [
    "# print(\"adsa\")\n",
    "print(\"jfds\")\n",
    "# print(\"jsfdjs\")"
   ]
  },
  {
   "cell_type": "code",
   "execution_count": 5,
   "id": "industrial-therapy",
   "metadata": {},
   "outputs": [
    {
     "data": {
      "text/plain": [
       "'print(\"adsa\")\\nprint(\"jfds\")\\nprint(\"jsfdjs\")'"
      ]
     },
     "execution_count": 5,
     "metadata": {},
     "output_type": "execute_result"
    }
   ],
   "source": [
    "\"\"\"print(\"adsa\")\n",
    "print(\"jfds\")\n",
    "print(\"jsfdjs\")\"\"\""
   ]
  },
  {
   "cell_type": "code",
   "execution_count": 6,
   "id": "cognitive-joyce",
   "metadata": {},
   "outputs": [],
   "source": [
    "a = 10 # integer variable"
   ]
  },
  {
   "cell_type": "code",
   "execution_count": 7,
   "id": "taken-cannon",
   "metadata": {},
   "outputs": [
    {
     "data": {
      "text/plain": [
       "10"
      ]
     },
     "execution_count": 7,
     "metadata": {},
     "output_type": "execute_result"
    }
   ],
   "source": [
    "a "
   ]
  },
  {
   "cell_type": "code",
   "execution_count": 8,
   "id": "multiple-cruise",
   "metadata": {},
   "outputs": [
    {
     "data": {
      "text/plain": [
       "int"
      ]
     },
     "execution_count": 8,
     "metadata": {},
     "output_type": "execute_result"
    }
   ],
   "source": [
    "type(a)"
   ]
  },
  {
   "cell_type": "code",
   "execution_count": 9,
   "id": "postal-hearts",
   "metadata": {},
   "outputs": [],
   "source": [
    "b = \"urvi\" # string variable"
   ]
  },
  {
   "cell_type": "code",
   "execution_count": 10,
   "id": "brutal-concrete",
   "metadata": {},
   "outputs": [
    {
     "data": {
      "text/plain": [
       "'urvi'"
      ]
     },
     "execution_count": 10,
     "metadata": {},
     "output_type": "execute_result"
    }
   ],
   "source": [
    "b"
   ]
  },
  {
   "cell_type": "code",
   "execution_count": 11,
   "id": "fixed-absorption",
   "metadata": {},
   "outputs": [
    {
     "data": {
      "text/plain": [
       "str"
      ]
     },
     "execution_count": 11,
     "metadata": {},
     "output_type": "execute_result"
    }
   ],
   "source": [
    "type(b)"
   ]
  },
  {
   "cell_type": "code",
   "execution_count": 13,
   "id": "acoustic-friendly",
   "metadata": {},
   "outputs": [],
   "source": [
    "c = \"sdj34 7584bj 75645 kdhgfjdkh\" # It's a string variable"
   ]
  },
  {
   "cell_type": "code",
   "execution_count": 14,
   "id": "opposite-antarctica",
   "metadata": {},
   "outputs": [
    {
     "data": {
      "text/plain": [
       "'sdj34 7584bj 75645 kdhgfjdkh'"
      ]
     },
     "execution_count": 14,
     "metadata": {},
     "output_type": "execute_result"
    }
   ],
   "source": [
    "c"
   ]
  },
  {
   "cell_type": "code",
   "execution_count": 15,
   "id": "integrated-angle",
   "metadata": {},
   "outputs": [
    {
     "data": {
      "text/plain": [
       "str"
      ]
     },
     "execution_count": 15,
     "metadata": {},
     "output_type": "execute_result"
    }
   ],
   "source": [
    "type(c)"
   ]
  },
  {
   "cell_type": "code",
   "execution_count": 16,
   "id": "micro-thursday",
   "metadata": {},
   "outputs": [
    {
     "name": "stdout",
     "output_type": "stream",
     "text": [
      "sdj34 7584bj 75645 kdhgfjdkh\n"
     ]
    }
   ],
   "source": [
    "print(c)"
   ]
  },
  {
   "cell_type": "code",
   "execution_count": 17,
   "id": "liberal-platform",
   "metadata": {},
   "outputs": [
    {
     "name": "stdout",
     "output_type": "stream",
     "text": [
      "urvi 10\n"
     ]
    }
   ],
   "source": [
    "print(b, a)"
   ]
  },
  {
   "cell_type": "code",
   "execution_count": 18,
   "id": "western-migration",
   "metadata": {},
   "outputs": [
    {
     "name": "stdout",
     "output_type": "stream",
     "text": [
      "urvi 10 jsfg<hs\n"
     ]
    }
   ],
   "source": [
    "print(b, a, \"jsfg<hs\")"
   ]
  },
  {
   "cell_type": "code",
   "execution_count": 19,
   "id": "dressed-census",
   "metadata": {},
   "outputs": [],
   "source": [
    "a = 45\n",
    "b = \"urvi \""
   ]
  },
  {
   "cell_type": "code",
   "execution_count": 21,
   "id": "physical-drama",
   "metadata": {},
   "outputs": [],
   "source": [
    "a, b, s = 45, \"urvi \", \"this is my name\""
   ]
  },
  {
   "cell_type": "code",
   "execution_count": 22,
   "id": "brutal-permit",
   "metadata": {},
   "outputs": [
    {
     "data": {
      "text/plain": [
       "45"
      ]
     },
     "execution_count": 22,
     "metadata": {},
     "output_type": "execute_result"
    }
   ],
   "source": [
    "a"
   ]
  },
  {
   "cell_type": "code",
   "execution_count": 23,
   "id": "elect-importance",
   "metadata": {},
   "outputs": [
    {
     "data": {
      "text/plain": [
       "'urvi '"
      ]
     },
     "execution_count": 23,
     "metadata": {},
     "output_type": "execute_result"
    }
   ],
   "source": [
    "b"
   ]
  },
  {
   "cell_type": "code",
   "execution_count": 24,
   "id": "three-robinson",
   "metadata": {},
   "outputs": [
    {
     "data": {
      "text/plain": [
       "'this is my name'"
      ]
     },
     "execution_count": 24,
     "metadata": {},
     "output_type": "execute_result"
    }
   ],
   "source": [
    "s"
   ]
  },
  {
   "cell_type": "code",
   "execution_count": 25,
   "id": "twelve-lithuania",
   "metadata": {},
   "outputs": [
    {
     "data": {
      "text/plain": [
       "str"
      ]
     },
     "execution_count": 25,
     "metadata": {},
     "output_type": "execute_result"
    }
   ],
   "source": [
    "type(b)"
   ]
  },
  {
   "cell_type": "code",
   "execution_count": 26,
   "id": "british-stadium",
   "metadata": {},
   "outputs": [
    {
     "data": {
      "text/plain": [
       "str"
      ]
     },
     "execution_count": 26,
     "metadata": {},
     "output_type": "execute_result"
    }
   ],
   "source": [
    "type(c)"
   ]
  },
  {
   "cell_type": "code",
   "execution_count": 27,
   "id": "duplicate-flooring",
   "metadata": {},
   "outputs": [
    {
     "data": {
      "text/plain": [
       "int"
      ]
     },
     "execution_count": 27,
     "metadata": {},
     "output_type": "execute_result"
    }
   ],
   "source": [
    "type(a)"
   ]
  },
  {
   "cell_type": "code",
   "execution_count": 28,
   "id": "democratic-driving",
   "metadata": {},
   "outputs": [
    {
     "data": {
      "text/plain": [
       "(45, 'urvi ', 'this is my name')"
      ]
     },
     "execution_count": 28,
     "metadata": {},
     "output_type": "execute_result"
    }
   ],
   "source": [
    "a, b, s # This gives us output in terms of 'Tuples'"
   ]
  },
  {
   "cell_type": "code",
   "execution_count": 29,
   "id": "approximate-upset",
   "metadata": {},
   "outputs": [
    {
     "name": "stdout",
     "output_type": "stream",
     "text": [
      "45 urvi  this is my name\n"
     ]
    }
   ],
   "source": [
    "print(a, b, s)"
   ]
  },
  {
   "cell_type": "code",
   "execution_count": 30,
   "id": "tropical-upgrade",
   "metadata": {},
   "outputs": [
    {
     "data": {
      "text/plain": [
       "'urvi '"
      ]
     },
     "execution_count": 30,
     "metadata": {},
     "output_type": "execute_result"
    }
   ],
   "source": [
    "b"
   ]
  },
  {
   "cell_type": "code",
   "execution_count": 31,
   "id": "crazy-table",
   "metadata": {},
   "outputs": [],
   "source": [
    "B = \"kfhg\""
   ]
  },
  {
   "cell_type": "code",
   "execution_count": 32,
   "id": "exceptional-sydney",
   "metadata": {},
   "outputs": [
    {
     "data": {
      "text/plain": [
       "'kfhg'"
      ]
     },
     "execution_count": 32,
     "metadata": {},
     "output_type": "execute_result"
    }
   ],
   "source": [
    "B"
   ]
  },
  {
   "cell_type": "code",
   "execution_count": 34,
   "id": "widespread-fellow",
   "metadata": {},
   "outputs": [],
   "source": [
    "b = \"gjfd\""
   ]
  },
  {
   "cell_type": "code",
   "execution_count": 35,
   "id": "concrete-reviewer",
   "metadata": {},
   "outputs": [
    {
     "data": {
      "text/plain": [
       "'gjfd'"
      ]
     },
     "execution_count": 35,
     "metadata": {},
     "output_type": "execute_result"
    }
   ],
   "source": [
    "b"
   ]
  },
  {
   "cell_type": "code",
   "execution_count": 37,
   "id": "prescription-associate",
   "metadata": {},
   "outputs": [
    {
     "ename": "SyntaxError",
     "evalue": "invalid syntax (<ipython-input-37-852999370319>, line 1)",
     "output_type": "error",
     "traceback": [
      "\u001b[0;36m  File \u001b[0;32m\"<ipython-input-37-852999370319>\"\u001b[0;36m, line \u001b[0;32m1\u001b[0m\n\u001b[0;31m    1s = \"vfgf\"\u001b[0m\n\u001b[0m     ^\u001b[0m\n\u001b[0;31mSyntaxError\u001b[0m\u001b[0;31m:\u001b[0m invalid syntax\n"
     ]
    }
   ],
   "source": [
    "1s = \"vfgf\""
   ]
  },
  {
   "cell_type": "code",
   "execution_count": 39,
   "id": "democratic-prague",
   "metadata": {},
   "outputs": [
    {
     "ename": "SyntaxError",
     "evalue": "invalid syntax (<ipython-input-39-aa074e3063f9>, line 1)",
     "output_type": "error",
     "traceback": [
      "\u001b[0;36m  File \u001b[0;32m\"<ipython-input-39-aa074e3063f9>\"\u001b[0;36m, line \u001b[0;32m1\u001b[0m\n\u001b[0;31m    2f = 45465\u001b[0m\n\u001b[0m     ^\u001b[0m\n\u001b[0;31mSyntaxError\u001b[0m\u001b[0;31m:\u001b[0m invalid syntax\n"
     ]
    }
   ],
   "source": [
    "2f = 45465 # variable name don't start with any number"
   ]
  },
  {
   "cell_type": "code",
   "execution_count": 40,
   "id": "cognitive-classification",
   "metadata": {},
   "outputs": [
    {
     "ename": "SyntaxError",
     "evalue": "invalid syntax (<ipython-input-40-2b087ade86e5>, line 1)",
     "output_type": "error",
     "traceback": [
      "\u001b[0;36m  File \u001b[0;32m\"<ipython-input-40-2b087ade86e5>\"\u001b[0;36m, line \u001b[0;32m1\u001b[0m\n\u001b[0;31m    @2 = \"fgd\"\u001b[0m\n\u001b[0m     ^\u001b[0m\n\u001b[0;31mSyntaxError\u001b[0m\u001b[0;31m:\u001b[0m invalid syntax\n"
     ]
    }
   ],
   "source": [
    "@2 = \"fgd\""
   ]
  },
  {
   "cell_type": "code",
   "execution_count": 42,
   "id": "periodic-resistance",
   "metadata": {},
   "outputs": [],
   "source": [
    "_l = \"fjg\" # variable name can start with \"_\" (undersocre)"
   ]
  },
  {
   "cell_type": "code",
   "execution_count": 43,
   "id": "usual-glance",
   "metadata": {},
   "outputs": [
    {
     "data": {
      "text/plain": [
       "'fjg'"
      ]
     },
     "execution_count": 43,
     "metadata": {},
     "output_type": "execute_result"
    }
   ],
   "source": [
    "_l"
   ]
  },
  {
   "cell_type": "code",
   "execution_count": 44,
   "id": "sublime-sister",
   "metadata": {},
   "outputs": [],
   "source": [
    "_t = 475"
   ]
  },
  {
   "cell_type": "code",
   "execution_count": 45,
   "id": "square-montgomery",
   "metadata": {},
   "outputs": [
    {
     "data": {
      "text/plain": [
       "475"
      ]
     },
     "execution_count": 45,
     "metadata": {},
     "output_type": "execute_result"
    }
   ],
   "source": [
    "_t"
   ]
  },
  {
   "cell_type": "code",
   "execution_count": 46,
   "id": "governmental-theology",
   "metadata": {},
   "outputs": [],
   "source": [
    "name = \"Urvi\"\n",
    "useid = \"IN001\"\n",
    "password = \"dkjhfs\"\n",
    "email = \"usocet636@gmail.com\""
   ]
  },
  {
   "cell_type": "code",
   "execution_count": 47,
   "id": "iraqi-mistress",
   "metadata": {},
   "outputs": [],
   "source": [
    "a = 1.6 # Float varible"
   ]
  },
  {
   "cell_type": "code",
   "execution_count": 48,
   "id": "major-walnut",
   "metadata": {},
   "outputs": [
    {
     "data": {
      "text/plain": [
       "float"
      ]
     },
     "execution_count": 48,
     "metadata": {},
     "output_type": "execute_result"
    }
   ],
   "source": [
    "type(a)"
   ]
  },
  {
   "cell_type": "code",
   "execution_count": 50,
   "id": "prostate-toilet",
   "metadata": {},
   "outputs": [],
   "source": [
    "# Boolean Variable\n",
    "b = True\n",
    "c = False"
   ]
  },
  {
   "cell_type": "code",
   "execution_count": 51,
   "id": "prerequisite-grove",
   "metadata": {},
   "outputs": [
    {
     "data": {
      "text/plain": [
       "bool"
      ]
     },
     "execution_count": 51,
     "metadata": {},
     "output_type": "execute_result"
    }
   ],
   "source": [
    "type(b)"
   ]
  },
  {
   "cell_type": "code",
   "execution_count": 52,
   "id": "julian-vitamin",
   "metadata": {},
   "outputs": [
    {
     "data": {
      "text/plain": [
       "bool"
      ]
     },
     "execution_count": 52,
     "metadata": {},
     "output_type": "execute_result"
    }
   ],
   "source": [
    "type(c)"
   ]
  },
  {
   "cell_type": "code",
   "execution_count": 53,
   "id": "ongoing-sensitivity",
   "metadata": {},
   "outputs": [
    {
     "ename": "NameError",
     "evalue": "name 'true' is not defined",
     "output_type": "error",
     "traceback": [
      "\u001b[0;31m---------------------------------------------------------------------------\u001b[0m",
      "\u001b[0;31mNameError\u001b[0m                                 Traceback (most recent call last)",
      "\u001b[0;32m<ipython-input-53-57717e1d1ac5>\u001b[0m in \u001b[0;36m<module>\u001b[0;34m()\u001b[0m\n\u001b[0;32m----> 1\u001b[0;31m \u001b[0mb\u001b[0m \u001b[0;34m=\u001b[0m \u001b[0mtrue\u001b[0m\u001b[0;34m\u001b[0m\u001b[0;34m\u001b[0m\u001b[0m\n\u001b[0m",
      "\u001b[0;31mNameError\u001b[0m: name 'true' is not defined"
     ]
    }
   ],
   "source": [
    "b = true # It only defines with capital \"T\" means that \"True\" not small \"t\" like \"true\""
   ]
  },
  {
   "cell_type": "code",
   "execution_count": 54,
   "id": "tight-newport",
   "metadata": {},
   "outputs": [
    {
     "data": {
      "text/plain": [
       "4"
      ]
     },
     "execution_count": 54,
     "metadata": {},
     "output_type": "execute_result"
    }
   ],
   "source": [
    "True + True + True + False + True"
   ]
  },
  {
   "cell_type": "code",
   "execution_count": 55,
   "id": "particular-equality",
   "metadata": {},
   "outputs": [
    {
     "data": {
      "text/plain": [
       "0"
      ]
     },
     "execution_count": 55,
     "metadata": {},
     "output_type": "execute_result"
    }
   ],
   "source": [
    "False - True + True"
   ]
  },
  {
   "cell_type": "code",
   "execution_count": 56,
   "id": "spread-spelling",
   "metadata": {},
   "outputs": [
    {
     "name": "stdout",
     "output_type": "stream",
     "text": [
      "4\n",
      "0\n"
     ]
    }
   ],
   "source": [
    "print(True + True + True + False + True)\n",
    "print(False - True + True)"
   ]
  },
  {
   "cell_type": "code",
   "execution_count": 57,
   "id": "certified-lithuania",
   "metadata": {},
   "outputs": [
    {
     "data": {
      "text/plain": [
       "2"
      ]
     },
     "execution_count": 57,
     "metadata": {},
     "output_type": "execute_result"
    }
   ],
   "source": [
    "True + True"
   ]
  },
  {
   "cell_type": "code",
   "execution_count": 58,
   "id": "intended-sperm",
   "metadata": {},
   "outputs": [
    {
     "data": {
      "text/plain": [
       "2"
      ]
     },
     "execution_count": 58,
     "metadata": {},
     "output_type": "execute_result"
    }
   ],
   "source": [
    "True + True - False # True = 1 and False = 0"
   ]
  },
  {
   "cell_type": "code",
   "execution_count": 59,
   "id": "sharing-beverage",
   "metadata": {},
   "outputs": [
    {
     "data": {
      "text/plain": [
       "1"
      ]
     },
     "execution_count": 59,
     "metadata": {},
     "output_type": "execute_result"
    }
   ],
   "source": [
    "True * True"
   ]
  },
  {
   "cell_type": "code",
   "execution_count": 60,
   "id": "frank-treasure",
   "metadata": {},
   "outputs": [
    {
     "ename": "ZeroDivisionError",
     "evalue": "division by zero",
     "output_type": "error",
     "traceback": [
      "\u001b[0;31m---------------------------------------------------------------------------\u001b[0m",
      "\u001b[0;31mZeroDivisionError\u001b[0m                         Traceback (most recent call last)",
      "\u001b[0;32m<ipython-input-60-f8487d9d0863>\u001b[0m in \u001b[0;36m<module>\u001b[0;34m()\u001b[0m\n\u001b[0;32m----> 1\u001b[0;31m \u001b[0;32mTrue\u001b[0m \u001b[0;34m/\u001b[0m \u001b[0;32mFalse\u001b[0m\u001b[0;34m\u001b[0m\u001b[0;34m\u001b[0m\u001b[0m\n\u001b[0m",
      "\u001b[0;31mZeroDivisionError\u001b[0m: division by zero"
     ]
    }
   ],
   "source": [
    "True / False # 1 / 0 is giving you a 'ZeroDivisionError' in simple mathematics 1 / 0 is undefined"
   ]
  },
  {
   "cell_type": "code",
   "execution_count": 61,
   "id": "annual-philadelphia",
   "metadata": {},
   "outputs": [],
   "source": [
    "# Complex Number  = Real + Imaginary Number\n",
    "n = 45 + 6j # 45 is real, 6j is imaginary, j is notation for imaginary"
   ]
  },
  {
   "cell_type": "code",
   "execution_count": 62,
   "id": "blocked-clark",
   "metadata": {},
   "outputs": [
    {
     "data": {
      "text/plain": [
       "complex"
      ]
     },
     "execution_count": 62,
     "metadata": {},
     "output_type": "execute_result"
    }
   ],
   "source": [
    "type(n)"
   ]
  },
  {
   "cell_type": "code",
   "execution_count": 63,
   "id": "copyrighted-courtesy",
   "metadata": {},
   "outputs": [
    {
     "data": {
      "text/plain": [
       "(45+6j)"
      ]
     },
     "execution_count": 63,
     "metadata": {},
     "output_type": "execute_result"
    }
   ],
   "source": [
    "n"
   ]
  },
  {
   "cell_type": "code",
   "execution_count": 64,
   "id": "generic-commons",
   "metadata": {},
   "outputs": [
    {
     "data": {
      "text/plain": [
       "45.0"
      ]
     },
     "execution_count": 64,
     "metadata": {},
     "output_type": "execute_result"
    }
   ],
   "source": [
    "n.real"
   ]
  },
  {
   "cell_type": "code",
   "execution_count": 65,
   "id": "touched-complexity",
   "metadata": {},
   "outputs": [
    {
     "data": {
      "text/plain": [
       "6.0"
      ]
     },
     "execution_count": 65,
     "metadata": {},
     "output_type": "execute_result"
    }
   ],
   "source": [
    "n.imag"
   ]
  },
  {
   "cell_type": "code",
   "execution_count": 66,
   "id": "lasting-johns",
   "metadata": {},
   "outputs": [
    {
     "ename": "SyntaxError",
     "evalue": "invalid syntax (<ipython-input-66-a06e4aee64cc>, line 1)",
     "output_type": "error",
     "traceback": [
      "\u001b[0;36m  File \u001b[0;32m\"<ipython-input-66-a06e4aee64cc>\"\u001b[0;36m, line \u001b[0;32m1\u001b[0m\n\u001b[0;31m    n = 45 + 6i\u001b[0m\n\u001b[0m              ^\u001b[0m\n\u001b[0;31mSyntaxError\u001b[0m\u001b[0;31m:\u001b[0m invalid syntax\n"
     ]
    }
   ],
   "source": [
    "n = 45 + 6i"
   ]
  },
  {
   "cell_type": "code",
   "execution_count": 67,
   "id": "functioning-aruba",
   "metadata": {},
   "outputs": [
    {
     "ename": "SyntaxError",
     "evalue": "invalid syntax (<ipython-input-67-4a74cc59abdf>, line 1)",
     "output_type": "error",
     "traceback": [
      "\u001b[0;36m  File \u001b[0;32m\"<ipython-input-67-4a74cc59abdf>\"\u001b[0;36m, line \u001b[0;32m1\u001b[0m\n\u001b[0;31m    n = 45 + 6m\u001b[0m\n\u001b[0m              ^\u001b[0m\n\u001b[0;31mSyntaxError\u001b[0m\u001b[0;31m:\u001b[0m invalid syntax\n"
     ]
    }
   ],
   "source": [
    "n = 45 + 6m"
   ]
  },
  {
   "cell_type": "code",
   "execution_count": 68,
   "id": "dutch-malpractice",
   "metadata": {},
   "outputs": [],
   "source": [
    "# j is the only notation for imaginary oart in python \n",
    "n = 45 + 6j\n",
    "m = 56 + 8j"
   ]
  },
  {
   "cell_type": "code",
   "execution_count": 69,
   "id": "employed-boulder",
   "metadata": {},
   "outputs": [
    {
     "data": {
      "text/plain": [
       "(2472+696j)"
      ]
     },
     "execution_count": 69,
     "metadata": {},
     "output_type": "execute_result"
    }
   ],
   "source": [
    "n * m"
   ]
  },
  {
   "cell_type": "code",
   "execution_count": 70,
   "id": "quantitative-military",
   "metadata": {},
   "outputs": [
    {
     "data": {
      "text/plain": [
       "str"
      ]
     },
     "execution_count": 70,
     "metadata": {},
     "output_type": "execute_result"
    }
   ],
   "source": [
    "b = \"sdf\"\n",
    "type(b)"
   ]
  },
  {
   "cell_type": "code",
   "execution_count": 71,
   "id": "front-monte",
   "metadata": {},
   "outputs": [
    {
     "ename": "TypeError",
     "evalue": "unsupported operand type(s) for +: 'int' and 'str'",
     "output_type": "error",
     "traceback": [
      "\u001b[0;31m---------------------------------------------------------------------------\u001b[0m",
      "\u001b[0;31mTypeError\u001b[0m                                 Traceback (most recent call last)",
      "\u001b[0;32m<ipython-input-71-20a6c5239065>\u001b[0m in \u001b[0;36m<module>\u001b[0;34m()\u001b[0m\n\u001b[0;32m----> 1\u001b[0;31m \u001b[0;36m1\u001b[0m \u001b[0;34m+\u001b[0m \u001b[0;34m\"urvi\"\u001b[0m\u001b[0;34m\u001b[0m\u001b[0;34m\u001b[0m\u001b[0m\n\u001b[0m",
      "\u001b[0;31mTypeError\u001b[0m: unsupported operand type(s) for +: 'int' and 'str'"
     ]
    }
   ],
   "source": [
    "1 + \"urvi\" # 1 has an int data type and \"urvi\" has a str data type"
   ]
  },
  {
   "cell_type": "code",
   "execution_count": 73,
   "id": "ultimate-peeing",
   "metadata": {},
   "outputs": [
    {
     "data": {
      "text/plain": [
       "6"
      ]
     },
     "execution_count": 73,
     "metadata": {},
     "output_type": "execute_result"
    }
   ],
   "source": [
    "1 + 5 # 1 is an int data type and 5 is also an int data type"
   ]
  },
  {
   "cell_type": "code",
   "execution_count": 75,
   "id": "legendary-spectacular",
   "metadata": {},
   "outputs": [
    {
     "data": {
      "text/plain": [
       "'1urvi'"
      ]
     },
     "execution_count": 75,
     "metadata": {},
     "output_type": "execute_result"
    }
   ],
   "source": [
    "# concatenation operation\n",
    "'1' + \"urvi\" # here '1' is a str data type and \"urvi\" is also a str data type"
   ]
  },
  {
   "cell_type": "code",
   "execution_count": 76,
   "id": "three-trauma",
   "metadata": {},
   "outputs": [
    {
     "data": {
      "text/plain": [
       "2.0"
      ]
     },
     "execution_count": 76,
     "metadata": {},
     "output_type": "execute_result"
    }
   ],
   "source": [
    "1 + 1.0 # int + float = float"
   ]
  },
  {
   "cell_type": "code",
   "execution_count": 77,
   "id": "indirect-parcel",
   "metadata": {},
   "outputs": [
    {
     "data": {
      "text/plain": [
       "'urviurviurvi'"
      ]
     },
     "execution_count": 77,
     "metadata": {},
     "output_type": "execute_result"
    }
   ],
   "source": [
    "# concatenation\n",
    "\"urvi\" + \"urvi\" + \"urvi\""
   ]
  },
  {
   "cell_type": "code",
   "execution_count": 78,
   "id": "dangerous-configuration",
   "metadata": {},
   "outputs": [
    {
     "data": {
      "text/plain": [
       "'urviurviurvi'"
      ]
     },
     "execution_count": 78,
     "metadata": {},
     "output_type": "execute_result"
    }
   ],
   "source": [
    "# multiplication of string, it gives us same result\n",
    "\"urvi\" * 3"
   ]
  },
  {
   "cell_type": "code",
   "execution_count": 79,
   "id": "hydraulic-scott",
   "metadata": {},
   "outputs": [
    {
     "data": {
      "text/plain": [
       "23"
      ]
     },
     "execution_count": 79,
     "metadata": {},
     "output_type": "execute_result"
    }
   ],
   "source": [
    "int('23') # type-casting"
   ]
  },
  {
   "cell_type": "code",
   "execution_count": 80,
   "id": "cooked-royalty",
   "metadata": {},
   "outputs": [
    {
     "ename": "ValueError",
     "evalue": "invalid literal for int() with base 10: 'jsdgfs'",
     "output_type": "error",
     "traceback": [
      "\u001b[0;31m---------------------------------------------------------------------------\u001b[0m",
      "\u001b[0;31mValueError\u001b[0m                                Traceback (most recent call last)",
      "\u001b[0;32m<ipython-input-80-5a11094b9e11>\u001b[0m in \u001b[0;36m<module>\u001b[0;34m()\u001b[0m\n\u001b[0;32m----> 1\u001b[0;31m \u001b[0mint\u001b[0m\u001b[0;34m(\u001b[0m\u001b[0;34m'jsdgfs'\u001b[0m\u001b[0;34m)\u001b[0m\u001b[0;34m\u001b[0m\u001b[0;34m\u001b[0m\u001b[0m\n\u001b[0m",
      "\u001b[0;31mValueError\u001b[0m: invalid literal for int() with base 10: 'jsdgfs'"
     ]
    }
   ],
   "source": [
    "int('jsdgfs') # type-casting"
   ]
  },
  {
   "cell_type": "code",
   "execution_count": 81,
   "id": "interim-radar",
   "metadata": {},
   "outputs": [],
   "source": [
    "a = 10"
   ]
  },
  {
   "cell_type": "code",
   "execution_count": 82,
   "id": "technological-reasoning",
   "metadata": {},
   "outputs": [
    {
     "name": "stdout",
     "output_type": "stream",
     "text": [
      "dfds\n"
     ]
    }
   ],
   "source": [
    "a = input()"
   ]
  },
  {
   "cell_type": "code",
   "execution_count": 83,
   "id": "governing-tsunami",
   "metadata": {},
   "outputs": [
    {
     "data": {
      "text/plain": [
       "'dfds'"
      ]
     },
     "execution_count": 83,
     "metadata": {},
     "output_type": "execute_result"
    }
   ],
   "source": [
    "a"
   ]
  },
  {
   "cell_type": "code",
   "execution_count": 87,
   "id": "studied-karaoke",
   "metadata": {},
   "outputs": [
    {
     "name": "stdout",
     "output_type": "stream",
     "text": [
      "enter a integerfgfdgd\n"
     ]
    }
   ],
   "source": [
    "b = input(\"enter a integer\")"
   ]
  },
  {
   "cell_type": "code",
   "execution_count": 88,
   "id": "moral-solomon",
   "metadata": {},
   "outputs": [
    {
     "data": {
      "text/plain": [
       "str"
      ]
     },
     "execution_count": 88,
     "metadata": {},
     "output_type": "execute_result"
    }
   ],
   "source": [
    "type(b)"
   ]
  },
  {
   "cell_type": "code",
   "execution_count": 85,
   "id": "suited-alfred",
   "metadata": {},
   "outputs": [
    {
     "name": "stdout",
     "output_type": "stream",
     "text": [
      "enter a integer2343\n"
     ]
    }
   ],
   "source": [
    "a = input(\"enter a integer\")"
   ]
  },
  {
   "cell_type": "code",
   "execution_count": 86,
   "id": "radio-magazine",
   "metadata": {},
   "outputs": [
    {
     "data": {
      "text/plain": [
       "str"
      ]
     },
     "execution_count": 86,
     "metadata": {},
     "output_type": "execute_result"
    }
   ],
   "source": [
    "type(a)"
   ]
  },
  {
   "cell_type": "markdown",
   "id": "conditional-denver",
   "metadata": {},
   "source": [
    "#### Task :-\n",
    "#### step 1 -- Take 3 int input from user like a, b, c\n",
    "#### step 2 -- Do o =  a + b / c\n",
    "#### step 3 -- o1 = o + complex value\n",
    "#### step 4 -- o1 + \"your name\"\n",
    "#### check the output"
   ]
  },
  {
   "cell_type": "code",
   "execution_count": 96,
   "id": "fallen-filing",
   "metadata": {},
   "outputs": [
    {
     "name": "stdout",
     "output_type": "stream",
     "text": [
      "Enter three value: 2 3 4\n"
     ]
    }
   ],
   "source": [
    "# step 1\n",
    "a, b, c = [int(x) for x in input(\"Enter three value: \").split()]"
   ]
  },
  {
   "cell_type": "code",
   "execution_count": 97,
   "id": "rapid-science",
   "metadata": {},
   "outputs": [
    {
     "data": {
      "text/plain": [
       "2.75"
      ]
     },
     "execution_count": 97,
     "metadata": {},
     "output_type": "execute_result"
    }
   ],
   "source": [
    "# step 2\n",
    "a + b / c"
   ]
  },
  {
   "cell_type": "code",
   "execution_count": 98,
   "id": "going-fantasy",
   "metadata": {},
   "outputs": [],
   "source": [
    "o = a + b /c"
   ]
  },
  {
   "cell_type": "code",
   "execution_count": 99,
   "id": "amino-closing",
   "metadata": {},
   "outputs": [
    {
     "data": {
      "text/plain": [
       "2.75"
      ]
     },
     "execution_count": 99,
     "metadata": {},
     "output_type": "execute_result"
    }
   ],
   "source": [
    "o"
   ]
  },
  {
   "cell_type": "code",
   "execution_count": 100,
   "id": "declared-folder",
   "metadata": {},
   "outputs": [],
   "source": [
    "# step 3\n",
    "o1 = o + 45 + 6j"
   ]
  },
  {
   "cell_type": "code",
   "execution_count": 101,
   "id": "british-example",
   "metadata": {},
   "outputs": [
    {
     "data": {
      "text/plain": [
       "(47.75+6j)"
      ]
     },
     "execution_count": 101,
     "metadata": {},
     "output_type": "execute_result"
    }
   ],
   "source": [
    "o1"
   ]
  },
  {
   "cell_type": "code",
   "execution_count": 102,
   "id": "interior-maple",
   "metadata": {},
   "outputs": [
    {
     "ename": "TypeError",
     "evalue": "unsupported operand type(s) for +: 'complex' and 'str'",
     "output_type": "error",
     "traceback": [
      "\u001b[0;31m---------------------------------------------------------------------------\u001b[0m",
      "\u001b[0;31mTypeError\u001b[0m                                 Traceback (most recent call last)",
      "\u001b[0;32m<ipython-input-102-e09e2c3f4a3b>\u001b[0m in \u001b[0;36m<module>\u001b[0;34m()\u001b[0m\n\u001b[0;32m----> 1\u001b[0;31m \u001b[0mo1\u001b[0m \u001b[0;34m+\u001b[0m \u001b[0;34m\"Urvi\"\u001b[0m\u001b[0;34m\u001b[0m\u001b[0;34m\u001b[0m\u001b[0m\n\u001b[0m",
      "\u001b[0;31mTypeError\u001b[0m: unsupported operand type(s) for +: 'complex' and 'str'"
     ]
    }
   ],
   "source": [
    "# step 4\n",
    "o1 + \"Urvi\""
   ]
  },
  {
   "cell_type": "code",
   "execution_count": 103,
   "id": "specialized-journalist",
   "metadata": {},
   "outputs": [
    {
     "data": {
      "text/plain": [
       "'(47.75+6j)urvi'"
      ]
     },
     "execution_count": 103,
     "metadata": {},
     "output_type": "execute_result"
    }
   ],
   "source": [
    "str(o1) + \"urvi\""
   ]
  },
  {
   "cell_type": "code",
   "execution_count": 104,
   "id": "apart-islam",
   "metadata": {},
   "outputs": [
    {
     "name": "stdout",
     "output_type": "stream",
     "text": [
      "this is my var a 2\n",
      "this is my var b 3\n",
      "this is my var c 4\n"
     ]
    },
    {
     "data": {
      "text/plain": [
       "'(80.75+6j)urvi'"
      ]
     },
     "execution_count": 104,
     "metadata": {},
     "output_type": "execute_result"
    }
   ],
   "source": [
    "a = int(input(\"this is my var a \")) \n",
    "b = int(input(\"this is my var b \")) \n",
    "c = int(input(\"this is my var c \")) \n",
    "o = a+b/c \n",
    "o1 = o + 78 + 6j \n",
    "str(o1) + \"urvi\" "
   ]
  },
  {
   "cell_type": "code",
   "execution_count": 105,
   "id": "fundamental-waterproof",
   "metadata": {},
   "outputs": [
    {
     "name": "stdout",
     "output_type": "stream",
     "text": [
      "input a number lesser then 34 -- 56\n"
     ]
    }
   ],
   "source": [
    "a = int(input(\"input a number lesser then 34 -- \"))"
   ]
  },
  {
   "cell_type": "code",
   "execution_count": 106,
   "id": "seeing-technical",
   "metadata": {},
   "outputs": [
    {
     "data": {
      "text/plain": [
       "56"
      ]
     },
     "execution_count": 106,
     "metadata": {},
     "output_type": "execute_result"
    }
   ],
   "source": [
    "a"
   ]
  },
  {
   "cell_type": "code",
   "execution_count": 107,
   "id": "spoken-liverpool",
   "metadata": {},
   "outputs": [
    {
     "ename": "SyntaxError",
     "evalue": "unexpected EOF while parsing (<ipython-input-107-eb7401465e0a>, line 1)",
     "output_type": "error",
     "traceback": [
      "\u001b[0;36m  File \u001b[0;32m\"<ipython-input-107-eb7401465e0a>\"\u001b[0;36m, line \u001b[0;32m1\u001b[0m\n\u001b[0;31m    if a < 34:\u001b[0m\n\u001b[0m              ^\u001b[0m\n\u001b[0;31mSyntaxError\u001b[0m\u001b[0;31m:\u001b[0m unexpected EOF while parsing\n"
     ]
    }
   ],
   "source": [
    "if a < 34:"
   ]
  },
  {
   "cell_type": "code",
   "execution_count": 108,
   "id": "directed-replication",
   "metadata": {},
   "outputs": [],
   "source": [
    "if a < 34:\n",
    "    pass"
   ]
  },
  {
   "cell_type": "code",
   "execution_count": 109,
   "id": "binding-wallace",
   "metadata": {},
   "outputs": [
    {
     "name": "stdout",
     "output_type": "stream",
     "text": [
      "input a number lesser then 34 -- 24\n",
      "data input is lesser then 34 and I am fine with it!\n"
     ]
    }
   ],
   "source": [
    "a = int(input(\"input a number lesser then 34 -- \"))\n",
    "if a < 34:\n",
    "    print(\"data input is lesser then 34 and I am fine with it!\")"
   ]
  },
  {
   "cell_type": "code",
   "execution_count": 110,
   "id": "baking-usage",
   "metadata": {},
   "outputs": [
    {
     "name": "stdout",
     "output_type": "stream",
     "text": [
      "input a number lesser then 34 -- 78\n"
     ]
    }
   ],
   "source": [
    "a = int(input(\"input a number lesser then 34 -- \"))\n",
    "if a < 34:\n",
    "    print(\"data input is lesser then 34 and I am fine with it!\")"
   ]
  },
  {
   "cell_type": "code",
   "execution_count": 111,
   "id": "transparent-curve",
   "metadata": {},
   "outputs": [
    {
     "name": "stdout",
     "output_type": "stream",
     "text": [
      "input a number lesser then 34 -- 5654767\n",
      "data input is lesser then 34 and I am fine with it!\n"
     ]
    }
   ],
   "source": [
    "a = int(input(\"input a number lesser then 34 -- \"))\n",
    "if a < 34:\n",
    "    pass\n",
    "print(\"data input is lesser then 34 and I am fine with it!\")"
   ]
  },
  {
   "cell_type": "code",
   "execution_count": 112,
   "id": "maritime-coaching",
   "metadata": {},
   "outputs": [
    {
     "name": "stdout",
     "output_type": "stream",
     "text": [
      "input a number lesser then 34 -- 76765\n",
      "user input is not lesser then 34\n"
     ]
    }
   ],
   "source": [
    "a = int(input(\"input a number lesser then 34 -- \"))\n",
    "if a < 34:\n",
    "    print(\"data input is lesser then 34 and I am fine with it!\")\n",
    "else:\n",
    "    print(\"user input is not lesser then 34\")"
   ]
  },
  {
   "cell_type": "code",
   "execution_count": 113,
   "id": "banned-judgment",
   "metadata": {},
   "outputs": [
    {
     "name": "stdout",
     "output_type": "stream",
     "text": [
      "input a number lesser then 34 -- 78\n",
      "my data is lesser then 100\n"
     ]
    }
   ],
   "source": [
    "a = int(input(\"input a number lesser then 34 -- \"))\n",
    "if a < 34:\n",
    "    print(\"data input is lesser then 34 and I am fine with it!\")\n",
    "elif a < 100:\n",
    "    print(\"my data is lesser then 100\")\n",
    "else:\n",
    "    print(\"user input is not lesser then 34\")"
   ]
  },
  {
   "cell_type": "code",
   "execution_count": 114,
   "id": "loved-brooklyn",
   "metadata": {},
   "outputs": [
    {
     "name": "stdout",
     "output_type": "stream",
     "text": [
      "enter your salary4\n",
      " i will go for saving \n"
     ]
    }
   ],
   "source": [
    "salary = int(input(\"enter your salary\"))\n",
    "if salary > 1000:\n",
    "    print(\" i will buy a car \")\n",
    "elif salary > 500:\n",
    "    print(\" i will go for bike \")\n",
    "elif salary > 100:\n",
    "    print(\" i will not buy anything \")\n",
    "else:\n",
    "    print(\" i will go for saving \")"
   ]
  },
  {
   "cell_type": "code",
   "execution_count": 117,
   "id": "registered-fourth",
   "metadata": {},
   "outputs": [
    {
     "name": "stdout",
     "output_type": "stream",
     "text": [
      "enter your salary10056\n",
      " your salary is good \n",
      " i will go with a car nano \n",
      "flase code\n"
     ]
    }
   ],
   "source": [
    "salary = int(input(\"enter your salary\"))\n",
    "if salary > 1000:\n",
    "    print(\" your salary is good \")\n",
    "    if salary > 5000:\n",
    "        print(\" i will go with a car nano \")\n",
    "        if True:\n",
    "            print(\"flase code\")\n",
    "    elif salary >10000:\n",
    "        print(\" i will go with car maruti \")\n",
    "    elif saslary > 50000:\n",
    "        print(\" i will go with car toyota \")\n",
    "    else:\n",
    "        print(\" i will rent a car\")\n",
    "elif salary > 500:\n",
    "    print(\" i will go for bike \")\n",
    "elif salary > 100:\n",
    "    print(\" i will not buy anything \")\n",
    "else:\n",
    "    print(\" i will go for saving \")"
   ]
  },
  {
   "cell_type": "code",
   "execution_count": null,
   "id": "electric-notebook",
   "metadata": {},
   "outputs": [],
   "source": []
  }
 ],
 "metadata": {
  "kernelspec": {
   "display_name": "Python 3",
   "language": "python",
   "name": "python3"
  },
  "language_info": {
   "codemirror_mode": {
    "name": "ipython",
    "version": 3
   },
   "file_extension": ".py",
   "mimetype": "text/x-python",
   "name": "python",
   "nbconvert_exporter": "python",
   "pygments_lexer": "ipython3",
   "version": "3.6.13"
  }
 },
 "nbformat": 4,
 "nbformat_minor": 5
}
