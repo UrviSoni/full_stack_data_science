{
 "cells": [
  {
   "cell_type": "code",
   "execution_count": 3,
   "id": "instant-nicholas",
   "metadata": {},
   "outputs": [],
   "source": [
    "f = open(\"test.txt\",\"w\")"
   ]
  },
  {
   "cell_type": "code",
   "execution_count": 5,
   "id": "healthy-bobby",
   "metadata": {},
   "outputs": [
    {
     "data": {
      "text/plain": [
       "28"
      ]
     },
     "execution_count": 5,
     "metadata": {},
     "output_type": "execute_result"
    }
   ],
   "source": [
    "f.write(r\"asdhsaf ksfhdkjgh rkghkrhrek\")"
   ]
  },
  {
   "cell_type": "code",
   "execution_count": 6,
   "id": "received-melissa",
   "metadata": {},
   "outputs": [],
   "source": [
    "f.close()"
   ]
  },
  {
   "cell_type": "code",
   "execution_count": 8,
   "id": "roman-possession",
   "metadata": {},
   "outputs": [],
   "source": [
    "f = open(\"test.txt\")"
   ]
  },
  {
   "cell_type": "code",
   "execution_count": 9,
   "id": "sixth-variance",
   "metadata": {},
   "outputs": [
    {
     "data": {
      "text/plain": [
       "'asdhsaf ksfhdkjgh rkghkrhrekasdhsaf ksfhdkjgh rkghkrhrek'"
      ]
     },
     "execution_count": 9,
     "metadata": {},
     "output_type": "execute_result"
    }
   ],
   "source": [
    "f.read()"
   ]
  },
  {
   "cell_type": "code",
   "execution_count": 10,
   "id": "double-purse",
   "metadata": {},
   "outputs": [
    {
     "data": {
      "text/plain": [
       "''"
      ]
     },
     "execution_count": 10,
     "metadata": {},
     "output_type": "execute_result"
    }
   ],
   "source": [
    "f.read()"
   ]
  },
  {
   "cell_type": "code",
   "execution_count": 13,
   "id": "excess-magic",
   "metadata": {},
   "outputs": [],
   "source": [
    "f = open(\"test.txt\")"
   ]
  },
  {
   "cell_type": "code",
   "execution_count": 14,
   "id": "antique-cutting",
   "metadata": {},
   "outputs": [
    {
     "data": {
      "text/plain": [
       "'asdhsaf ksfhdkjgh rkghkrhrekasdhsaf ksfhdkjgh rkghkrhrek\\njhgafjd\\nsgjsgh\\nfgfdhdf\\ndfkh\\ndgjkdthre\\ndrgkruew\\ndjgs\\nsgnkjsf\\ndsngkgjshtr\\nsgnsjhgruew\\nsnsdf\\nannjfsgdu\\nsgnkfjhgd s\\nsgbgjfgdf'"
      ]
     },
     "execution_count": 14,
     "metadata": {},
     "output_type": "execute_result"
    }
   ],
   "source": [
    "f.read()"
   ]
  },
  {
   "cell_type": "code",
   "execution_count": 15,
   "id": "electoral-yellow",
   "metadata": {},
   "outputs": [
    {
     "data": {
      "text/plain": [
       "''"
      ]
     },
     "execution_count": 15,
     "metadata": {},
     "output_type": "execute_result"
    }
   ],
   "source": [
    "f.read()"
   ]
  },
  {
   "cell_type": "code",
   "execution_count": 16,
   "id": "viral-flower",
   "metadata": {},
   "outputs": [
    {
     "data": {
      "text/plain": [
       "10"
      ]
     },
     "execution_count": 16,
     "metadata": {},
     "output_type": "execute_result"
    }
   ],
   "source": [
    "f.seek(10)"
   ]
  },
  {
   "cell_type": "code",
   "execution_count": 17,
   "id": "stainless-browse",
   "metadata": {},
   "outputs": [
    {
     "data": {
      "text/plain": [
       "'fhdkjgh rkghkrhrekasdhsaf ksfhdkjgh rkghkrhrek\\njhgafjd\\nsgjsgh\\nfgfdhdf\\ndfkh\\ndgjkdthre\\ndrgkruew\\ndjgs\\nsgnkjsf\\ndsngkgjshtr\\nsgnsjhgruew\\nsnsdf\\nannjfsgdu\\nsgnkfjhgd s\\nsgbgjfgdf'"
      ]
     },
     "execution_count": 17,
     "metadata": {},
     "output_type": "execute_result"
    }
   ],
   "source": [
    "f.read()"
   ]
  },
  {
   "cell_type": "code",
   "execution_count": 18,
   "id": "lesser-tattoo",
   "metadata": {},
   "outputs": [
    {
     "data": {
      "text/plain": [
       "0"
      ]
     },
     "execution_count": 18,
     "metadata": {},
     "output_type": "execute_result"
    }
   ],
   "source": [
    "f.seek(0)"
   ]
  },
  {
   "cell_type": "code",
   "execution_count": 19,
   "id": "minus-reaction",
   "metadata": {},
   "outputs": [
    {
     "data": {
      "text/plain": [
       "'asdhsaf ksfhdkjgh rkghkrhrekasdhsaf ksfhdkjgh rkghkrhrek\\njhgafjd\\nsgjsgh\\nfgfdhdf\\ndfkh\\ndgjkdthre\\ndrgkruew\\ndjgs\\nsgnkjsf\\ndsngkgjshtr\\nsgnsjhgruew\\nsnsdf\\nannjfsgdu\\nsgnkfjhgd s\\nsgbgjfgdf'"
      ]
     },
     "execution_count": 19,
     "metadata": {},
     "output_type": "execute_result"
    }
   ],
   "source": [
    "f.read()"
   ]
  },
  {
   "cell_type": "code",
   "execution_count": 21,
   "id": "sized-cardiff",
   "metadata": {},
   "outputs": [],
   "source": [
    "f = open(\"test.txt\",\"r\")"
   ]
  },
  {
   "cell_type": "code",
   "execution_count": 22,
   "id": "dried-static",
   "metadata": {},
   "outputs": [
    {
     "ename": "UnsupportedOperation",
     "evalue": "not writable",
     "output_type": "error",
     "traceback": [
      "\u001b[0;31m---------------------------------------------------------------------------\u001b[0m",
      "\u001b[0;31mUnsupportedOperation\u001b[0m                      Traceback (most recent call last)",
      "\u001b[0;32m<ipython-input-22-a9ef9642496c>\u001b[0m in \u001b[0;36m<module>\u001b[0;34m()\u001b[0m\n\u001b[0;32m----> 1\u001b[0;31m \u001b[0mf\u001b[0m\u001b[0;34m.\u001b[0m\u001b[0mwrite\u001b[0m\u001b[0;34m(\u001b[0m\u001b[0;34m\"fjhdf\"\u001b[0m\u001b[0;34m)\u001b[0m\u001b[0;34m\u001b[0m\u001b[0;34m\u001b[0m\u001b[0m\n\u001b[0m",
      "\u001b[0;31mUnsupportedOperation\u001b[0m: not writable"
     ]
    }
   ],
   "source": [
    "f.write(\"fjhdf\")"
   ]
  },
  {
   "cell_type": "code",
   "execution_count": 23,
   "id": "controlling-champagne",
   "metadata": {},
   "outputs": [
    {
     "data": {
      "text/plain": [
       "'asdhsaf ksfhdkjgh rkghkrhrekasdhsaf ksfhdkjgh rkghkrhrek\\njhgafjd\\nsgjsgh\\nfgfdhdf\\ndfkh\\ndgjkdthre\\ndrgkruew\\ndjgs\\nsgnkjsf\\ndsngkgjshtr\\nsgnsjhgruew\\nsnsdf\\nannjfsgdu\\nsgnkfjhgd s\\nsgbgjfgdf'"
      ]
     },
     "execution_count": 23,
     "metadata": {},
     "output_type": "execute_result"
    }
   ],
   "source": [
    "f.read()"
   ]
  },
  {
   "cell_type": "code",
   "execution_count": 24,
   "id": "pressing-grill",
   "metadata": {},
   "outputs": [
    {
     "data": {
      "text/plain": [
       "''"
      ]
     },
     "execution_count": 24,
     "metadata": {},
     "output_type": "execute_result"
    }
   ],
   "source": [
    "f.read()"
   ]
  },
  {
   "cell_type": "code",
   "execution_count": 25,
   "id": "worthy-rehabilitation",
   "metadata": {},
   "outputs": [
    {
     "data": {
      "text/plain": [
       "0"
      ]
     },
     "execution_count": 25,
     "metadata": {},
     "output_type": "execute_result"
    }
   ],
   "source": [
    "f.seek(0)"
   ]
  },
  {
   "cell_type": "code",
   "execution_count": 26,
   "id": "preliminary-embassy",
   "metadata": {},
   "outputs": [
    {
     "data": {
      "text/plain": [
       "'asdhsaf ksfhdkjgh rkghkrh'"
      ]
     },
     "execution_count": 26,
     "metadata": {},
     "output_type": "execute_result"
    }
   ],
   "source": [
    "f.read(25) # read data to the 25 character"
   ]
  },
  {
   "cell_type": "code",
   "execution_count": 27,
   "id": "pacific-pepper",
   "metadata": {},
   "outputs": [],
   "source": [
    "f.close()"
   ]
  },
  {
   "cell_type": "code",
   "execution_count": 28,
   "id": "split-dakota",
   "metadata": {},
   "outputs": [
    {
     "ename": "ValueError",
     "evalue": "I/O operation on closed file.",
     "output_type": "error",
     "traceback": [
      "\u001b[0;31m---------------------------------------------------------------------------\u001b[0m",
      "\u001b[0;31mValueError\u001b[0m                                Traceback (most recent call last)",
      "\u001b[0;32m<ipython-input-28-571e9fb02258>\u001b[0m in \u001b[0;36m<module>\u001b[0;34m()\u001b[0m\n\u001b[0;32m----> 1\u001b[0;31m \u001b[0mf\u001b[0m\u001b[0;34m.\u001b[0m\u001b[0mread\u001b[0m\u001b[0;34m(\u001b[0m\u001b[0;34m)\u001b[0m\u001b[0;34m\u001b[0m\u001b[0;34m\u001b[0m\u001b[0m\n\u001b[0m",
      "\u001b[0;31mValueError\u001b[0m: I/O operation on closed file."
     ]
    }
   ],
   "source": [
    "f.read()"
   ]
  },
  {
   "cell_type": "code",
   "execution_count": 29,
   "id": "indian-basic",
   "metadata": {},
   "outputs": [],
   "source": [
    "f = open(\"test.txt\",\"w\")"
   ]
  },
  {
   "cell_type": "code",
   "execution_count": 30,
   "id": "tutorial-senior",
   "metadata": {},
   "outputs": [
    {
     "data": {
      "text/plain": [
       "38"
      ]
     },
     "execution_count": 30,
     "metadata": {},
     "output_type": "execute_result"
    }
   ],
   "source": [
    "f.write(\"ajdhs dkshgsf skhdfsudyfre sdkgghfsjgr\")"
   ]
  },
  {
   "cell_type": "code",
   "execution_count": 31,
   "id": "analyzed-massage",
   "metadata": {},
   "outputs": [],
   "source": [
    "f.close()"
   ]
  },
  {
   "cell_type": "code",
   "execution_count": 33,
   "id": "recovered-cooling",
   "metadata": {},
   "outputs": [],
   "source": [
    "f = open(\"test.txt\",\"a\")"
   ]
  },
  {
   "cell_type": "code",
   "execution_count": 34,
   "id": "mature-polyester",
   "metadata": {},
   "outputs": [
    {
     "data": {
      "text/plain": [
       "16"
      ]
     },
     "execution_count": 34,
     "metadata": {},
     "output_type": "execute_result"
    }
   ],
   "source": [
    "f.write(\"dsfhdgsjsjgjdgrj\")"
   ]
  },
  {
   "cell_type": "code",
   "execution_count": 35,
   "id": "whole-arnold",
   "metadata": {},
   "outputs": [],
   "source": [
    "f.close()"
   ]
  },
  {
   "cell_type": "code",
   "execution_count": 36,
   "id": "efficient-orientation",
   "metadata": {},
   "outputs": [],
   "source": [
    "f = open(\"test1.txt\",'wb')"
   ]
  },
  {
   "cell_type": "code",
   "execution_count": 37,
   "id": "popular-constitutional",
   "metadata": {},
   "outputs": [
    {
     "ename": "TypeError",
     "evalue": "a bytes-like object is required, not 'str'",
     "output_type": "error",
     "traceback": [
      "\u001b[0;31m---------------------------------------------------------------------------\u001b[0m",
      "\u001b[0;31mTypeError\u001b[0m                                 Traceback (most recent call last)",
      "\u001b[0;32m<ipython-input-37-87013b906250>\u001b[0m in \u001b[0;36m<module>\u001b[0;34m()\u001b[0m\n\u001b[0;32m----> 1\u001b[0;31m \u001b[0mf\u001b[0m\u001b[0;34m.\u001b[0m\u001b[0mwrite\u001b[0m\u001b[0;34m(\u001b[0m\u001b[0;34m\"jdsgfdsjgjsg\"\u001b[0m\u001b[0;34m)\u001b[0m\u001b[0;34m\u001b[0m\u001b[0;34m\u001b[0m\u001b[0m\n\u001b[0m",
      "\u001b[0;31mTypeError\u001b[0m: a bytes-like object is required, not 'str'"
     ]
    }
   ],
   "source": [
    "f.write(\"jdsgfdsjgjsg\")"
   ]
  },
  {
   "cell_type": "code",
   "execution_count": 38,
   "id": "above-baltimore",
   "metadata": {},
   "outputs": [
    {
     "data": {
      "text/plain": [
       "12"
      ]
     },
     "execution_count": 38,
     "metadata": {},
     "output_type": "execute_result"
    }
   ],
   "source": [
    "f.write(b\"jdsgfdsjgjsg\")"
   ]
  },
  {
   "cell_type": "code",
   "execution_count": 39,
   "id": "declared-southeast",
   "metadata": {},
   "outputs": [],
   "source": [
    "f.close()"
   ]
  },
  {
   "cell_type": "code",
   "execution_count": 40,
   "id": "innovative-liberal",
   "metadata": {},
   "outputs": [],
   "source": [
    "f = open(\"test1.txt\",'r')"
   ]
  },
  {
   "cell_type": "code",
   "execution_count": 41,
   "id": "least-burning",
   "metadata": {},
   "outputs": [
    {
     "data": {
      "text/plain": [
       "'jdsgfdsjgjsg'"
      ]
     },
     "execution_count": 41,
     "metadata": {},
     "output_type": "execute_result"
    }
   ],
   "source": [
    "f.read()"
   ]
  },
  {
   "cell_type": "code",
   "execution_count": 42,
   "id": "chinese-moore",
   "metadata": {},
   "outputs": [
    {
     "data": {
      "text/plain": [
       "2"
      ]
     },
     "execution_count": 42,
     "metadata": {},
     "output_type": "execute_result"
    }
   ],
   "source": [
    "f.seek(2)"
   ]
  },
  {
   "cell_type": "code",
   "execution_count": 43,
   "id": "drawn-clarity",
   "metadata": {},
   "outputs": [
    {
     "data": {
      "text/plain": [
       "'s'"
      ]
     },
     "execution_count": 43,
     "metadata": {},
     "output_type": "execute_result"
    }
   ],
   "source": [
    "f.read(1)"
   ]
  },
  {
   "cell_type": "code",
   "execution_count": 45,
   "id": "palestinian-float",
   "metadata": {},
   "outputs": [
    {
     "ename": "UnsupportedOperation",
     "evalue": "can't do nonzero end-relative seeks",
     "output_type": "error",
     "traceback": [
      "\u001b[0;31m---------------------------------------------------------------------------\u001b[0m",
      "\u001b[0;31mUnsupportedOperation\u001b[0m                      Traceback (most recent call last)",
      "\u001b[0;32m<ipython-input-45-868646d6663b>\u001b[0m in \u001b[0;36m<module>\u001b[0;34m()\u001b[0m\n\u001b[0;32m----> 1\u001b[0;31m \u001b[0mf\u001b[0m\u001b[0;34m.\u001b[0m\u001b[0mseek\u001b[0m\u001b[0;34m(\u001b[0m\u001b[0;34m-\u001b[0m\u001b[0;36m3\u001b[0m\u001b[0;34m,\u001b[0m\u001b[0;36m2\u001b[0m\u001b[0;34m)\u001b[0m\u001b[0;34m\u001b[0m\u001b[0;34m\u001b[0m\u001b[0m\n\u001b[0m",
      "\u001b[0;31mUnsupportedOperation\u001b[0m: can't do nonzero end-relative seeks"
     ]
    }
   ],
   "source": [
    "f.seek(-3,2)"
   ]
  },
  {
   "cell_type": "code",
   "execution_count": 49,
   "id": "saving-thinking",
   "metadata": {},
   "outputs": [],
   "source": [
    "f = open(\"test1.txt\",'rb')"
   ]
  },
  {
   "cell_type": "code",
   "execution_count": 50,
   "id": "ambient-sustainability",
   "metadata": {},
   "outputs": [
    {
     "data": {
      "text/plain": [
       "b'jdsgfdsjgjsg'"
      ]
     },
     "execution_count": 50,
     "metadata": {},
     "output_type": "execute_result"
    }
   ],
   "source": [
    "f.read()"
   ]
  },
  {
   "cell_type": "code",
   "execution_count": 51,
   "id": "incorrect-provincial",
   "metadata": {},
   "outputs": [
    {
     "data": {
      "text/plain": [
       "2"
      ]
     },
     "execution_count": 51,
     "metadata": {},
     "output_type": "execute_result"
    }
   ],
   "source": [
    "f.seek(2)"
   ]
  },
  {
   "cell_type": "code",
   "execution_count": 52,
   "id": "incomplete-printing",
   "metadata": {},
   "outputs": [
    {
     "data": {
      "text/plain": [
       "b's'"
      ]
     },
     "execution_count": 52,
     "metadata": {},
     "output_type": "execute_result"
    }
   ],
   "source": [
    "f.read(1)"
   ]
  },
  {
   "cell_type": "code",
   "execution_count": 53,
   "id": "miniature-terrain",
   "metadata": {},
   "outputs": [
    {
     "data": {
      "text/plain": [
       "9"
      ]
     },
     "execution_count": 53,
     "metadata": {},
     "output_type": "execute_result"
    }
   ],
   "source": [
    "f.seek(-3,2)"
   ]
  },
  {
   "cell_type": "code",
   "execution_count": 54,
   "id": "pending-punch",
   "metadata": {},
   "outputs": [],
   "source": [
    "f = open(\"test2.txt\",'w')"
   ]
  },
  {
   "cell_type": "code",
   "execution_count": 55,
   "id": "apart-river",
   "metadata": {},
   "outputs": [
    {
     "data": {
      "text/plain": [
       "58"
      ]
     },
     "execution_count": 55,
     "metadata": {},
     "output_type": "execute_result"
    }
   ],
   "source": [
    "f.write(\"a ahfhagjds gsfkhgsjghsr jsdgusdyg bxkh xdkfhsd sdkghskfhg\")"
   ]
  },
  {
   "cell_type": "code",
   "execution_count": 56,
   "id": "selected-plate",
   "metadata": {},
   "outputs": [],
   "source": [
    "f.close()"
   ]
  },
  {
   "cell_type": "code",
   "execution_count": 57,
   "id": "solar-shadow",
   "metadata": {},
   "outputs": [],
   "source": [
    "f = open(\"test2.txt\",'r')"
   ]
  },
  {
   "cell_type": "code",
   "execution_count": 58,
   "id": "worse-cross",
   "metadata": {},
   "outputs": [
    {
     "data": {
      "text/plain": [
       "'a ahfhagjds gsfkhgsjghsr jsdgusdyg bxkh xdkfhsd sdkghskfhg'"
      ]
     },
     "execution_count": 58,
     "metadata": {},
     "output_type": "execute_result"
    }
   ],
   "source": [
    "f.read()"
   ]
  },
  {
   "cell_type": "code",
   "execution_count": 59,
   "id": "cultural-binding",
   "metadata": {},
   "outputs": [
    {
     "data": {
      "text/plain": [
       "'\\ndgs\\ngsfghdfg\\nabjdsgfs\\nsdnsdkvns\\nsgddskhhg\\nnvkf\\nvnkfng\\ngnskf\\ndsgsd\\n'"
      ]
     },
     "execution_count": 59,
     "metadata": {},
     "output_type": "execute_result"
    }
   ],
   "source": [
    "f.read()"
   ]
  },
  {
   "cell_type": "code",
   "execution_count": 60,
   "id": "distant-hygiene",
   "metadata": {},
   "outputs": [
    {
     "data": {
      "text/plain": [
       "0"
      ]
     },
     "execution_count": 60,
     "metadata": {},
     "output_type": "execute_result"
    }
   ],
   "source": [
    "f.seek(0)"
   ]
  },
  {
   "cell_type": "code",
   "execution_count": 61,
   "id": "genuine-consumer",
   "metadata": {},
   "outputs": [
    {
     "data": {
      "text/plain": [
       "'a ahfhagjds gsfkhgsjghsr jsdgusdyg bxkh xdkfhsd sdkghskfhg\\n'"
      ]
     },
     "execution_count": 61,
     "metadata": {},
     "output_type": "execute_result"
    }
   ],
   "source": [
    "f.readline()"
   ]
  },
  {
   "cell_type": "code",
   "execution_count": 62,
   "id": "collective-definition",
   "metadata": {},
   "outputs": [
    {
     "data": {
      "text/plain": [
       "'dgs\\n'"
      ]
     },
     "execution_count": 62,
     "metadata": {},
     "output_type": "execute_result"
    }
   ],
   "source": [
    "f.readline()"
   ]
  },
  {
   "cell_type": "code",
   "execution_count": 63,
   "id": "offensive-utility",
   "metadata": {},
   "outputs": [
    {
     "data": {
      "text/plain": [
       "'gsfghdfg\\n'"
      ]
     },
     "execution_count": 63,
     "metadata": {},
     "output_type": "execute_result"
    }
   ],
   "source": [
    "f.readline()"
   ]
  },
  {
   "cell_type": "code",
   "execution_count": 64,
   "id": "specific-sellers",
   "metadata": {},
   "outputs": [
    {
     "data": {
      "text/plain": [
       "'abjdsgfs\\n'"
      ]
     },
     "execution_count": 64,
     "metadata": {},
     "output_type": "execute_result"
    }
   ],
   "source": [
    "f.readline()"
   ]
  },
  {
   "cell_type": "code",
   "execution_count": 65,
   "id": "crucial-smart",
   "metadata": {},
   "outputs": [
    {
     "data": {
      "text/plain": [
       "'sdnsdkvns\\n'"
      ]
     },
     "execution_count": 65,
     "metadata": {},
     "output_type": "execute_result"
    }
   ],
   "source": [
    "f.readline()"
   ]
  },
  {
   "cell_type": "code",
   "execution_count": 66,
   "id": "early-carry",
   "metadata": {},
   "outputs": [
    {
     "data": {
      "text/plain": [
       "'sgddskhhg'"
      ]
     },
     "execution_count": 66,
     "metadata": {},
     "output_type": "execute_result"
    }
   ],
   "source": [
    "f.readline(9)"
   ]
  },
  {
   "cell_type": "code",
   "execution_count": 67,
   "id": "boolean-uganda",
   "metadata": {},
   "outputs": [],
   "source": [
    "f.close()"
   ]
  },
  {
   "cell_type": "code",
   "execution_count": 68,
   "id": "limiting-monthly",
   "metadata": {},
   "outputs": [],
   "source": [
    "f = open(\"test2.txt\",'r')"
   ]
  },
  {
   "cell_type": "code",
   "execution_count": 69,
   "id": "desperate-chicago",
   "metadata": {},
   "outputs": [
    {
     "name": "stdout",
     "output_type": "stream",
     "text": [
      "a ahfhagjds gsfkhgsjghsr jsdgusdyg bxkh xdkfhsd sdkghskfhg\n",
      "\n",
      "dgs\n",
      "\n",
      "gsfghdfg\n",
      "\n",
      "abjdsgfs\n",
      "\n",
      "sdnsdkvns\n",
      "\n",
      "sgddskhhg\n",
      "\n",
      "nvkf\n",
      "\n",
      "vnkfng\n",
      "\n",
      "gnskf\n",
      "\n",
      "dsgsd\n",
      "\n"
     ]
    }
   ],
   "source": [
    "for i in f:\n",
    "    print(i)"
   ]
  },
  {
   "cell_type": "code",
   "execution_count": 72,
   "id": "documentary-fence",
   "metadata": {},
   "outputs": [],
   "source": [
    "f = open(\"test2.txt\",'r')"
   ]
  },
  {
   "cell_type": "code",
   "execution_count": 73,
   "id": "manufactured-sunday",
   "metadata": {},
   "outputs": [
    {
     "name": "stdout",
     "output_type": "stream",
     "text": [
      "a ahfhagjds gsfkhgsjghsr jsdgusdyg bxkh xdkfhsd sdkghskfhg\n",
      " dgs\n",
      " gsfghdfg\n",
      " abjdsgfs\n",
      " sdnsdkvns\n",
      " sgddskhhg\n",
      " nvkf\n",
      " vnkfng\n",
      " gnskf\n",
      " dsgsd\n",
      " "
     ]
    }
   ],
   "source": [
    "for i in f:\n",
    "    print(i,end=\" \")"
   ]
  },
  {
   "cell_type": "code",
   "execution_count": 74,
   "id": "adult-emphasis",
   "metadata": {},
   "outputs": [],
   "source": [
    "f.close()"
   ]
  },
  {
   "cell_type": "code",
   "execution_count": 75,
   "id": "adjacent-stage",
   "metadata": {},
   "outputs": [],
   "source": [
    "f = open(\"test2.txt\",'r')"
   ]
  },
  {
   "cell_type": "code",
   "execution_count": 76,
   "id": "referenced-tension",
   "metadata": {},
   "outputs": [
    {
     "data": {
      "text/plain": [
       "['a ahfhagjds gsfkhgsjghsr jsdgusdyg bxkh xdkfhsd sdkghskfhg\\n',\n",
       " 'dgs\\n',\n",
       " 'gsfghdfg\\n',\n",
       " 'abjdsgfs\\n',\n",
       " 'sdnsdkvns\\n',\n",
       " 'sgddskhhg\\n',\n",
       " 'nvkf\\n',\n",
       " 'vnkfng\\n',\n",
       " 'gnskf\\n',\n",
       " 'dsgsd\\n']"
      ]
     },
     "execution_count": 76,
     "metadata": {},
     "output_type": "execute_result"
    }
   ],
   "source": [
    "list(f)"
   ]
  },
  {
   "cell_type": "code",
   "execution_count": 77,
   "id": "lonely-rescue",
   "metadata": {},
   "outputs": [],
   "source": [
    "f = open(\"test2.txt\",'r+') # open file in read and write mode"
   ]
  },
  {
   "cell_type": "code",
   "execution_count": 78,
   "id": "hundred-innocent",
   "metadata": {},
   "outputs": [
    {
     "data": {
      "text/plain": [
       "24"
      ]
     },
     "execution_count": 78,
     "metadata": {},
     "output_type": "execute_result"
    }
   ],
   "source": [
    "f.write(\"assafjdakgdsgsjdkgfskjjg\")"
   ]
  },
  {
   "cell_type": "code",
   "execution_count": 79,
   "id": "wooden-exemption",
   "metadata": {},
   "outputs": [],
   "source": [
    "f.close()"
   ]
  },
  {
   "cell_type": "code",
   "execution_count": 102,
   "id": "political-sponsorship",
   "metadata": {},
   "outputs": [],
   "source": [
    "f = open(\"test2.txt\",'r+') # open file in read and write mode"
   ]
  },
  {
   "cell_type": "code",
   "execution_count": 103,
   "id": "polyphonic-flour",
   "metadata": {},
   "outputs": [
    {
     "data": {
      "text/plain": [
       "100"
      ]
     },
     "execution_count": 103,
     "metadata": {},
     "output_type": "execute_result"
    }
   ],
   "source": [
    "f.seek(100)"
   ]
  },
  {
   "cell_type": "code",
   "execution_count": 104,
   "id": "sudden-waste",
   "metadata": {},
   "outputs": [],
   "source": [
    "f.writelines(\"jkdshgksfgfk ghksfg\")"
   ]
  },
  {
   "cell_type": "code",
   "execution_count": 105,
   "id": "lesbian-syndrome",
   "metadata": {},
   "outputs": [],
   "source": [
    "f.close()"
   ]
  },
  {
   "cell_type": "code",
   "execution_count": 106,
   "id": "searching-license",
   "metadata": {},
   "outputs": [],
   "source": [
    "f = open(\"test1.txt\",'r+') # open file in read and write mode"
   ]
  },
  {
   "cell_type": "code",
   "execution_count": 107,
   "id": "defined-potter",
   "metadata": {},
   "outputs": [
    {
     "data": {
      "text/plain": [
       "44"
      ]
     },
     "execution_count": 107,
     "metadata": {},
     "output_type": "execute_result"
    }
   ],
   "source": [
    "f.fileno()"
   ]
  },
  {
   "cell_type": "code",
   "execution_count": 108,
   "id": "alone-karma",
   "metadata": {},
   "outputs": [
    {
     "name": "stdout",
     "output_type": "stream",
     "text": [
      "Writing test5.txt\n"
     ]
    }
   ],
   "source": [
    "%%writefile test5.txt\n",
    "my name is urvi"
   ]
  },
  {
   "cell_type": "code",
   "execution_count": 109,
   "id": "ancient-tissue",
   "metadata": {},
   "outputs": [],
   "source": [
    "import os"
   ]
  },
  {
   "cell_type": "code",
   "execution_count": 110,
   "id": "further-terrace",
   "metadata": {},
   "outputs": [
    {
     "data": {
      "text/plain": [
       "'/home/urvi/Urvi Soni/Quarantine_Days_Learning/iNeuron_Training/Full_Stack_Data_Science/full_stack_data_science/python/file_operation'"
      ]
     },
     "execution_count": 110,
     "metadata": {},
     "output_type": "execute_result"
    }
   ],
   "source": [
    "pwd() # present working directory of current notebook"
   ]
  },
  {
   "cell_type": "code",
   "execution_count": 111,
   "id": "buried-killing",
   "metadata": {},
   "outputs": [
    {
     "data": {
      "text/plain": [
       "'/home/urvi/Urvi Soni/Quarantine_Days_Learning/iNeuron_Training/Full_Stack_Data_Science/full_stack_data_science/python/file_operation'"
      ]
     },
     "execution_count": 111,
     "metadata": {},
     "output_type": "execute_result"
    }
   ],
   "source": [
    "os.getcwd()"
   ]
  },
  {
   "cell_type": "code",
   "execution_count": 112,
   "id": "intimate-coordinator",
   "metadata": {},
   "outputs": [
    {
     "data": {
      "text/plain": [
       "['test2.txt',\n",
       " 'file_operations.ipynb',\n",
       " 'test1.txt',\n",
       " 'test5.txt',\n",
       " 'test.txt',\n",
       " '.ipynb_checkpoints']"
      ]
     },
     "execution_count": 112,
     "metadata": {},
     "output_type": "execute_result"
    }
   ],
   "source": [
    "os.listdir()"
   ]
  },
  {
   "cell_type": "code",
   "execution_count": 113,
   "id": "smaller-custom",
   "metadata": {},
   "outputs": [
    {
     "data": {
      "text/plain": [
       "['README.md', '.git', 'python']"
      ]
     },
     "execution_count": 113,
     "metadata": {},
     "output_type": "execute_result"
    }
   ],
   "source": [
    "os.listdir(\"/home/urvi/Urvi Soni/Quarantine_Days_Learning/iNeuron_Training/Full_Stack_Data_Science/full_stack_data_science/\")"
   ]
  },
  {
   "cell_type": "code",
   "execution_count": 114,
   "id": "wicked-referral",
   "metadata": {},
   "outputs": [
    {
     "data": {
      "text/plain": [
       "'/home/urvi/Urvi Soni/Quarantine_Days_Learning/iNeuron_Training/Full_Stack_Data_Science/full_stack_data_science/python/file_operation'"
      ]
     },
     "execution_count": 114,
     "metadata": {},
     "output_type": "execute_result"
    }
   ],
   "source": [
    "pwd()"
   ]
  },
  {
   "cell_type": "code",
   "execution_count": 115,
   "id": "dutch-consciousness",
   "metadata": {},
   "outputs": [
    {
     "data": {
      "text/plain": [
       "'/home/urvi/Urvi Soni/Quarantine_Days_Learning/iNeuron_Training/Full_Stack_Data_Science/full_stack_data_science/python/file_operation'"
      ]
     },
     "execution_count": 115,
     "metadata": {},
     "output_type": "execute_result"
    }
   ],
   "source": [
    "os.getcwd()"
   ]
  },
  {
   "cell_type": "code",
   "execution_count": 118,
   "id": "talented-gossip",
   "metadata": {},
   "outputs": [],
   "source": [
    "os.chdir(\"/home/urvi/Urvi Soni/Quarantine_Days_Learning/iNeuron_Training/Full_Stack_Data_Science/full_stack_data_science\")"
   ]
  },
  {
   "cell_type": "code",
   "execution_count": 119,
   "id": "ethical-tribute",
   "metadata": {},
   "outputs": [
    {
     "data": {
      "text/plain": [
       "'/home/urvi/Urvi Soni/Quarantine_Days_Learning/iNeuron_Training/Full_Stack_Data_Science/full_stack_data_science'"
      ]
     },
     "execution_count": 119,
     "metadata": {},
     "output_type": "execute_result"
    }
   ],
   "source": [
    "pwd()"
   ]
  },
  {
   "cell_type": "code",
   "execution_count": 120,
   "id": "advance-yacht",
   "metadata": {},
   "outputs": [],
   "source": [
    "os.chdir(\"/home/urvi/Urvi Soni/Quarantine_Days_Learning/iNeuron_Training/Full_Stack_Data_Science/full_stack_data_science/python/file_operation\")"
   ]
  },
  {
   "cell_type": "code",
   "execution_count": 121,
   "id": "endless-prime",
   "metadata": {},
   "outputs": [
    {
     "data": {
      "text/plain": [
       "'/home/urvi/Urvi Soni/Quarantine_Days_Learning/iNeuron_Training/Full_Stack_Data_Science/full_stack_data_science/python/file_operation'"
      ]
     },
     "execution_count": 121,
     "metadata": {},
     "output_type": "execute_result"
    }
   ],
   "source": [
    "pwd()"
   ]
  },
  {
   "cell_type": "code",
   "execution_count": 123,
   "id": "verified-heater",
   "metadata": {},
   "outputs": [],
   "source": [
    "os.mkdir(\"urvi\")"
   ]
  },
  {
   "cell_type": "code",
   "execution_count": 124,
   "id": "consecutive-prophet",
   "metadata": {},
   "outputs": [
    {
     "data": {
      "text/plain": [
       "['test2.txt',\n",
       " 'file_operations.ipynb',\n",
       " 'urvi',\n",
       " 'test1.txt',\n",
       " 'test5.txt',\n",
       " 'test.txt',\n",
       " '.ipynb_checkpoints']"
      ]
     },
     "execution_count": 124,
     "metadata": {},
     "output_type": "execute_result"
    }
   ],
   "source": [
    "os.listdir()"
   ]
  },
  {
   "cell_type": "code",
   "execution_count": 126,
   "id": "inappropriate-banana",
   "metadata": {},
   "outputs": [
    {
     "name": "stdout",
     "output_type": "stream",
     "text": [
      " my file is available in this dir \n",
      "jdsgfdsjgjsg\n"
     ]
    }
   ],
   "source": [
    "if \"test1.txt\" in os.listdir():\n",
    "    print(\" my file is available in this dir \")\n",
    "    f = open(\"test1.txt\", \"r+\")\n",
    "    for i in f:\n",
    "        print(i)\n",
    "else:\n",
    "    print(\" no file is not available in this dir\")"
   ]
  },
  {
   "cell_type": "code",
   "execution_count": 127,
   "id": "earlier-yellow",
   "metadata": {},
   "outputs": [
    {
     "ename": "FileExistsError",
     "evalue": "[Errno 17] File exists: 'urvi'",
     "output_type": "error",
     "traceback": [
      "\u001b[0;31m---------------------------------------------------------------------------\u001b[0m",
      "\u001b[0;31mFileExistsError\u001b[0m                           Traceback (most recent call last)",
      "\u001b[0;32m<ipython-input-127-d7a653907a05>\u001b[0m in \u001b[0;36m<module>\u001b[0;34m()\u001b[0m\n\u001b[0;32m----> 1\u001b[0;31m \u001b[0mos\u001b[0m\u001b[0;34m.\u001b[0m\u001b[0mmkdir\u001b[0m\u001b[0;34m(\u001b[0m\u001b[0;34m\"urvi\"\u001b[0m\u001b[0;34m)\u001b[0m\u001b[0;34m\u001b[0m\u001b[0;34m\u001b[0m\u001b[0m\n\u001b[0m",
      "\u001b[0;31mFileExistsError\u001b[0m: [Errno 17] File exists: 'urvi'"
     ]
    }
   ],
   "source": [
    "os.mkdir(\"urvi\")"
   ]
  },
  {
   "cell_type": "code",
   "execution_count": 128,
   "id": "major-nurse",
   "metadata": {},
   "outputs": [],
   "source": [
    "if not os.path.isdir(\"urvi\"):\n",
    "    os.mkdir(\"urvi\")"
   ]
  },
  {
   "cell_type": "code",
   "execution_count": 129,
   "id": "wrapped-demand",
   "metadata": {},
   "outputs": [],
   "source": [
    "f = open(\"test1.txt\",\"r+\")"
   ]
  },
  {
   "cell_type": "code",
   "execution_count": 130,
   "id": "absent-deficit",
   "metadata": {},
   "outputs": [],
   "source": [
    "f.close()"
   ]
  },
  {
   "cell_type": "code",
   "execution_count": 131,
   "id": "historic-vocabulary",
   "metadata": {},
   "outputs": [],
   "source": [
    "os.rename(\"test5.txt\",\"test3.txt\")"
   ]
  },
  {
   "cell_type": "code",
   "execution_count": null,
   "id": "subjective-gothic",
   "metadata": {
    "collapsed": true
   },
   "outputs": [],
   "source": []
  }
 ],
 "metadata": {
  "kernelspec": {
   "display_name": "Python 3",
   "language": "python",
   "name": "python3"
  },
  "language_info": {
   "codemirror_mode": {
    "name": "ipython",
    "version": 3
   },
   "file_extension": ".py",
   "mimetype": "text/x-python",
   "name": "python",
   "nbconvert_exporter": "python",
   "pygments_lexer": "ipython3",
   "version": "3.6.13"
  }
 },
 "nbformat": 4,
 "nbformat_minor": 5
}
