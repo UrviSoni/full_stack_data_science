{
 "cells": [
  {
   "cell_type": "code",
   "execution_count": 3,
   "id": "numerous-flavor",
   "metadata": {},
   "outputs": [],
   "source": [
    "f = open(\"test.txt\",\"w\")"
   ]
  },
  {
   "cell_type": "code",
   "execution_count": 5,
   "id": "piano-cancellation",
   "metadata": {},
   "outputs": [
    {
     "data": {
      "text/plain": [
       "28"
      ]
     },
     "execution_count": 5,
     "metadata": {},
     "output_type": "execute_result"
    }
   ],
   "source": [
    "f.write(r\"asdhsaf ksfhdkjgh rkghkrhrek\")"
   ]
  },
  {
   "cell_type": "code",
   "execution_count": 6,
   "id": "metropolitan-aaron",
   "metadata": {},
   "outputs": [],
   "source": [
    "f.close()"
   ]
  },
  {
   "cell_type": "code",
   "execution_count": 8,
   "id": "hourly-jesus",
   "metadata": {},
   "outputs": [],
   "source": [
    "f = open(\"test.txt\")"
   ]
  },
  {
   "cell_type": "code",
   "execution_count": 9,
   "id": "reported-hygiene",
   "metadata": {},
   "outputs": [
    {
     "data": {
      "text/plain": [
       "'asdhsaf ksfhdkjgh rkghkrhrekasdhsaf ksfhdkjgh rkghkrhrek'"
      ]
     },
     "execution_count": 9,
     "metadata": {},
     "output_type": "execute_result"
    }
   ],
   "source": [
    "f.read()"
   ]
  },
  {
   "cell_type": "code",
   "execution_count": 10,
   "id": "dressed-spending",
   "metadata": {},
   "outputs": [
    {
     "data": {
      "text/plain": [
       "''"
      ]
     },
     "execution_count": 10,
     "metadata": {},
     "output_type": "execute_result"
    }
   ],
   "source": [
    "f.read()"
   ]
  },
  {
   "cell_type": "code",
   "execution_count": 13,
   "id": "mexican-stanford",
   "metadata": {},
   "outputs": [],
   "source": [
    "f = open(\"test.txt\")"
   ]
  },
  {
   "cell_type": "code",
   "execution_count": 14,
   "id": "guided-steel",
   "metadata": {},
   "outputs": [
    {
     "data": {
      "text/plain": [
       "'asdhsaf ksfhdkjgh rkghkrhrekasdhsaf ksfhdkjgh rkghkrhrek\\njhgafjd\\nsgjsgh\\nfgfdhdf\\ndfkh\\ndgjkdthre\\ndrgkruew\\ndjgs\\nsgnkjsf\\ndsngkgjshtr\\nsgnsjhgruew\\nsnsdf\\nannjfsgdu\\nsgnkfjhgd s\\nsgbgjfgdf'"
      ]
     },
     "execution_count": 14,
     "metadata": {},
     "output_type": "execute_result"
    }
   ],
   "source": [
    "f.read()"
   ]
  },
  {
   "cell_type": "code",
   "execution_count": 15,
   "id": "devoted-journal",
   "metadata": {},
   "outputs": [
    {
     "data": {
      "text/plain": [
       "''"
      ]
     },
     "execution_count": 15,
     "metadata": {},
     "output_type": "execute_result"
    }
   ],
   "source": [
    "f.read()"
   ]
  },
  {
   "cell_type": "code",
   "execution_count": 16,
   "id": "wrapped-orientation",
   "metadata": {},
   "outputs": [
    {
     "data": {
      "text/plain": [
       "10"
      ]
     },
     "execution_count": 16,
     "metadata": {},
     "output_type": "execute_result"
    }
   ],
   "source": [
    "f.seek(10)"
   ]
  },
  {
   "cell_type": "code",
   "execution_count": 17,
   "id": "unlike-contractor",
   "metadata": {},
   "outputs": [
    {
     "data": {
      "text/plain": [
       "'fhdkjgh rkghkrhrekasdhsaf ksfhdkjgh rkghkrhrek\\njhgafjd\\nsgjsgh\\nfgfdhdf\\ndfkh\\ndgjkdthre\\ndrgkruew\\ndjgs\\nsgnkjsf\\ndsngkgjshtr\\nsgnsjhgruew\\nsnsdf\\nannjfsgdu\\nsgnkfjhgd s\\nsgbgjfgdf'"
      ]
     },
     "execution_count": 17,
     "metadata": {},
     "output_type": "execute_result"
    }
   ],
   "source": [
    "f.read()"
   ]
  },
  {
   "cell_type": "code",
   "execution_count": 18,
   "id": "transsexual-spice",
   "metadata": {},
   "outputs": [
    {
     "data": {
      "text/plain": [
       "0"
      ]
     },
     "execution_count": 18,
     "metadata": {},
     "output_type": "execute_result"
    }
   ],
   "source": [
    "f.seek(0)"
   ]
  },
  {
   "cell_type": "code",
   "execution_count": 19,
   "id": "trained-catalyst",
   "metadata": {},
   "outputs": [
    {
     "data": {
      "text/plain": [
       "'asdhsaf ksfhdkjgh rkghkrhrekasdhsaf ksfhdkjgh rkghkrhrek\\njhgafjd\\nsgjsgh\\nfgfdhdf\\ndfkh\\ndgjkdthre\\ndrgkruew\\ndjgs\\nsgnkjsf\\ndsngkgjshtr\\nsgnsjhgruew\\nsnsdf\\nannjfsgdu\\nsgnkfjhgd s\\nsgbgjfgdf'"
      ]
     },
     "execution_count": 19,
     "metadata": {},
     "output_type": "execute_result"
    }
   ],
   "source": [
    "f.read()"
   ]
  },
  {
   "cell_type": "code",
   "execution_count": 21,
   "id": "least-property",
   "metadata": {},
   "outputs": [],
   "source": [
    "f = open(\"test.txt\",\"r\")"
   ]
  },
  {
   "cell_type": "code",
   "execution_count": 22,
   "id": "accomplished-speaker",
   "metadata": {},
   "outputs": [
    {
     "ename": "UnsupportedOperation",
     "evalue": "not writable",
     "output_type": "error",
     "traceback": [
      "\u001b[0;31m---------------------------------------------------------------------------\u001b[0m",
      "\u001b[0;31mUnsupportedOperation\u001b[0m                      Traceback (most recent call last)",
      "\u001b[0;32m<ipython-input-22-a9ef9642496c>\u001b[0m in \u001b[0;36m<module>\u001b[0;34m()\u001b[0m\n\u001b[0;32m----> 1\u001b[0;31m \u001b[0mf\u001b[0m\u001b[0;34m.\u001b[0m\u001b[0mwrite\u001b[0m\u001b[0;34m(\u001b[0m\u001b[0;34m\"fjhdf\"\u001b[0m\u001b[0;34m)\u001b[0m\u001b[0;34m\u001b[0m\u001b[0;34m\u001b[0m\u001b[0m\n\u001b[0m",
      "\u001b[0;31mUnsupportedOperation\u001b[0m: not writable"
     ]
    }
   ],
   "source": [
    "f.write(\"fjhdf\")"
   ]
  },
  {
   "cell_type": "code",
   "execution_count": 23,
   "id": "entitled-graham",
   "metadata": {},
   "outputs": [
    {
     "data": {
      "text/plain": [
       "'asdhsaf ksfhdkjgh rkghkrhrekasdhsaf ksfhdkjgh rkghkrhrek\\njhgafjd\\nsgjsgh\\nfgfdhdf\\ndfkh\\ndgjkdthre\\ndrgkruew\\ndjgs\\nsgnkjsf\\ndsngkgjshtr\\nsgnsjhgruew\\nsnsdf\\nannjfsgdu\\nsgnkfjhgd s\\nsgbgjfgdf'"
      ]
     },
     "execution_count": 23,
     "metadata": {},
     "output_type": "execute_result"
    }
   ],
   "source": [
    "f.read()"
   ]
  },
  {
   "cell_type": "code",
   "execution_count": 24,
   "id": "deadly-lawrence",
   "metadata": {},
   "outputs": [
    {
     "data": {
      "text/plain": [
       "''"
      ]
     },
     "execution_count": 24,
     "metadata": {},
     "output_type": "execute_result"
    }
   ],
   "source": [
    "f.read()"
   ]
  },
  {
   "cell_type": "code",
   "execution_count": 25,
   "id": "owned-tournament",
   "metadata": {},
   "outputs": [
    {
     "data": {
      "text/plain": [
       "0"
      ]
     },
     "execution_count": 25,
     "metadata": {},
     "output_type": "execute_result"
    }
   ],
   "source": [
    "f.seek(0)"
   ]
  },
  {
   "cell_type": "code",
   "execution_count": 26,
   "id": "dynamic-injury",
   "metadata": {},
   "outputs": [
    {
     "data": {
      "text/plain": [
       "'asdhsaf ksfhdkjgh rkghkrh'"
      ]
     },
     "execution_count": 26,
     "metadata": {},
     "output_type": "execute_result"
    }
   ],
   "source": [
    "f.read(25) # read data to the 25 character"
   ]
  },
  {
   "cell_type": "code",
   "execution_count": 27,
   "id": "demonstrated-symposium",
   "metadata": {},
   "outputs": [],
   "source": [
    "f.close()"
   ]
  },
  {
   "cell_type": "code",
   "execution_count": 28,
   "id": "municipal-vault",
   "metadata": {},
   "outputs": [
    {
     "ename": "ValueError",
     "evalue": "I/O operation on closed file.",
     "output_type": "error",
     "traceback": [
      "\u001b[0;31m---------------------------------------------------------------------------\u001b[0m",
      "\u001b[0;31mValueError\u001b[0m                                Traceback (most recent call last)",
      "\u001b[0;32m<ipython-input-28-571e9fb02258>\u001b[0m in \u001b[0;36m<module>\u001b[0;34m()\u001b[0m\n\u001b[0;32m----> 1\u001b[0;31m \u001b[0mf\u001b[0m\u001b[0;34m.\u001b[0m\u001b[0mread\u001b[0m\u001b[0;34m(\u001b[0m\u001b[0;34m)\u001b[0m\u001b[0;34m\u001b[0m\u001b[0;34m\u001b[0m\u001b[0m\n\u001b[0m",
      "\u001b[0;31mValueError\u001b[0m: I/O operation on closed file."
     ]
    }
   ],
   "source": [
    "f.read()"
   ]
  },
  {
   "cell_type": "code",
   "execution_count": 29,
   "id": "freelance-genre",
   "metadata": {},
   "outputs": [],
   "source": [
    "f = open(\"test.txt\",\"w\")"
   ]
  },
  {
   "cell_type": "code",
   "execution_count": 30,
   "id": "legitimate-postage",
   "metadata": {},
   "outputs": [
    {
     "data": {
      "text/plain": [
       "38"
      ]
     },
     "execution_count": 30,
     "metadata": {},
     "output_type": "execute_result"
    }
   ],
   "source": [
    "f.write(\"ajdhs dkshgsf skhdfsudyfre sdkgghfsjgr\")"
   ]
  },
  {
   "cell_type": "code",
   "execution_count": 31,
   "id": "inappropriate-machinery",
   "metadata": {},
   "outputs": [],
   "source": [
    "f.close()"
   ]
  },
  {
   "cell_type": "code",
   "execution_count": 33,
   "id": "hollow-egypt",
   "metadata": {},
   "outputs": [],
   "source": [
    "f = open(\"test.txt\",\"a\")"
   ]
  },
  {
   "cell_type": "code",
   "execution_count": 34,
   "id": "dress-diploma",
   "metadata": {},
   "outputs": [
    {
     "data": {
      "text/plain": [
       "16"
      ]
     },
     "execution_count": 34,
     "metadata": {},
     "output_type": "execute_result"
    }
   ],
   "source": [
    "f.write(\"dsfhdgsjsjgjdgrj\")"
   ]
  },
  {
   "cell_type": "code",
   "execution_count": 35,
   "id": "breeding-black",
   "metadata": {},
   "outputs": [],
   "source": [
    "f.close()"
   ]
  },
  {
   "cell_type": "code",
   "execution_count": 36,
   "id": "corporate-blair",
   "metadata": {},
   "outputs": [],
   "source": [
    "f = open(\"test1.txt\",'wb')"
   ]
  },
  {
   "cell_type": "code",
   "execution_count": 37,
   "id": "african-carolina",
   "metadata": {},
   "outputs": [
    {
     "ename": "TypeError",
     "evalue": "a bytes-like object is required, not 'str'",
     "output_type": "error",
     "traceback": [
      "\u001b[0;31m---------------------------------------------------------------------------\u001b[0m",
      "\u001b[0;31mTypeError\u001b[0m                                 Traceback (most recent call last)",
      "\u001b[0;32m<ipython-input-37-87013b906250>\u001b[0m in \u001b[0;36m<module>\u001b[0;34m()\u001b[0m\n\u001b[0;32m----> 1\u001b[0;31m \u001b[0mf\u001b[0m\u001b[0;34m.\u001b[0m\u001b[0mwrite\u001b[0m\u001b[0;34m(\u001b[0m\u001b[0;34m\"jdsgfdsjgjsg\"\u001b[0m\u001b[0;34m)\u001b[0m\u001b[0;34m\u001b[0m\u001b[0;34m\u001b[0m\u001b[0m\n\u001b[0m",
      "\u001b[0;31mTypeError\u001b[0m: a bytes-like object is required, not 'str'"
     ]
    }
   ],
   "source": [
    "f.write(\"jdsgfdsjgjsg\")"
   ]
  },
  {
   "cell_type": "code",
   "execution_count": 38,
   "id": "recent-nutrition",
   "metadata": {},
   "outputs": [
    {
     "data": {
      "text/plain": [
       "12"
      ]
     },
     "execution_count": 38,
     "metadata": {},
     "output_type": "execute_result"
    }
   ],
   "source": [
    "f.write(b\"jdsgfdsjgjsg\")"
   ]
  },
  {
   "cell_type": "code",
   "execution_count": 39,
   "id": "operational-uruguay",
   "metadata": {},
   "outputs": [],
   "source": [
    "f.close()"
   ]
  },
  {
   "cell_type": "code",
   "execution_count": 40,
   "id": "great-psychology",
   "metadata": {},
   "outputs": [],
   "source": [
    "f = open(\"test1.txt\",'r')"
   ]
  },
  {
   "cell_type": "code",
   "execution_count": 41,
   "id": "russian-standing",
   "metadata": {},
   "outputs": [
    {
     "data": {
      "text/plain": [
       "'jdsgfdsjgjsg'"
      ]
     },
     "execution_count": 41,
     "metadata": {},
     "output_type": "execute_result"
    }
   ],
   "source": [
    "f.read()"
   ]
  },
  {
   "cell_type": "code",
   "execution_count": 42,
   "id": "wired-homework",
   "metadata": {},
   "outputs": [
    {
     "data": {
      "text/plain": [
       "2"
      ]
     },
     "execution_count": 42,
     "metadata": {},
     "output_type": "execute_result"
    }
   ],
   "source": [
    "f.seek(2)"
   ]
  },
  {
   "cell_type": "code",
   "execution_count": 43,
   "id": "fallen-illustration",
   "metadata": {},
   "outputs": [
    {
     "data": {
      "text/plain": [
       "'s'"
      ]
     },
     "execution_count": 43,
     "metadata": {},
     "output_type": "execute_result"
    }
   ],
   "source": [
    "f.read(1)"
   ]
  },
  {
   "cell_type": "code",
   "execution_count": 45,
   "id": "periodic-sculpture",
   "metadata": {},
   "outputs": [
    {
     "ename": "UnsupportedOperation",
     "evalue": "can't do nonzero end-relative seeks",
     "output_type": "error",
     "traceback": [
      "\u001b[0;31m---------------------------------------------------------------------------\u001b[0m",
      "\u001b[0;31mUnsupportedOperation\u001b[0m                      Traceback (most recent call last)",
      "\u001b[0;32m<ipython-input-45-868646d6663b>\u001b[0m in \u001b[0;36m<module>\u001b[0;34m()\u001b[0m\n\u001b[0;32m----> 1\u001b[0;31m \u001b[0mf\u001b[0m\u001b[0;34m.\u001b[0m\u001b[0mseek\u001b[0m\u001b[0;34m(\u001b[0m\u001b[0;34m-\u001b[0m\u001b[0;36m3\u001b[0m\u001b[0;34m,\u001b[0m\u001b[0;36m2\u001b[0m\u001b[0;34m)\u001b[0m\u001b[0;34m\u001b[0m\u001b[0;34m\u001b[0m\u001b[0m\n\u001b[0m",
      "\u001b[0;31mUnsupportedOperation\u001b[0m: can't do nonzero end-relative seeks"
     ]
    }
   ],
   "source": [
    "f.seek(-3,2)"
   ]
  },
  {
   "cell_type": "code",
   "execution_count": 49,
   "id": "mobile-inside",
   "metadata": {},
   "outputs": [],
   "source": [
    "f = open(\"test1.txt\",'rb')"
   ]
  },
  {
   "cell_type": "code",
   "execution_count": 50,
   "id": "comprehensive-audience",
   "metadata": {},
   "outputs": [
    {
     "data": {
      "text/plain": [
       "b'jdsgfdsjgjsg'"
      ]
     },
     "execution_count": 50,
     "metadata": {},
     "output_type": "execute_result"
    }
   ],
   "source": [
    "f.read()"
   ]
  },
  {
   "cell_type": "code",
   "execution_count": 51,
   "id": "possible-theme",
   "metadata": {},
   "outputs": [
    {
     "data": {
      "text/plain": [
       "2"
      ]
     },
     "execution_count": 51,
     "metadata": {},
     "output_type": "execute_result"
    }
   ],
   "source": [
    "f.seek(2)"
   ]
  },
  {
   "cell_type": "code",
   "execution_count": 52,
   "id": "included-block",
   "metadata": {},
   "outputs": [
    {
     "data": {
      "text/plain": [
       "b's'"
      ]
     },
     "execution_count": 52,
     "metadata": {},
     "output_type": "execute_result"
    }
   ],
   "source": [
    "f.read(1)"
   ]
  },
  {
   "cell_type": "code",
   "execution_count": 53,
   "id": "official-banks",
   "metadata": {},
   "outputs": [
    {
     "data": {
      "text/plain": [
       "9"
      ]
     },
     "execution_count": 53,
     "metadata": {},
     "output_type": "execute_result"
    }
   ],
   "source": [
    "f.seek(-3,2)"
   ]
  },
  {
   "cell_type": "code",
   "execution_count": 54,
   "id": "cardiac-latino",
   "metadata": {},
   "outputs": [],
   "source": [
    "f = open(\"test2.txt\",'w')"
   ]
  },
  {
   "cell_type": "code",
   "execution_count": 55,
   "id": "incorrect-karen",
   "metadata": {},
   "outputs": [
    {
     "data": {
      "text/plain": [
       "58"
      ]
     },
     "execution_count": 55,
     "metadata": {},
     "output_type": "execute_result"
    }
   ],
   "source": [
    "f.write(\"a ahfhagjds gsfkhgsjghsr jsdgusdyg bxkh xdkfhsd sdkghskfhg\")"
   ]
  },
  {
   "cell_type": "code",
   "execution_count": 56,
   "id": "critical-newman",
   "metadata": {},
   "outputs": [],
   "source": [
    "f.close()"
   ]
  },
  {
   "cell_type": "code",
   "execution_count": 57,
   "id": "vulnerable-xerox",
   "metadata": {},
   "outputs": [],
   "source": [
    "f = open(\"test2.txt\",'r')"
   ]
  },
  {
   "cell_type": "code",
   "execution_count": 58,
   "id": "painful-sixth",
   "metadata": {},
   "outputs": [
    {
     "data": {
      "text/plain": [
       "'a ahfhagjds gsfkhgsjghsr jsdgusdyg bxkh xdkfhsd sdkghskfhg'"
      ]
     },
     "execution_count": 58,
     "metadata": {},
     "output_type": "execute_result"
    }
   ],
   "source": [
    "f.read()"
   ]
  },
  {
   "cell_type": "code",
   "execution_count": 59,
   "id": "demonstrated-yield",
   "metadata": {},
   "outputs": [
    {
     "data": {
      "text/plain": [
       "'\\ndgs\\ngsfghdfg\\nabjdsgfs\\nsdnsdkvns\\nsgddskhhg\\nnvkf\\nvnkfng\\ngnskf\\ndsgsd\\n'"
      ]
     },
     "execution_count": 59,
     "metadata": {},
     "output_type": "execute_result"
    }
   ],
   "source": [
    "f.read()"
   ]
  },
  {
   "cell_type": "code",
   "execution_count": 60,
   "id": "persistent-token",
   "metadata": {},
   "outputs": [
    {
     "data": {
      "text/plain": [
       "0"
      ]
     },
     "execution_count": 60,
     "metadata": {},
     "output_type": "execute_result"
    }
   ],
   "source": [
    "f.seek(0)"
   ]
  },
  {
   "cell_type": "code",
   "execution_count": 61,
   "id": "spiritual-crystal",
   "metadata": {},
   "outputs": [
    {
     "data": {
      "text/plain": [
       "'a ahfhagjds gsfkhgsjghsr jsdgusdyg bxkh xdkfhsd sdkghskfhg\\n'"
      ]
     },
     "execution_count": 61,
     "metadata": {},
     "output_type": "execute_result"
    }
   ],
   "source": [
    "f.readline()"
   ]
  },
  {
   "cell_type": "code",
   "execution_count": 62,
   "id": "identical-convertible",
   "metadata": {},
   "outputs": [
    {
     "data": {
      "text/plain": [
       "'dgs\\n'"
      ]
     },
     "execution_count": 62,
     "metadata": {},
     "output_type": "execute_result"
    }
   ],
   "source": [
    "f.readline()"
   ]
  },
  {
   "cell_type": "code",
   "execution_count": 63,
   "id": "realistic-fitness",
   "metadata": {},
   "outputs": [
    {
     "data": {
      "text/plain": [
       "'gsfghdfg\\n'"
      ]
     },
     "execution_count": 63,
     "metadata": {},
     "output_type": "execute_result"
    }
   ],
   "source": [
    "f.readline()"
   ]
  },
  {
   "cell_type": "code",
   "execution_count": 64,
   "id": "recent-indication",
   "metadata": {},
   "outputs": [
    {
     "data": {
      "text/plain": [
       "'abjdsgfs\\n'"
      ]
     },
     "execution_count": 64,
     "metadata": {},
     "output_type": "execute_result"
    }
   ],
   "source": [
    "f.readline()"
   ]
  },
  {
   "cell_type": "code",
   "execution_count": 65,
   "id": "material-audit",
   "metadata": {},
   "outputs": [
    {
     "data": {
      "text/plain": [
       "'sdnsdkvns\\n'"
      ]
     },
     "execution_count": 65,
     "metadata": {},
     "output_type": "execute_result"
    }
   ],
   "source": [
    "f.readline()"
   ]
  },
  {
   "cell_type": "code",
   "execution_count": 66,
   "id": "several-gather",
   "metadata": {},
   "outputs": [
    {
     "data": {
      "text/plain": [
       "'sgddskhhg'"
      ]
     },
     "execution_count": 66,
     "metadata": {},
     "output_type": "execute_result"
    }
   ],
   "source": [
    "f.readline(9)"
   ]
  },
  {
   "cell_type": "code",
   "execution_count": 67,
   "id": "indoor-cambodia",
   "metadata": {},
   "outputs": [],
   "source": [
    "f.close()"
   ]
  },
  {
   "cell_type": "code",
   "execution_count": 68,
   "id": "detected-season",
   "metadata": {},
   "outputs": [],
   "source": [
    "f = open(\"test2.txt\",'r')"
   ]
  },
  {
   "cell_type": "code",
   "execution_count": 69,
   "id": "going-prior",
   "metadata": {},
   "outputs": [
    {
     "name": "stdout",
     "output_type": "stream",
     "text": [
      "a ahfhagjds gsfkhgsjghsr jsdgusdyg bxkh xdkfhsd sdkghskfhg\n",
      "\n",
      "dgs\n",
      "\n",
      "gsfghdfg\n",
      "\n",
      "abjdsgfs\n",
      "\n",
      "sdnsdkvns\n",
      "\n",
      "sgddskhhg\n",
      "\n",
      "nvkf\n",
      "\n",
      "vnkfng\n",
      "\n",
      "gnskf\n",
      "\n",
      "dsgsd\n",
      "\n"
     ]
    }
   ],
   "source": [
    "for i in f:\n",
    "    print(i)"
   ]
  },
  {
   "cell_type": "code",
   "execution_count": 72,
   "id": "raised-grace",
   "metadata": {},
   "outputs": [],
   "source": [
    "f = open(\"test2.txt\",'r')"
   ]
  },
  {
   "cell_type": "code",
   "execution_count": 73,
   "id": "engaging-credits",
   "metadata": {},
   "outputs": [
    {
     "name": "stdout",
     "output_type": "stream",
     "text": [
      "a ahfhagjds gsfkhgsjghsr jsdgusdyg bxkh xdkfhsd sdkghskfhg\n",
      " dgs\n",
      " gsfghdfg\n",
      " abjdsgfs\n",
      " sdnsdkvns\n",
      " sgddskhhg\n",
      " nvkf\n",
      " vnkfng\n",
      " gnskf\n",
      " dsgsd\n",
      " "
     ]
    }
   ],
   "source": [
    "for i in f:\n",
    "    print(i,end=\" \")"
   ]
  },
  {
   "cell_type": "code",
   "execution_count": 74,
   "id": "blind-spiritual",
   "metadata": {},
   "outputs": [],
   "source": [
    "f.close()"
   ]
  },
  {
   "cell_type": "code",
   "execution_count": 75,
   "id": "attempted-carbon",
   "metadata": {},
   "outputs": [],
   "source": [
    "f = open(\"test2.txt\",'r')"
   ]
  },
  {
   "cell_type": "code",
   "execution_count": 76,
   "id": "temporal-personal",
   "metadata": {},
   "outputs": [
    {
     "data": {
      "text/plain": [
       "['a ahfhagjds gsfkhgsjghsr jsdgusdyg bxkh xdkfhsd sdkghskfhg\\n',\n",
       " 'dgs\\n',\n",
       " 'gsfghdfg\\n',\n",
       " 'abjdsgfs\\n',\n",
       " 'sdnsdkvns\\n',\n",
       " 'sgddskhhg\\n',\n",
       " 'nvkf\\n',\n",
       " 'vnkfng\\n',\n",
       " 'gnskf\\n',\n",
       " 'dsgsd\\n']"
      ]
     },
     "execution_count": 76,
     "metadata": {},
     "output_type": "execute_result"
    }
   ],
   "source": [
    "list(f)"
   ]
  },
  {
   "cell_type": "code",
   "execution_count": 77,
   "id": "married-scotland",
   "metadata": {},
   "outputs": [],
   "source": [
    "f = open(\"test2.txt\",'r+') # open file in read and write mode"
   ]
  },
  {
   "cell_type": "code",
   "execution_count": 78,
   "id": "surgical-tours",
   "metadata": {},
   "outputs": [
    {
     "data": {
      "text/plain": [
       "24"
      ]
     },
     "execution_count": 78,
     "metadata": {},
     "output_type": "execute_result"
    }
   ],
   "source": [
    "f.write(\"assafjdakgdsgsjdkgfskjjg\")"
   ]
  },
  {
   "cell_type": "code",
   "execution_count": 79,
   "id": "exempt-myanmar",
   "metadata": {},
   "outputs": [],
   "source": [
    "f.close()"
   ]
  },
  {
   "cell_type": "code",
   "execution_count": 102,
   "id": "british-patrol",
   "metadata": {},
   "outputs": [],
   "source": [
    "f = open(\"test2.txt\",'r+') # open file in read and write mode"
   ]
  },
  {
   "cell_type": "code",
   "execution_count": 103,
   "id": "standing-encoding",
   "metadata": {},
   "outputs": [
    {
     "data": {
      "text/plain": [
       "100"
      ]
     },
     "execution_count": 103,
     "metadata": {},
     "output_type": "execute_result"
    }
   ],
   "source": [
    "f.seek(100)"
   ]
  },
  {
   "cell_type": "code",
   "execution_count": 104,
   "id": "eleven-familiar",
   "metadata": {},
   "outputs": [],
   "source": [
    "f.writelines(\"jkdshgksfgfk ghksfg\")"
   ]
  },
  {
   "cell_type": "code",
   "execution_count": 105,
   "id": "fluid-ranch",
   "metadata": {},
   "outputs": [],
   "source": [
    "f.close()"
   ]
  },
  {
   "cell_type": "code",
   "execution_count": 106,
   "id": "needed-idaho",
   "metadata": {},
   "outputs": [],
   "source": [
    "f = open(\"test1.txt\",'r+') # open file in read and write mode"
   ]
  },
  {
   "cell_type": "code",
   "execution_count": 107,
   "id": "disturbed-nicaragua",
   "metadata": {},
   "outputs": [
    {
     "data": {
      "text/plain": [
       "44"
      ]
     },
     "execution_count": 107,
     "metadata": {},
     "output_type": "execute_result"
    }
   ],
   "source": [
    "f.fileno()"
   ]
  },
  {
   "cell_type": "code",
   "execution_count": 108,
   "id": "legendary-france",
   "metadata": {},
   "outputs": [
    {
     "name": "stdout",
     "output_type": "stream",
     "text": [
      "Writing test5.txt\n"
     ]
    }
   ],
   "source": [
    "%%writefile test5.txt\n",
    "my name is urvi"
   ]
  },
  {
   "cell_type": "code",
   "execution_count": 109,
   "id": "going-apparel",
   "metadata": {},
   "outputs": [],
   "source": [
    "import os"
   ]
  },
  {
   "cell_type": "code",
   "execution_count": 110,
   "id": "completed-maple",
   "metadata": {},
   "outputs": [
    {
     "data": {
      "text/plain": [
       "'/home/urvi/Urvi Soni/Quarantine_Days_Learning/iNeuron_Training/Full_Stack_Data_Science/full_stack_data_science/python/file_operation'"
      ]
     },
     "execution_count": 110,
     "metadata": {},
     "output_type": "execute_result"
    }
   ],
   "source": [
    "pwd() # present working directory of current notebook"
   ]
  },
  {
   "cell_type": "code",
   "execution_count": 111,
   "id": "convertible-consumption",
   "metadata": {},
   "outputs": [
    {
     "data": {
      "text/plain": [
       "'/home/urvi/Urvi Soni/Quarantine_Days_Learning/iNeuron_Training/Full_Stack_Data_Science/full_stack_data_science/python/file_operation'"
      ]
     },
     "execution_count": 111,
     "metadata": {},
     "output_type": "execute_result"
    }
   ],
   "source": [
    "os.getcwd()"
   ]
  },
  {
   "cell_type": "code",
   "execution_count": 112,
   "id": "organizational-seminar",
   "metadata": {},
   "outputs": [
    {
     "data": {
      "text/plain": [
       "['test2.txt',\n",
       " 'file_operations.ipynb',\n",
       " 'test1.txt',\n",
       " 'test5.txt',\n",
       " 'test.txt',\n",
       " '.ipynb_checkpoints']"
      ]
     },
     "execution_count": 112,
     "metadata": {},
     "output_type": "execute_result"
    }
   ],
   "source": [
    "os.listdir()"
   ]
  },
  {
   "cell_type": "code",
   "execution_count": 113,
   "id": "wrong-hudson",
   "metadata": {},
   "outputs": [
    {
     "data": {
      "text/plain": [
       "['README.md', '.git', 'python']"
      ]
     },
     "execution_count": 113,
     "metadata": {},
     "output_type": "execute_result"
    }
   ],
   "source": [
    "os.listdir(\"/home/urvi/Urvi Soni/Quarantine_Days_Learning/iNeuron_Training/Full_Stack_Data_Science/full_stack_data_science/\")"
   ]
  },
  {
   "cell_type": "code",
   "execution_count": 114,
   "id": "pleased-chassis",
   "metadata": {},
   "outputs": [
    {
     "data": {
      "text/plain": [
       "'/home/urvi/Urvi Soni/Quarantine_Days_Learning/iNeuron_Training/Full_Stack_Data_Science/full_stack_data_science/python/file_operation'"
      ]
     },
     "execution_count": 114,
     "metadata": {},
     "output_type": "execute_result"
    }
   ],
   "source": [
    "pwd()"
   ]
  },
  {
   "cell_type": "code",
   "execution_count": 115,
   "id": "answering-classification",
   "metadata": {},
   "outputs": [
    {
     "data": {
      "text/plain": [
       "'/home/urvi/Urvi Soni/Quarantine_Days_Learning/iNeuron_Training/Full_Stack_Data_Science/full_stack_data_science/python/file_operation'"
      ]
     },
     "execution_count": 115,
     "metadata": {},
     "output_type": "execute_result"
    }
   ],
   "source": [
    "os.getcwd()"
   ]
  },
  {
   "cell_type": "code",
   "execution_count": 118,
   "id": "resistant-locking",
   "metadata": {},
   "outputs": [],
   "source": [
    "os.chdir(\"/home/urvi/Urvi Soni/Quarantine_Days_Learning/iNeuron_Training/Full_Stack_Data_Science/full_stack_data_science\")"
   ]
  },
  {
   "cell_type": "code",
   "execution_count": 119,
   "id": "impressive-intention",
   "metadata": {},
   "outputs": [
    {
     "data": {
      "text/plain": [
       "'/home/urvi/Urvi Soni/Quarantine_Days_Learning/iNeuron_Training/Full_Stack_Data_Science/full_stack_data_science'"
      ]
     },
     "execution_count": 119,
     "metadata": {},
     "output_type": "execute_result"
    }
   ],
   "source": [
    "pwd()"
   ]
  },
  {
   "cell_type": "code",
   "execution_count": 120,
   "id": "standing-parcel",
   "metadata": {},
   "outputs": [],
   "source": [
    "os.chdir(\"/home/urvi/Urvi Soni/Quarantine_Days_Learning/iNeuron_Training/Full_Stack_Data_Science/full_stack_data_science/python/file_operation\")"
   ]
  },
  {
   "cell_type": "code",
   "execution_count": 121,
   "id": "recreational-happiness",
   "metadata": {},
   "outputs": [
    {
     "data": {
      "text/plain": [
       "'/home/urvi/Urvi Soni/Quarantine_Days_Learning/iNeuron_Training/Full_Stack_Data_Science/full_stack_data_science/python/file_operation'"
      ]
     },
     "execution_count": 121,
     "metadata": {},
     "output_type": "execute_result"
    }
   ],
   "source": [
    "pwd()"
   ]
  },
  {
   "cell_type": "code",
   "execution_count": 123,
   "id": "varying-minnesota",
   "metadata": {},
   "outputs": [],
   "source": [
    "os.mkdir(\"urvi\")"
   ]
  },
  {
   "cell_type": "code",
   "execution_count": 124,
   "id": "removable-iceland",
   "metadata": {},
   "outputs": [
    {
     "data": {
      "text/plain": [
       "['test2.txt',\n",
       " 'file_operations.ipynb',\n",
       " 'urvi',\n",
       " 'test1.txt',\n",
       " 'test5.txt',\n",
       " 'test.txt',\n",
       " '.ipynb_checkpoints']"
      ]
     },
     "execution_count": 124,
     "metadata": {},
     "output_type": "execute_result"
    }
   ],
   "source": [
    "os.listdir()"
   ]
  },
  {
   "cell_type": "code",
   "execution_count": 126,
   "id": "horizontal-alignment",
   "metadata": {},
   "outputs": [
    {
     "name": "stdout",
     "output_type": "stream",
     "text": [
      " my file is available in this dir \n",
      "jdsgfdsjgjsg\n"
     ]
    }
   ],
   "source": [
    "if \"test1.txt\" in os.listdir():\n",
    "    print(\" my file is available in this dir \")\n",
    "    f = open(\"test1.txt\", \"r+\")\n",
    "    for i in f:\n",
    "        print(i)\n",
    "else:\n",
    "    print(\" no file is not available in this dir\")"
   ]
  },
  {
   "cell_type": "code",
   "execution_count": 127,
   "id": "attached-singer",
   "metadata": {},
   "outputs": [
    {
     "ename": "FileExistsError",
     "evalue": "[Errno 17] File exists: 'urvi'",
     "output_type": "error",
     "traceback": [
      "\u001b[0;31m---------------------------------------------------------------------------\u001b[0m",
      "\u001b[0;31mFileExistsError\u001b[0m                           Traceback (most recent call last)",
      "\u001b[0;32m<ipython-input-127-d7a653907a05>\u001b[0m in \u001b[0;36m<module>\u001b[0;34m()\u001b[0m\n\u001b[0;32m----> 1\u001b[0;31m \u001b[0mos\u001b[0m\u001b[0;34m.\u001b[0m\u001b[0mmkdir\u001b[0m\u001b[0;34m(\u001b[0m\u001b[0;34m\"urvi\"\u001b[0m\u001b[0;34m)\u001b[0m\u001b[0;34m\u001b[0m\u001b[0;34m\u001b[0m\u001b[0m\n\u001b[0m",
      "\u001b[0;31mFileExistsError\u001b[0m: [Errno 17] File exists: 'urvi'"
     ]
    }
   ],
   "source": [
    "os.mkdir(\"urvi\")"
   ]
  },
  {
   "cell_type": "code",
   "execution_count": 128,
   "id": "average-update",
   "metadata": {},
   "outputs": [],
   "source": [
    "if not os.path.isdir(\"urvi\"):\n",
    "    os.mkdir(\"urvi\")"
   ]
  },
  {
   "cell_type": "code",
   "execution_count": 129,
   "id": "talented-moment",
   "metadata": {},
   "outputs": [],
   "source": [
    "f = open(\"test1.txt\",\"r+\")"
   ]
  },
  {
   "cell_type": "code",
   "execution_count": 130,
   "id": "fancy-summer",
   "metadata": {},
   "outputs": [],
   "source": [
    "f.close()"
   ]
  },
  {
   "cell_type": "code",
   "execution_count": 131,
   "id": "processed-receptor",
   "metadata": {},
   "outputs": [],
   "source": [
    "os.rename(\"test5.txt\",\"test3.txt\")"
   ]
  },
  {
   "cell_type": "code",
   "execution_count": 132,
   "id": "cross-evolution",
   "metadata": {},
   "outputs": [],
   "source": [
    "os.rmdir(\"urvi\")"
   ]
  },
  {
   "cell_type": "code",
   "execution_count": null,
   "id": "fresh-polls",
   "metadata": {},
   "outputs": [],
   "source": [
    "import shutil\n",
    "\n",
    "shutil.move(\"/home/urvi/Urvi Soni/Quarantine_Days_Learning/iNeuron_Training/Full_Stack_Data_Science/full_stack_data_science/python/file_operation\",\"/home/urvi/Urvi Soni/Quarantine_Days_Learning/iNeuron_Training/Full_Stack_Data_Science/\")"
   ]
  },
  {
   "cell_type": "code",
   "execution_count": 101,
   "id": "another-component",
   "metadata": {},
   "outputs": [],
   "source": [
    "os.chdir(\"/home/urvi/Urvi Soni/Quarantine_Days_Learning/iNeuron_Training/Full_Stack_Data_Science/file_operation\")"
   ]
  },
  {
   "cell_type": "code",
   "execution_count": 102,
   "id": "incorrect-default",
   "metadata": {},
   "outputs": [],
   "source": [
    "import os\n",
    "\n",
    "os.mkdir(\"test\")"
   ]
  },
  {
   "cell_type": "code",
   "execution_count": 103,
   "id": "reasonable-malaysia",
   "metadata": {},
   "outputs": [
    {
     "data": {
      "text/plain": [
       "'/home/urvi/Urvi Soni/Quarantine_Days_Learning/iNeuron_Training/Full_Stack_Data_Science/file_operation'"
      ]
     },
     "execution_count": 103,
     "metadata": {},
     "output_type": "execute_result"
    }
   ],
   "source": [
    "os.getcwd()"
   ]
  },
  {
   "cell_type": "code",
   "execution_count": 104,
   "id": "intimate-sociology",
   "metadata": {},
   "outputs": [],
   "source": [
    "os.chdir(\"/home/urvi/Urvi Soni/Quarantine_Days_Learning/iNeuron_Training/Full_Stack_Data_Science/file_operation/test\")"
   ]
  },
  {
   "cell_type": "code",
   "execution_count": 105,
   "id": "balanced-irish",
   "metadata": {},
   "outputs": [
    {
     "data": {
      "text/plain": [
       "'/home/urvi/Urvi Soni/Quarantine_Days_Learning/iNeuron_Training/Full_Stack_Data_Science/file_operation/test'"
      ]
     },
     "execution_count": 105,
     "metadata": {},
     "output_type": "execute_result"
    }
   ],
   "source": [
    "os.getcwd()"
   ]
  },
  {
   "cell_type": "code",
   "execution_count": 106,
   "id": "ignored-rugby",
   "metadata": {},
   "outputs": [],
   "source": [
    "list1 = ['_f_1', '_f_2', '_f_3','_f_4','_f_5','_f_6','_f_7','_f_8','_f_9','_f_10']\n",
    "\n",
    "for i in range(len(list1)):\n",
    "    open('file%s.txt' % i, 'w').write(list1[i])"
   ]
  },
  {
   "cell_type": "code",
   "execution_count": 107,
   "id": "covered-trout",
   "metadata": {},
   "outputs": [
    {
     "name": "stdout",
     "output_type": "stream",
     "text": [
      "_f_1\n",
      "_f_2\n",
      "_f_3\n",
      "_f_4\n",
      "_f_5\n",
      "_f_6\n",
      "_f_7\n",
      "_f_8\n",
      "_f_9\n",
      "_f_10\n"
     ]
    }
   ],
   "source": [
    "for i in range(len(list1)):\n",
    "    f = open('file%s.txt' % i, 'r')\n",
    "    data = f.read()\n",
    "    f.close()\n",
    "    print(data)"
   ]
  },
  {
   "cell_type": "code",
   "execution_count": 108,
   "id": "exempt-nickname",
   "metadata": {},
   "outputs": [
    {
     "name": "stdout",
     "output_type": "stream",
     "text": [
      "['_f_1']\n",
      "['_f_1', '_f_2']\n",
      "['_f_1', '_f_2', '_f_3']\n",
      "['_f_1', '_f_2', '_f_3', '_f_4']\n",
      "['_f_1', '_f_2', '_f_3', '_f_4', '_f_5']\n",
      "['_f_1', '_f_2', '_f_3', '_f_4', '_f_5', '_f_6']\n",
      "['_f_1', '_f_2', '_f_3', '_f_4', '_f_5', '_f_6', '_f_7']\n",
      "['_f_1', '_f_2', '_f_3', '_f_4', '_f_5', '_f_6', '_f_7', '_f_8']\n",
      "['_f_1', '_f_2', '_f_3', '_f_4', '_f_5', '_f_6', '_f_7', '_f_8', '_f_9']\n",
      "['_f_1', '_f_2', '_f_3', '_f_4', '_f_5', '_f_6', '_f_7', '_f_8', '_f_9', '_f_10']\n"
     ]
    }
   ],
   "source": [
    "l = [] \n",
    "for i in range(len(list1)):\n",
    "    f = open('file%s.txt' % i, 'r')\n",
    "    l.append(f.read()) \n",
    "    f.close() \n",
    "    print(l)\n",
    "    "
   ]
  },
  {
   "cell_type": "code",
   "execution_count": 109,
   "id": "electronic-department",
   "metadata": {},
   "outputs": [],
   "source": [
    "f = open('new_file.txt', 'w') \n",
    "for i in l: \n",
    "    f.write(i) \n",
    "f.close()"
   ]
  },
  {
   "cell_type": "code",
   "execution_count": 110,
   "id": "derived-leeds",
   "metadata": {},
   "outputs": [
    {
     "data": {
      "text/plain": [
       "'/home/urvi/Urvi Soni/Quarantine_Days_Learning/iNeuron_Training/Full_Stack_Data_Science/file_operation/test'"
      ]
     },
     "execution_count": 110,
     "metadata": {},
     "output_type": "execute_result"
    }
   ],
   "source": [
    "source = os.getcwd()\n",
    "source"
   ]
  },
  {
   "cell_type": "code",
   "execution_count": 111,
   "id": "recent-texture",
   "metadata": {},
   "outputs": [
    {
     "name": "stdout",
     "output_type": "stream",
     "text": [
      "<class 'str'>\n"
     ]
    }
   ],
   "source": [
    "print(type(source))"
   ]
  },
  {
   "cell_type": "code",
   "execution_count": 112,
   "id": "sitting-knowing",
   "metadata": {},
   "outputs": [],
   "source": [
    "dest = os.mkdir(\"moving_files\")\n",
    "dest"
   ]
  },
  {
   "cell_type": "code",
   "execution_count": 113,
   "id": "liked-wheel",
   "metadata": {},
   "outputs": [
    {
     "data": {
      "text/plain": [
       "['file4.txt',\n",
       " 'file5.txt',\n",
       " 'file6.txt',\n",
       " 'file1.txt',\n",
       " 'file0.txt',\n",
       " 'file8.txt',\n",
       " 'file2.txt',\n",
       " 'file3.txt',\n",
       " 'new_file.txt',\n",
       " 'moving_files',\n",
       " 'file9.txt',\n",
       " 'file7.txt']"
      ]
     },
     "execution_count": 113,
     "metadata": {},
     "output_type": "execute_result"
    }
   ],
   "source": [
    "os.listdir()"
   ]
  },
  {
   "cell_type": "code",
   "execution_count": 115,
   "id": "extreme-guess",
   "metadata": {},
   "outputs": [
    {
     "data": {
      "text/plain": [
       "[]"
      ]
     },
     "execution_count": 115,
     "metadata": {},
     "output_type": "execute_result"
    }
   ],
   "source": [
    "os.listdir('moving_files/')"
   ]
  },
  {
   "cell_type": "code",
   "execution_count": 92,
   "id": "representative-dance",
   "metadata": {},
   "outputs": [],
   "source": [
    "dest1 = os.chdir(\"/home/urvi/Urvi Soni/Quarantine_Days_Learning/iNeuron_Training/Full_Stack_Data_Science/file_operation/test/moving_files\")\n",
    "f_dest = dest1"
   ]
  },
  {
   "cell_type": "code",
   "execution_count": 100,
   "id": "applied-mandate",
   "metadata": {},
   "outputs": [
    {
     "data": {
      "text/plain": [
       "[]"
      ]
     },
     "execution_count": 100,
     "metadata": {},
     "output_type": "execute_result"
    }
   ],
   "source": [
    "os.listdir()"
   ]
  },
  {
   "cell_type": "code",
   "execution_count": 99,
   "id": "former-composition",
   "metadata": {},
   "outputs": [
    {
     "name": "stdout",
     "output_type": "stream",
     "text": [
      "<class 'NoneType'>\n"
     ]
    }
   ],
   "source": [
    "print(type(dest1))"
   ]
  },
  {
   "cell_type": "code",
   "execution_count": 97,
   "id": "straight-continuity",
   "metadata": {},
   "outputs": [
    {
     "name": "stdout",
     "output_type": "stream",
     "text": [
      "<class 'NoneType'>\n"
     ]
    }
   ],
   "source": [
    "print(type(f_dest))"
   ]
  },
  {
   "cell_type": "code",
   "execution_count": 93,
   "id": "strong-gibson",
   "metadata": {},
   "outputs": [
    {
     "data": {
      "text/plain": [
       "['file4.txt',\n",
       " 'file5.txt',\n",
       " 'file6.txt',\n",
       " 'file1.txt',\n",
       " 'file0.txt',\n",
       " 'file8.txt',\n",
       " 'file2.txt',\n",
       " 'file3.txt',\n",
       " 'new_file.txt',\n",
       " 'moving_files',\n",
       " 'file9.txt',\n",
       " 'file7.txt']"
      ]
     },
     "execution_count": 93,
     "metadata": {},
     "output_type": "execute_result"
    }
   ],
   "source": [
    "files = os.listdir(source)\n",
    "files"
   ]
  },
  {
   "cell_type": "code",
   "execution_count": 96,
   "id": "composite-eating",
   "metadata": {},
   "outputs": [
    {
     "name": "stdout",
     "output_type": "stream",
     "text": [
      "file4.txt\n",
      "<class 'str'>\n",
      "file5.txt\n",
      "<class 'str'>\n",
      "file6.txt\n",
      "<class 'str'>\n",
      "file1.txt\n",
      "<class 'str'>\n",
      "file0.txt\n",
      "<class 'str'>\n",
      "file8.txt\n",
      "<class 'str'>\n",
      "file2.txt\n",
      "<class 'str'>\n",
      "file3.txt\n",
      "<class 'str'>\n",
      "new_file.txt\n",
      "<class 'str'>\n",
      "moving_files\n",
      "<class 'str'>\n",
      "file9.txt\n",
      "<class 'str'>\n",
      "file7.txt\n",
      "<class 'str'>\n"
     ]
    }
   ],
   "source": [
    "for f in files:\n",
    "    print(f)\n",
    "    print(type(f))"
   ]
  },
  {
   "cell_type": "code",
   "execution_count": null,
   "id": "worse-packaging",
   "metadata": {},
   "outputs": [],
   "source": [
    "if \"moving_files\" in os.listdir():\n",
    "    "
   ]
  },
  {
   "cell_type": "code",
   "execution_count": 95,
   "id": "toxic-incident",
   "metadata": {},
   "outputs": [
    {
     "ename": "TypeError",
     "evalue": "stat: path should be string, bytes, os.PathLike or integer, not NoneType",
     "output_type": "error",
     "traceback": [
      "\u001b[0;31m---------------------------------------------------------------------------\u001b[0m",
      "\u001b[0;31mTypeError\u001b[0m                                 Traceback (most recent call last)",
      "\u001b[0;32m<ipython-input-95-36654f99d6ff>\u001b[0m in \u001b[0;36m<module>\u001b[0;34m()\u001b[0m\n\u001b[1;32m      2\u001b[0m \u001b[0;32mfor\u001b[0m \u001b[0mf\u001b[0m \u001b[0;32min\u001b[0m \u001b[0mfiles\u001b[0m\u001b[0;34m:\u001b[0m\u001b[0;34m\u001b[0m\u001b[0;34m\u001b[0m\u001b[0m\n\u001b[1;32m      3\u001b[0m     \u001b[0;32mif\u001b[0m \u001b[0mf\u001b[0m\u001b[0;34m.\u001b[0m\u001b[0mstartswith\u001b[0m\u001b[0;34m(\u001b[0m\u001b[0;34m\"file\"\u001b[0m\u001b[0;34m)\u001b[0m\u001b[0;34m:\u001b[0m\u001b[0;34m\u001b[0m\u001b[0;34m\u001b[0m\u001b[0m\n\u001b[0;32m----> 4\u001b[0;31m         \u001b[0mshutil\u001b[0m\u001b[0;34m.\u001b[0m\u001b[0mmove\u001b[0m\u001b[0;34m(\u001b[0m\u001b[0mf\u001b[0m\u001b[0;34m,\u001b[0m \u001b[0mf_dest\u001b[0m\u001b[0;34m)\u001b[0m\u001b[0;34m\u001b[0m\u001b[0;34m\u001b[0m\u001b[0m\n\u001b[0m",
      "\u001b[0;32m/home/urvi/anaconda3/envs/ineuron-test/lib/python3.6/shutil.py\u001b[0m in \u001b[0;36mmove\u001b[0;34m(src, dst, copy_function)\u001b[0m\n\u001b[1;32m    537\u001b[0m     \"\"\"\n\u001b[1;32m    538\u001b[0m     \u001b[0mreal_dst\u001b[0m \u001b[0;34m=\u001b[0m \u001b[0mdst\u001b[0m\u001b[0;34m\u001b[0m\u001b[0;34m\u001b[0m\u001b[0m\n\u001b[0;32m--> 539\u001b[0;31m     \u001b[0;32mif\u001b[0m \u001b[0mos\u001b[0m\u001b[0;34m.\u001b[0m\u001b[0mpath\u001b[0m\u001b[0;34m.\u001b[0m\u001b[0misdir\u001b[0m\u001b[0;34m(\u001b[0m\u001b[0mdst\u001b[0m\u001b[0;34m)\u001b[0m\u001b[0;34m:\u001b[0m\u001b[0;34m\u001b[0m\u001b[0;34m\u001b[0m\u001b[0m\n\u001b[0m\u001b[1;32m    540\u001b[0m         \u001b[0;32mif\u001b[0m \u001b[0m_samefile\u001b[0m\u001b[0;34m(\u001b[0m\u001b[0msrc\u001b[0m\u001b[0;34m,\u001b[0m \u001b[0mdst\u001b[0m\u001b[0;34m)\u001b[0m\u001b[0;34m:\u001b[0m\u001b[0;34m\u001b[0m\u001b[0;34m\u001b[0m\u001b[0m\n\u001b[1;32m    541\u001b[0m             \u001b[0;31m# We might be on a case insensitive filesystem,\u001b[0m\u001b[0;34m\u001b[0m\u001b[0;34m\u001b[0m\u001b[0;34m\u001b[0m\u001b[0m\n",
      "\u001b[0;32m/home/urvi/anaconda3/envs/ineuron-test/lib/python3.6/genericpath.py\u001b[0m in \u001b[0;36misdir\u001b[0;34m(s)\u001b[0m\n\u001b[1;32m     40\u001b[0m     \u001b[0;34m\"\"\"Return true if the pathname refers to an existing directory.\"\"\"\u001b[0m\u001b[0;34m\u001b[0m\u001b[0;34m\u001b[0m\u001b[0m\n\u001b[1;32m     41\u001b[0m     \u001b[0;32mtry\u001b[0m\u001b[0;34m:\u001b[0m\u001b[0;34m\u001b[0m\u001b[0;34m\u001b[0m\u001b[0m\n\u001b[0;32m---> 42\u001b[0;31m         \u001b[0mst\u001b[0m \u001b[0;34m=\u001b[0m \u001b[0mos\u001b[0m\u001b[0;34m.\u001b[0m\u001b[0mstat\u001b[0m\u001b[0;34m(\u001b[0m\u001b[0ms\u001b[0m\u001b[0;34m)\u001b[0m\u001b[0;34m\u001b[0m\u001b[0;34m\u001b[0m\u001b[0m\n\u001b[0m\u001b[1;32m     43\u001b[0m     \u001b[0;32mexcept\u001b[0m \u001b[0mOSError\u001b[0m\u001b[0;34m:\u001b[0m\u001b[0;34m\u001b[0m\u001b[0;34m\u001b[0m\u001b[0m\n\u001b[1;32m     44\u001b[0m         \u001b[0;32mreturn\u001b[0m \u001b[0;32mFalse\u001b[0m\u001b[0;34m\u001b[0m\u001b[0;34m\u001b[0m\u001b[0m\n",
      "\u001b[0;31mTypeError\u001b[0m: stat: path should be string, bytes, os.PathLike or integer, not NoneType"
     ]
    }
   ],
   "source": [
    "import shutil\n",
    "for f in files:\n",
    "    if f.startswith(\"file\"):\n",
    "        shutil.move(f, f_dest)"
   ]
  },
  {
   "cell_type": "code",
   "execution_count": 20,
   "id": "spread-bermuda",
   "metadata": {},
   "outputs": [
    {
     "ename": "TypeError",
     "evalue": "stat: path should be string, bytes, os.PathLike or integer, not NoneType",
     "output_type": "error",
     "traceback": [
      "\u001b[0;31m---------------------------------------------------------------------------\u001b[0m",
      "\u001b[0;31mTypeError\u001b[0m                                 Traceback (most recent call last)",
      "\u001b[0;32m<ipython-input-20-3aa38fd2098e>\u001b[0m in \u001b[0;36m<module>\u001b[0;34m()\u001b[0m\n\u001b[1;32m      5\u001b[0m \u001b[0;32mfor\u001b[0m \u001b[0mf\u001b[0m \u001b[0;32min\u001b[0m \u001b[0mfiles\u001b[0m\u001b[0;34m:\u001b[0m\u001b[0;34m\u001b[0m\u001b[0;34m\u001b[0m\u001b[0m\n\u001b[1;32m      6\u001b[0m     \u001b[0;32mif\u001b[0m \u001b[0mf\u001b[0m\u001b[0;34m.\u001b[0m\u001b[0mstartswith\u001b[0m\u001b[0;34m(\u001b[0m\u001b[0;34m\"file\"\u001b[0m\u001b[0;34m)\u001b[0m\u001b[0;34m:\u001b[0m\u001b[0;34m\u001b[0m\u001b[0;34m\u001b[0m\u001b[0m\n\u001b[0;32m----> 7\u001b[0;31m         \u001b[0mshutil\u001b[0m\u001b[0;34m.\u001b[0m\u001b[0mmove\u001b[0m\u001b[0;34m(\u001b[0m\u001b[0mf\u001b[0m\u001b[0;34m,\u001b[0m \u001b[0mdest\u001b[0m\u001b[0;34m)\u001b[0m\u001b[0;34m\u001b[0m\u001b[0;34m\u001b[0m\u001b[0m\n\u001b[0m",
      "\u001b[0;32m/home/urvi/anaconda3/envs/ineuron-test/lib/python3.6/shutil.py\u001b[0m in \u001b[0;36mmove\u001b[0;34m(src, dst, copy_function)\u001b[0m\n\u001b[1;32m    537\u001b[0m     \"\"\"\n\u001b[1;32m    538\u001b[0m     \u001b[0mreal_dst\u001b[0m \u001b[0;34m=\u001b[0m \u001b[0mdst\u001b[0m\u001b[0;34m\u001b[0m\u001b[0;34m\u001b[0m\u001b[0m\n\u001b[0;32m--> 539\u001b[0;31m     \u001b[0;32mif\u001b[0m \u001b[0mos\u001b[0m\u001b[0;34m.\u001b[0m\u001b[0mpath\u001b[0m\u001b[0;34m.\u001b[0m\u001b[0misdir\u001b[0m\u001b[0;34m(\u001b[0m\u001b[0mdst\u001b[0m\u001b[0;34m)\u001b[0m\u001b[0;34m:\u001b[0m\u001b[0;34m\u001b[0m\u001b[0;34m\u001b[0m\u001b[0m\n\u001b[0m\u001b[1;32m    540\u001b[0m         \u001b[0;32mif\u001b[0m \u001b[0m_samefile\u001b[0m\u001b[0;34m(\u001b[0m\u001b[0msrc\u001b[0m\u001b[0;34m,\u001b[0m \u001b[0mdst\u001b[0m\u001b[0;34m)\u001b[0m\u001b[0;34m:\u001b[0m\u001b[0;34m\u001b[0m\u001b[0;34m\u001b[0m\u001b[0m\n\u001b[1;32m    541\u001b[0m             \u001b[0;31m# We might be on a case insensitive filesystem,\u001b[0m\u001b[0;34m\u001b[0m\u001b[0;34m\u001b[0m\u001b[0;34m\u001b[0m\u001b[0m\n",
      "\u001b[0;32m/home/urvi/anaconda3/envs/ineuron-test/lib/python3.6/genericpath.py\u001b[0m in \u001b[0;36misdir\u001b[0;34m(s)\u001b[0m\n\u001b[1;32m     40\u001b[0m     \u001b[0;34m\"\"\"Return true if the pathname refers to an existing directory.\"\"\"\u001b[0m\u001b[0;34m\u001b[0m\u001b[0;34m\u001b[0m\u001b[0m\n\u001b[1;32m     41\u001b[0m     \u001b[0;32mtry\u001b[0m\u001b[0;34m:\u001b[0m\u001b[0;34m\u001b[0m\u001b[0;34m\u001b[0m\u001b[0m\n\u001b[0;32m---> 42\u001b[0;31m         \u001b[0mst\u001b[0m \u001b[0;34m=\u001b[0m \u001b[0mos\u001b[0m\u001b[0;34m.\u001b[0m\u001b[0mstat\u001b[0m\u001b[0;34m(\u001b[0m\u001b[0ms\u001b[0m\u001b[0;34m)\u001b[0m\u001b[0;34m\u001b[0m\u001b[0;34m\u001b[0m\u001b[0m\n\u001b[0m\u001b[1;32m     43\u001b[0m     \u001b[0;32mexcept\u001b[0m \u001b[0mOSError\u001b[0m\u001b[0;34m:\u001b[0m\u001b[0;34m\u001b[0m\u001b[0;34m\u001b[0m\u001b[0m\n\u001b[1;32m     44\u001b[0m         \u001b[0;32mreturn\u001b[0m \u001b[0;32mFalse\u001b[0m\u001b[0;34m\u001b[0m\u001b[0;34m\u001b[0m\u001b[0m\n",
      "\u001b[0;31mTypeError\u001b[0m: stat: path should be string, bytes, os.PathLike or integer, not NoneType"
     ]
    }
   ],
   "source": [
    "source = os.getcwd()\n",
    "dest = os.mkdir(\"moving_files\")\n",
    "files = os.listdir(source)\n",
    "\n",
    "for f in files:\n",
    "    if f.startswith(\"file\"):\n",
    "        shutil.move(f, dest)"
   ]
  },
  {
   "cell_type": "code",
   "execution_count": null,
   "id": "pacific-tuning",
   "metadata": {},
   "outputs": [],
   "source": [
    "# Que 1 : Create new directory \n",
    "# Que 2 : create 10 txt file and write some data into file at same time. \n",
    "# Que 3 : Read all the data from this dir and print in console. \n",
    "# Que 4 : Hold all the data in list. \n",
    "# Que 5 : Write all the data in new file from list. \n",
    "# Que 6 : Keeping only new file in present directory and move rest in new directory. \n",
    "\n",
    "\n",
    "import os\n",
    "\n",
    "os.mkdir(\"test\")\n",
    "\n",
    "os.getcwd()\n",
    "os.chdir(\"/home/urvi/Urvi Soni/Quarantine_Days_Learning/iNeuron_Training/Full_Stack_Data_Science/file_operation/test\")\n",
    "os.getcwd()\n",
    "\n",
    "list1 = ['_f_1', '_f_2', '_f_3','_f_4','_f_5','_f_6','_f_7','_f_8','_f_9','_f_10']\n",
    "\n",
    "for i in range(len(list1)):\n",
    "    open('file%s.txt' % i, 'w').write(list1[i])\n",
    "    \n",
    "for i in range(len(list1)):\n",
    "    f = open('file%s.txt' % i, 'r')\n",
    "    data = f.read()\n",
    "    f.close()\n",
    "    print(data)\n",
    "    \n",
    "l = [] \n",
    "for i in range(len(list1)):\n",
    "    f = open('file%s.txt' % i, 'r')\n",
    "    l.append(f.read()) \n",
    "    f.close() \n",
    "    print(l)\n",
    "    \n",
    "f = open('new_file.txt', 'w') \n",
    "for i in l: \n",
    "    f.write(i) \n",
    "f.close()\n",
    "\n",
    "source = os.getcwd()\n",
    "dest = "
   ]
  }
 ],
 "metadata": {
  "kernelspec": {
   "display_name": "Python 3",
   "language": "python",
   "name": "python3"
  },
  "language_info": {
   "codemirror_mode": {
    "name": "ipython",
    "version": 3
   },
   "file_extension": ".py",
   "mimetype": "text/x-python",
   "name": "python",
   "nbconvert_exporter": "python",
   "pygments_lexer": "ipython3",
   "version": "3.6.13"
  }
 },
 "nbformat": 4,
 "nbformat_minor": 5
}
