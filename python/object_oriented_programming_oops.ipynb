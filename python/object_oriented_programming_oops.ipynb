{
 "cells": [
  {
   "cell_type": "code",
   "execution_count": 1,
   "id": "representative-selling",
   "metadata": {},
   "outputs": [],
   "source": [
    "# Class - Is a classification of an object/entity , real world entity. Example - Car, Animal, Laptop\n",
    "# Object - Is a variable of a particular class, real time representation of an entity."
   ]
  },
  {
   "cell_type": "code",
   "execution_count": 2,
   "id": "architectural-chemical",
   "metadata": {},
   "outputs": [
    {
     "ename": "SyntaxError",
     "evalue": "unexpected EOF while parsing (<ipython-input-2-5aad021947d7>, line 1)",
     "output_type": "error",
     "traceback": [
      "\u001b[0;36m  File \u001b[0;32m\"<ipython-input-2-5aad021947d7>\"\u001b[0;36m, line \u001b[0;32m1\u001b[0m\n\u001b[0;31m    class car:\u001b[0m\n\u001b[0m              ^\u001b[0m\n\u001b[0;31mSyntaxError\u001b[0m\u001b[0;31m:\u001b[0m unexpected EOF while parsing\n"
     ]
    }
   ],
   "source": [
    "class car:"
   ]
  },
  {
   "cell_type": "code",
   "execution_count": 3,
   "id": "hungarian-soundtrack",
   "metadata": {},
   "outputs": [],
   "source": [
    "class car:\n",
    "    pass"
   ]
  },
  {
   "cell_type": "code",
   "execution_count": 4,
   "id": "directed-patient",
   "metadata": {},
   "outputs": [],
   "source": [
    "audiq7 = car()"
   ]
  },
  {
   "cell_type": "code",
   "execution_count": 5,
   "id": "affiliated-testament",
   "metadata": {},
   "outputs": [
    {
     "data": {
      "text/plain": [
       "<__main__.car at 0x7f7cf030beb8>"
      ]
     },
     "execution_count": 5,
     "metadata": {},
     "output_type": "execute_result"
    }
   ],
   "source": [
    "audiq7"
   ]
  },
  {
   "cell_type": "code",
   "execution_count": 6,
   "id": "defensive-client",
   "metadata": {},
   "outputs": [],
   "source": [
    "audiq7.milage = 10\n",
    "audiq7.year = 2020\n",
    "audiq7.make = 345\n",
    "audiq7.model = \"sdfs\""
   ]
  },
  {
   "cell_type": "code",
   "execution_count": 7,
   "id": "widespread-nepal",
   "metadata": {},
   "outputs": [
    {
     "data": {
      "text/plain": [
       "10"
      ]
     },
     "execution_count": 7,
     "metadata": {},
     "output_type": "execute_result"
    }
   ],
   "source": [
    "audiq7.milage"
   ]
  },
  {
   "cell_type": "code",
   "execution_count": 8,
   "id": "forward-encoding",
   "metadata": {},
   "outputs": [
    {
     "ename": "NameError",
     "evalue": "name 'milage' is not defined",
     "output_type": "error",
     "traceback": [
      "\u001b[0;31m---------------------------------------------------------------------------\u001b[0m",
      "\u001b[0;31mNameError\u001b[0m                                 Traceback (most recent call last)",
      "\u001b[0;32m<ipython-input-8-e6d08bcec70d>\u001b[0m in \u001b[0;36m<module>\u001b[0;34m\u001b[0m\n\u001b[0;32m----> 1\u001b[0;31m \u001b[0mmilage\u001b[0m\u001b[0;34m\u001b[0m\u001b[0;34m\u001b[0m\u001b[0m\n\u001b[0m",
      "\u001b[0;31mNameError\u001b[0m: name 'milage' is not defined"
     ]
    }
   ],
   "source": [
    "milage"
   ]
  },
  {
   "cell_type": "code",
   "execution_count": 9,
   "id": "prime-composite",
   "metadata": {},
   "outputs": [
    {
     "data": {
      "text/plain": [
       "2020"
      ]
     },
     "execution_count": 9,
     "metadata": {},
     "output_type": "execute_result"
    }
   ],
   "source": [
    "audiq7.year"
   ]
  },
  {
   "cell_type": "code",
   "execution_count": 10,
   "id": "surgical-happening",
   "metadata": {},
   "outputs": [],
   "source": [
    "nano = car()"
   ]
  },
  {
   "cell_type": "code",
   "execution_count": 11,
   "id": "danish-sheffield",
   "metadata": {},
   "outputs": [],
   "source": [
    "nano.milage = 20\n",
    "nano.year = 2020\n",
    "nano.make = 234\n",
    "nano.model = \"adsa\"\n",
    "nano.engineno = 34354354"
   ]
  },
  {
   "cell_type": "code",
   "execution_count": 12,
   "id": "traditional-moment",
   "metadata": {},
   "outputs": [
    {
     "name": "stdout",
     "output_type": "stream",
     "text": [
      "20 10\n"
     ]
    }
   ],
   "source": [
    "print(nano.milage, audiq7.milage)"
   ]
  },
  {
   "cell_type": "code",
   "execution_count": 13,
   "id": "ancient-brisbane",
   "metadata": {},
   "outputs": [],
   "source": [
    "class car :\n",
    "    def __init__(self, milage, year, make, model): # self is a class variable , it is a pointer to a class itself\n",
    "        self.milage = milage\n",
    "        self.year = year\n",
    "        self.make = make\n",
    "        self.model = model"
   ]
  },
  {
   "cell_type": "code",
   "execution_count": 14,
   "id": "conservative-melbourne",
   "metadata": {},
   "outputs": [
    {
     "ename": "TypeError",
     "evalue": "__init__() missing 4 required positional arguments: 'milage', 'year', 'make', and 'model'",
     "output_type": "error",
     "traceback": [
      "\u001b[0;31m---------------------------------------------------------------------------\u001b[0m",
      "\u001b[0;31mTypeError\u001b[0m                                 Traceback (most recent call last)",
      "\u001b[0;32m<ipython-input-14-16870c6ee572>\u001b[0m in \u001b[0;36m<module>\u001b[0;34m\u001b[0m\n\u001b[0;32m----> 1\u001b[0;31m \u001b[0mnano1\u001b[0m \u001b[0;34m=\u001b[0m \u001b[0mcar\u001b[0m\u001b[0;34m(\u001b[0m\u001b[0;34m)\u001b[0m\u001b[0;34m\u001b[0m\u001b[0;34m\u001b[0m\u001b[0m\n\u001b[0m",
      "\u001b[0;31mTypeError\u001b[0m: __init__() missing 4 required positional arguments: 'milage', 'year', 'make', and 'model'"
     ]
    }
   ],
   "source": [
    "nano1 = car()"
   ]
  },
  {
   "cell_type": "code",
   "execution_count": 15,
   "id": "false-module",
   "metadata": {},
   "outputs": [],
   "source": [
    "nano1 = car(20, 2020, 343454, \"dfgd\")"
   ]
  },
  {
   "cell_type": "code",
   "execution_count": 16,
   "id": "practical-dallas",
   "metadata": {},
   "outputs": [],
   "source": [
    "audiq71 = car(10, 2020, 567464, \"sfds\")"
   ]
  },
  {
   "cell_type": "code",
   "execution_count": 17,
   "id": "talented-offer",
   "metadata": {},
   "outputs": [
    {
     "data": {
      "text/plain": [
       "20"
      ]
     },
     "execution_count": 17,
     "metadata": {},
     "output_type": "execute_result"
    }
   ],
   "source": [
    "nano1.milage"
   ]
  },
  {
   "cell_type": "code",
   "execution_count": 18,
   "id": "square-sample",
   "metadata": {},
   "outputs": [],
   "source": [
    "class car :\n",
    "    def __init__(milage, year, make, model): # here, milage is working as a self. the first argument is working as a self. self is not a keyword, instead of self you can use any name.\n",
    "        self.milage = milage\n",
    "        self.year = year\n",
    "        self.make = make\n",
    "        self.model = model"
   ]
  },
  {
   "cell_type": "code",
   "execution_count": 19,
   "id": "orange-intervention",
   "metadata": {},
   "outputs": [],
   "source": [
    "class car :\n",
    "    def __init__(a, milage, year, make, model): \n",
    "        a.milage = milage\n",
    "        a.year = year\n",
    "        a.make = make\n",
    "        a.model = model"
   ]
  },
  {
   "cell_type": "code",
   "execution_count": 22,
   "id": "arctic-mandate",
   "metadata": {},
   "outputs": [],
   "source": [
    "class car :\n",
    "    def __init__(a, m, y, ma, mo): \n",
    "        a.milage = m\n",
    "        a.year = y\n",
    "        a.make = ma\n",
    "        a.model = mo"
   ]
  },
  {
   "cell_type": "code",
   "execution_count": 23,
   "id": "stupid-second",
   "metadata": {},
   "outputs": [],
   "source": [
    "nano67 = car(20,2020,3435,\"gfdff\")"
   ]
  },
  {
   "cell_type": "code",
   "execution_count": 24,
   "id": "engaged-title",
   "metadata": {},
   "outputs": [
    {
     "ename": "AttributeError",
     "evalue": "'car' object has no attribute 'm'",
     "output_type": "error",
     "traceback": [
      "\u001b[0;31m---------------------------------------------------------------------------\u001b[0m",
      "\u001b[0;31mAttributeError\u001b[0m                            Traceback (most recent call last)",
      "\u001b[0;32m<ipython-input-24-2b42517aaf19>\u001b[0m in \u001b[0;36m<module>\u001b[0;34m\u001b[0m\n\u001b[0;32m----> 1\u001b[0;31m \u001b[0mnano67\u001b[0m\u001b[0;34m.\u001b[0m\u001b[0mm\u001b[0m\u001b[0;34m\u001b[0m\u001b[0;34m\u001b[0m\u001b[0m\n\u001b[0m",
      "\u001b[0;31mAttributeError\u001b[0m: 'car' object has no attribute 'm'"
     ]
    }
   ],
   "source": [
    "nano67.m # m is not a variable which is associated with the class"
   ]
  },
  {
   "cell_type": "code",
   "execution_count": 25,
   "id": "superior-alaska",
   "metadata": {},
   "outputs": [
    {
     "data": {
      "text/plain": [
       "20"
      ]
     },
     "execution_count": 25,
     "metadata": {},
     "output_type": "execute_result"
    }
   ],
   "source": [
    "nano67.milage # milage is a variable which is associalted with the class"
   ]
  },
  {
   "cell_type": "code",
   "execution_count": 28,
   "id": "herbal-generation",
   "metadata": {},
   "outputs": [],
   "source": [
    "class car :\n",
    "    def __init__(a, m, y, ma, mo): \n",
    "        a.milage = m\n",
    "        a.year = y\n",
    "        a.make = ma\n",
    "        a.model = mo\n",
    "        \n",
    "    def age(self,current_year):\n",
    "        return current_year - a.year"
   ]
  },
  {
   "cell_type": "code",
   "execution_count": 31,
   "id": "liable-poetry",
   "metadata": {},
   "outputs": [],
   "source": [
    "nano67 = car(20,2020,3435,\"gfdff\")"
   ]
  },
  {
   "cell_type": "code",
   "execution_count": 33,
   "id": "communist-current",
   "metadata": {},
   "outputs": [
    {
     "ename": "NameError",
     "evalue": "name 'a' is not defined",
     "output_type": "error",
     "traceback": [
      "\u001b[0;31m---------------------------------------------------------------------------\u001b[0m",
      "\u001b[0;31mNameError\u001b[0m                                 Traceback (most recent call last)",
      "\u001b[0;32m<ipython-input-33-56a589986ea3>\u001b[0m in \u001b[0;36m<module>\u001b[0;34m\u001b[0m\n\u001b[0;32m----> 1\u001b[0;31m \u001b[0mnano67\u001b[0m\u001b[0;34m.\u001b[0m\u001b[0mage\u001b[0m\u001b[0;34m(\u001b[0m\u001b[0;36m2021\u001b[0m\u001b[0;34m)\u001b[0m\u001b[0;34m\u001b[0m\u001b[0;34m\u001b[0m\u001b[0m\n\u001b[0m",
      "\u001b[0;32m<ipython-input-28-8266807daba1>\u001b[0m in \u001b[0;36mage\u001b[0;34m(self, current_year)\u001b[0m\n\u001b[1;32m      7\u001b[0m \u001b[0;34m\u001b[0m\u001b[0m\n\u001b[1;32m      8\u001b[0m     \u001b[0;32mdef\u001b[0m \u001b[0mage\u001b[0m\u001b[0;34m(\u001b[0m\u001b[0mself\u001b[0m\u001b[0;34m,\u001b[0m\u001b[0mcurrent_year\u001b[0m\u001b[0;34m)\u001b[0m\u001b[0;34m:\u001b[0m\u001b[0;34m\u001b[0m\u001b[0;34m\u001b[0m\u001b[0m\n\u001b[0;32m----> 9\u001b[0;31m         \u001b[0;32mreturn\u001b[0m \u001b[0mcurrent_year\u001b[0m \u001b[0;34m-\u001b[0m \u001b[0ma\u001b[0m\u001b[0;34m.\u001b[0m\u001b[0myear\u001b[0m\u001b[0;34m\u001b[0m\u001b[0;34m\u001b[0m\u001b[0m\n\u001b[0m",
      "\u001b[0;31mNameError\u001b[0m: name 'a' is not defined"
     ]
    }
   ],
   "source": [
    "nano67.age(2021)"
   ]
  },
  {
   "cell_type": "code",
   "execution_count": 34,
   "id": "coastal-consciousness",
   "metadata": {},
   "outputs": [],
   "source": [
    "class car :\n",
    "    def __init__(a, m, y, ma, mo): \n",
    "        a.milage = m\n",
    "        a.year = y\n",
    "        a.make = ma\n",
    "        a.model = mo\n",
    "        \n",
    "    def age(self,current_year):\n",
    "        return current_year - self.year"
   ]
  },
  {
   "cell_type": "code",
   "execution_count": 35,
   "id": "arabic-specification",
   "metadata": {},
   "outputs": [],
   "source": [
    "nano67 = car(20,2020,3435,\"gfdff\")"
   ]
  },
  {
   "cell_type": "code",
   "execution_count": 36,
   "id": "peripheral-shuttle",
   "metadata": {},
   "outputs": [
    {
     "data": {
      "text/plain": [
       "1"
      ]
     },
     "execution_count": 36,
     "metadata": {},
     "output_type": "execute_result"
    }
   ],
   "source": [
    "nano67.age(2021)"
   ]
  },
  {
   "cell_type": "code",
   "execution_count": 37,
   "id": "informal-column",
   "metadata": {},
   "outputs": [],
   "source": [
    "class car :\n",
    "    def __init__(a, m, y, ma, mo): \n",
    "        a.milage = m\n",
    "        a.year = y\n",
    "        a.make = ma\n",
    "        a.model = mo\n",
    "        \n",
    "    def age(b,current_year):\n",
    "        return current_year - b.year"
   ]
  },
  {
   "cell_type": "code",
   "execution_count": 38,
   "id": "sought-command",
   "metadata": {},
   "outputs": [],
   "source": [
    "nano67 = car(20,2020,3435,\"gfdff\")"
   ]
  },
  {
   "cell_type": "code",
   "execution_count": 39,
   "id": "roman-chicken",
   "metadata": {},
   "outputs": [
    {
     "data": {
      "text/plain": [
       "1"
      ]
     },
     "execution_count": 39,
     "metadata": {},
     "output_type": "execute_result"
    }
   ],
   "source": [
    "nano67.age(2021)"
   ]
  },
  {
   "cell_type": "code",
   "execution_count": 40,
   "id": "dressed-tunisia",
   "metadata": {},
   "outputs": [],
   "source": [
    "class car :\n",
    "    def __init__(a, m, y, ma, mo): \n",
    "        a.milage = m\n",
    "        a.year = y\n",
    "        a.make = ma\n",
    "        a.model = mo\n",
    "        \n",
    "    def age(b,current_year):\n",
    "        return current_year - b.year\n",
    "    \n",
    "    def milage(self):\n",
    "        print(\"print a milage of a car - \", self.milage)"
   ]
  },
  {
   "cell_type": "code",
   "execution_count": 41,
   "id": "appointed-henry",
   "metadata": {},
   "outputs": [],
   "source": [
    "nano67 = car(20,2020,3435,\"gfdff\")"
   ]
  },
  {
   "cell_type": "code",
   "execution_count": 42,
   "id": "disabled-bruce",
   "metadata": {},
   "outputs": [
    {
     "ename": "TypeError",
     "evalue": "'int' object is not callable",
     "output_type": "error",
     "traceback": [
      "\u001b[0;31m---------------------------------------------------------------------------\u001b[0m",
      "\u001b[0;31mTypeError\u001b[0m                                 Traceback (most recent call last)",
      "\u001b[0;32m<ipython-input-42-986d02c535e5>\u001b[0m in \u001b[0;36m<module>\u001b[0;34m\u001b[0m\n\u001b[0;32m----> 1\u001b[0;31m \u001b[0mnano67\u001b[0m\u001b[0;34m.\u001b[0m\u001b[0mmilage\u001b[0m\u001b[0;34m(\u001b[0m\u001b[0;34m)\u001b[0m\u001b[0;34m\u001b[0m\u001b[0;34m\u001b[0m\u001b[0m\n\u001b[0m",
      "\u001b[0;31mTypeError\u001b[0m: 'int' object is not callable"
     ]
    }
   ],
   "source": [
    "nano67.milage()"
   ]
  },
  {
   "cell_type": "code",
   "execution_count": 49,
   "id": "normal-percentage",
   "metadata": {},
   "outputs": [],
   "source": [
    "class car :\n",
    "    def __init__(a, m, y, ma, mo): # __init__ is python's inbuilt method\n",
    "        a.milage = m\n",
    "        a.year = y\n",
    "        a.make = ma\n",
    "        a.model = mo\n",
    "        \n",
    "    def age(b,current_year):\n",
    "        return current_year - b.year\n",
    "    \n",
    "    def milage1(self):\n",
    "        print(\"print a milage of a car - \", self.milage)\n",
    "        #return self.milage"
   ]
  },
  {
   "cell_type": "code",
   "execution_count": 50,
   "id": "dental-iceland",
   "metadata": {},
   "outputs": [],
   "source": [
    "nano67 = car(20,2020,3435,\"gfdff\")"
   ]
  },
  {
   "cell_type": "code",
   "execution_count": 51,
   "id": "special-three",
   "metadata": {},
   "outputs": [
    {
     "name": "stdout",
     "output_type": "stream",
     "text": [
      "print a milage of a car -  20\n"
     ]
    }
   ],
   "source": [
    "nano67.milage1()"
   ]
  },
  {
   "cell_type": "code",
   "execution_count": 52,
   "id": "every-headset",
   "metadata": {},
   "outputs": [
    {
     "data": {
      "text/plain": [
       "<__main__.car at 0x7f7ce172ebe0>"
      ]
     },
     "execution_count": 52,
     "metadata": {},
     "output_type": "execute_result"
    }
   ],
   "source": [
    "nano67"
   ]
  },
  {
   "cell_type": "code",
   "execution_count": 56,
   "id": "purple-child",
   "metadata": {},
   "outputs": [],
   "source": [
    "class car :\n",
    "    def __init__(a, m, y, ma, mo): # __init__ is python's inbuilt method\n",
    "        a.milage = m\n",
    "        a.year = y\n",
    "        a.make = ma\n",
    "        a.model = mo\n",
    "        \n",
    "    def age(b,current_year):\n",
    "        return current_year - b.year\n",
    "    \n",
    "    def milage1(self):\n",
    "        print(\"print a milage of a car - \", self.milage)\n",
    "        #return self.milage\n",
    "        \n",
    "    def __str__(c):\n",
    "        return \"this is my car class i have created\""
   ]
  },
  {
   "cell_type": "code",
   "execution_count": 57,
   "id": "statewide-borough",
   "metadata": {},
   "outputs": [],
   "source": [
    "nano67 = car(20,2020,3435,\"gfdff\")"
   ]
  },
  {
   "cell_type": "code",
   "execution_count": 58,
   "id": "passive-certificate",
   "metadata": {},
   "outputs": [
    {
     "name": "stdout",
     "output_type": "stream",
     "text": [
      "this is my car class i have created\n"
     ]
    }
   ],
   "source": [
    "print(nano67)"
   ]
  },
  {
   "cell_type": "code",
   "execution_count": 69,
   "id": "impaired-chapter",
   "metadata": {},
   "outputs": [],
   "source": [
    "class student:\n",
    "    \n",
    "    def __init__(self, name, rollno, joining_date, current_topic):\n",
    "        self.name = name\n",
    "        self.rollno = rollno\n",
    "        self.joining_date = joining_date\n",
    "        self.current_topic = current_topic\n",
    "        \n",
    "    def crt_topic(self):\n",
    "        print(\"current topic class is - \", self.current_topic)\n",
    "        \n",
    "    def str_rollno(self):\n",
    "        if type(self.rollno) == str:\n",
    "            print(\"do nothing\")\n",
    "        else:\n",
    "            return str(self.rollno)\n",
    "    \n",
    "    def duration(self, current_date):\n",
    "        print(\" duration of my student is - \", current_date - self.joining_date)\n",
    "    \n",
    "    def __str__(self):\n",
    "        return 'this is the student where they can try to input own data and trying to execute it.'\n",
    "    "
   ]
  },
  {
   "cell_type": "code",
   "execution_count": 70,
   "id": "turkish-intermediate",
   "metadata": {},
   "outputs": [],
   "source": [
    "urvi = student('urvi', 2334242, 2021, 'oops')"
   ]
  },
  {
   "cell_type": "code",
   "execution_count": 71,
   "id": "crude-cornwall",
   "metadata": {},
   "outputs": [
    {
     "name": "stdout",
     "output_type": "stream",
     "text": [
      " duration of my student is -  1\n"
     ]
    }
   ],
   "source": [
    "urvi.duration(2022)"
   ]
  },
  {
   "cell_type": "code",
   "execution_count": 72,
   "id": "supreme-treasurer",
   "metadata": {},
   "outputs": [
    {
     "data": {
      "text/plain": [
       "'2334242'"
      ]
     },
     "execution_count": 72,
     "metadata": {},
     "output_type": "execute_result"
    }
   ],
   "source": [
    "urvi.str_rollno()"
   ]
  },
  {
   "cell_type": "code",
   "execution_count": 73,
   "id": "waiting-cooperative",
   "metadata": {},
   "outputs": [
    {
     "name": "stdout",
     "output_type": "stream",
     "text": [
      "this is the student where they can try to input own data and trying to execute it.\n"
     ]
    }
   ],
   "source": [
    "print(urvi)"
   ]
  },
  {
   "cell_type": "code",
   "execution_count": 74,
   "id": "interested-spread",
   "metadata": {},
   "outputs": [],
   "source": [
    "class student:\n",
    "    \n",
    "    def __init__(self, name, rollno, joining_date, current_topic):\n",
    "        self.name = name\n",
    "        self.rollno = rollno\n",
    "        self.joining_date = joining_date\n",
    "        self.current_topic = current_topic\n",
    "        \n",
    "    def crt_topic(self):\n",
    "        print(\"current topic class is - \", self.current_topic)\n",
    "        \n",
    "    def str_rollno(self):\n",
    "        try:\n",
    "            if type(self.rollno) == str:\n",
    "                print(\"do nothing\")\n",
    "            else:\n",
    "                return str(self.rollno)\n",
    "        except Exception as e :\n",
    "            print(\" this is my error - \", e)\n",
    "            \n",
    "    def duration(self, current_date):\n",
    "        print(\" duration of my student is - \", current_date - self.joining_date)\n",
    "    \n",
    "    def __str__(self):\n",
    "        return 'this is the student where they can try to input own data and trying to execute it.'\n",
    "    "
   ]
  },
  {
   "cell_type": "code",
   "execution_count": 77,
   "id": "instrumental-hardwood",
   "metadata": {},
   "outputs": [],
   "source": [
    "urvi = student('urvi', \"####\", 2021, 'oops')"
   ]
  },
  {
   "cell_type": "code",
   "execution_count": 78,
   "id": "rural-mystery",
   "metadata": {},
   "outputs": [
    {
     "name": "stdout",
     "output_type": "stream",
     "text": [
      " duration of my student is -  1\n"
     ]
    }
   ],
   "source": [
    "urvi.duration(2022)"
   ]
  },
  {
   "cell_type": "code",
   "execution_count": 79,
   "id": "cutting-prospect",
   "metadata": {},
   "outputs": [
    {
     "name": "stdout",
     "output_type": "stream",
     "text": [
      "do nothing\n"
     ]
    }
   ],
   "source": [
    "urvi.str_rollno()"
   ]
  },
  {
   "cell_type": "code",
   "execution_count": 80,
   "id": "challenging-string",
   "metadata": {},
   "outputs": [],
   "source": [
    "pawan = student(['naveen', 'jay', 'prakash', 'himanshu'], 2021, [232,343,3545,454], 'oops')"
   ]
  },
  {
   "cell_type": "code",
   "execution_count": 87,
   "id": "serial-consciousness",
   "metadata": {},
   "outputs": [],
   "source": [
    "class student:\n",
    "    \n",
    "    def __init__(self, name, rollno, joining_date, current_topic):\n",
    "        self.name = name\n",
    "        self.rollno = rollno\n",
    "        self.joining_date = joining_date\n",
    "        self.current_topic = current_topic\n",
    "        \n",
    "    def name_parsing(self):\n",
    "        if type(self.name) == list:\n",
    "            for i in self.name:\n",
    "                print(\"name of the student is - \", i)\n",
    "        else:\n",
    "            print(\" name is not in the form of list\")\n",
    "    \n",
    "    def crt_topic(self):\n",
    "        print(\"current topic class is - \", self.current_topic)\n",
    "        \n",
    "    def str_rollno(self):\n",
    "        try:\n",
    "            if type(self.rollno) == str:\n",
    "                print(\"do nothing\")\n",
    "            else:\n",
    "                return str(self.rollno)\n",
    "        except Exception as e :\n",
    "            print(\" this is my error - \", e)\n",
    "            \n",
    "    def duration(self, current_date):\n",
    "        print(\" duration of my student is - \", current_date - self.joining_date)\n",
    "    \n",
    "    def __str__(self): # str is a python's inbuilt function\n",
    "        return 'this is the student where they can try to input own data and trying to execute it.'\n",
    "    "
   ]
  },
  {
   "cell_type": "code",
   "execution_count": 88,
   "id": "immune-player",
   "metadata": {},
   "outputs": [],
   "source": [
    "pawan = student(['naveen', 'jay', 'prakash', 'himanshu'], 2021, [232,343,3545,454], 'oops')"
   ]
  },
  {
   "cell_type": "code",
   "execution_count": 89,
   "id": "colored-founder",
   "metadata": {},
   "outputs": [
    {
     "name": "stdout",
     "output_type": "stream",
     "text": [
      "name of the student is -  naveen\n",
      "name of the student is -  jay\n",
      "name of the student is -  prakash\n",
      "name of the student is -  himanshu\n"
     ]
    }
   ],
   "source": [
    "pawan.name_parsing()"
   ]
  },
  {
   "cell_type": "code",
   "execution_count": 90,
   "id": "convinced-moral",
   "metadata": {},
   "outputs": [
    {
     "data": {
      "text/plain": [
       "['naveen', 'jay', 'prakash', 'himanshu']"
      ]
     },
     "execution_count": 90,
     "metadata": {},
     "output_type": "execute_result"
    }
   ],
   "source": [
    "pawan.name"
   ]
  },
  {
   "cell_type": "code",
   "execution_count": 91,
   "id": "marked-rebound",
   "metadata": {},
   "outputs": [],
   "source": [
    "#### Task - 1 \n",
    "# 1. Create calss ccalled as data\n",
    "# 2. Create variable name in __init__ method, FileName, FileType, Date and Size \n",
    "# 3. Function called as 'file_open':- tyr to take a file name and if file is not exist then it will create a file and write something in a file.\n",
    "# 4. Make another function 'file_read' :- read the data from the file\n",
    "# 5. Make another function 'file_append' :- append the data into same file and show it.\n",
    "\n",
    "#### Task - 2\n",
    "# 1. Try Catche\n",
    "# 2. Exception Handeling\n",
    "# 3. Logger itself"
   ]
  },
  {
   "cell_type": "code",
   "execution_count": 93,
   "id": "worth-underwear",
   "metadata": {},
   "outputs": [
    {
     "name": "stdout",
     "output_type": "stream",
     "text": [
      "this is the test file\n"
     ]
    }
   ],
   "source": [
    "## Task - 1\n",
    "\n",
    "class data:\n",
    "    \n",
    "    def __init__(self,file_name,file_type,date,size):\n",
    "        self.file_name = file_name\n",
    "        self.file_type = file_type\n",
    "        self.date = date\n",
    "        self.size = size\n",
    "        \n",
    "    def file_open(self):\n",
    "        f = open(self.file_name,'w')\n",
    "        f.write('this is the test file')\n",
    "        f.close()\n",
    "    \n",
    "    def file_read(self):\n",
    "        f = open(self.file_name,'r')\n",
    "        print(f.read())\n",
    "        f.close()\n",
    "        \n",
    "    def file_append(self):\n",
    "        f = open(self.file_name,'a')\n",
    "        f.write('Appending Data to The File')\n",
    "        f.close()\n",
    "        \n",
    "file1 = data('file1','txt','2021-04-11','2MB')\n",
    "file1.file_open()\n",
    "file1.file_read()\n",
    "file1.file_append()"
   ]
  },
  {
   "cell_type": "code",
   "execution_count": 95,
   "id": "elementary-oxide",
   "metadata": {},
   "outputs": [
    {
     "name": "stdout",
     "output_type": "stream",
     "text": [
      "this is the test file\n"
     ]
    }
   ],
   "source": [
    "## Task - 1\n",
    "\n",
    "import logging as lg\n",
    "lg.basicConfig(filename='OOPS.log',level=lg.ERROR)\n",
    "\n",
    "class data:\n",
    "    \n",
    "    def __init__(self,file_name,file_type,date,size):\n",
    "        self.file_name = file_name\n",
    "        self.file_type = file_type\n",
    "        self.date = date\n",
    "        self.size = size\n",
    "        \n",
    "    def file_open(self):\n",
    "        try:\n",
    "            f = open(self.file_name,'w')\n",
    "            f.write('this is the test file')\n",
    "            f.close()\n",
    "        except Exception as e:\n",
    "            self.logging(e)\n",
    "    \n",
    "    def file_read(self):\n",
    "        try:\n",
    "            f = open(self.file_name,'r')\n",
    "            print(f.read())\n",
    "            f.close()\n",
    "        except FileNotFoundError as e:\n",
    "            self.logging(e)\n",
    "        \n",
    "    def file_append(self):\n",
    "        try:\n",
    "            f = open(self.file_name,'a')\n",
    "            f.write('Appending Data to The File')\n",
    "            f.close()\n",
    "        except FileNotFoundError as e:\n",
    "            self.logging(e)\n",
    "        except Exception as e:\n",
    "            self.logging(e)\n",
    "        \n",
    "    def logging(self,log):\n",
    "        lg.error(log)\n",
    "        \n",
    "file1 = data('file2','txt','2021-04-11','2MB')\n",
    "file1.file_open()\n",
    "file1.file_read()\n",
    "file1.file_append()"
   ]
  },
  {
   "cell_type": "code",
   "execution_count": null,
   "id": "balanced-petroleum",
   "metadata": {},
   "outputs": [],
   "source": []
  }
 ],
 "metadata": {
  "kernelspec": {
   "display_name": "Python 3",
   "language": "python",
   "name": "python3"
  },
  "language_info": {
   "codemirror_mode": {
    "name": "ipython",
    "version": 3
   },
   "file_extension": ".py",
   "mimetype": "text/x-python",
   "name": "python",
   "nbconvert_exporter": "python",
   "pygments_lexer": "ipython3",
   "version": "3.6.13"
  }
 },
 "nbformat": 4,
 "nbformat_minor": 5
}
