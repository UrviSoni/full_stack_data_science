{
 "cells": [
  {
   "cell_type": "markdown",
   "id": "toxic-chaos",
   "metadata": {},
   "source": [
    "#### 1. In the below elements which of them are values or an expression? eg:- values can be integer or string and expressions will be mathematical operators.\n",
    "\n",
    "* -> expression (multiplication operator)\n",
    "'hello' -> value (string value)\n",
    "-87.8 -> value (float value)\n",
    "- -> expression (difference operatot)\n",
    "/ -> expression (division operator)\n",
    "+ -> expression (add operator)\n",
    "6 -> value (integer value)\n"
   ]
  },
  {
   "cell_type": "markdown",
   "id": "martial-conducting",
   "metadata": {},
   "source": [
    "#### 2. What is the difference between string and variable?\n",
    "\n",
    "-> A String is a type of information you would store in a Variable. A String is usually words, enclosed with \"\" or ''. It is reference datatype and it is used to represent text type data.\n",
    "\n",
    "-> A Variable is a store of information. It is any alphabet or group of an alphabet which work as temporary storage locations , a variable is used to represent any value.\n",
    "\n",
    "Example:-\n",
    "\n",
    "x = \"urvi\"\n",
    "\n",
    "-> Here, x is the Variable, and we declared it as a String."
   ]
  },
  {
   "cell_type": "markdown",
   "id": "atlantic-housing",
   "metadata": {},
   "source": [
    "#### 3. Describe three different data types.\n",
    "\n",
    "-> Standard data types that define the storage method on each of them in Python are as follows:-\n",
    "\n",
    "1) Numeric ( Integer, Complex Number, Float )\n",
    "2) Dictionary \n",
    "3) Boolean\n",
    "4) Set\n",
    "5) Sequence Type ( Stings, List, Tuple )\n",
    "\n",
    "1) Numeric - Number stores numeric values. Python provides the type() function to know the data-type of the variable.\n",
    "\n",
    "-> Python supports three types of numeric data.\n",
    "\n",
    "1) int - Integer value can be any length such as integers 10, 2, 29, -20, -150 etc. Python has no restriction on the length of an integer. Its value belongs to int.\n",
    "\n",
    "a = 5\n",
    "type(a)\n",
    "\n",
    "<class 'int'>\n",
    "\n",
    "b = 2.3\n",
    "type(b)\n",
    "\n",
    "<class 'float'>\n",
    "\n",
    "c = 1+3j\n",
    "type(c)\n",
    "\n",
    "<class 'complex'>\n",
    "\n",
    "\n"
   ]
  }
 ],
 "metadata": {
  "kernelspec": {
   "display_name": "Python 3",
   "language": "python",
   "name": "python3"
  },
  "language_info": {
   "codemirror_mode": {
    "name": "ipython",
    "version": 3
   },
   "file_extension": ".py",
   "mimetype": "text/x-python",
   "name": "python",
   "nbconvert_exporter": "python",
   "pygments_lexer": "ipython3",
   "version": "3.6.13"
  }
 },
 "nbformat": 4,
 "nbformat_minor": 5
}
