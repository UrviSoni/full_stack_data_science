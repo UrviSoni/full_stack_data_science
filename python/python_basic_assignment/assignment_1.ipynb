{
 "cells": [
  {
   "cell_type": "markdown",
   "id": "shaped-property",
   "metadata": {},
   "source": [
    "#### 1. In the below elements which of them are values or an expression? eg:- values can be integer or string and expressions will be mathematical operators.\n",
    "\n",
    "* -> expression (multiplication operator)\n",
    "'hello' -> value (string value)\n",
    "-87.8 -> value (float value)\n",
    "- -> expression (difference operatot)\n",
    "/ -> expression (division operator)\n",
    "+ -> expression (add operator)\n",
    "6 -> value (integer value)\n"
   ]
  },
  {
   "cell_type": "markdown",
   "id": "czech-british",
   "metadata": {},
   "source": [
    "#### 2. What is the difference between string and variable?\n",
    "\n",
    "-> A String is a type of information you would store in a Variable. A String is usually words, enclosed with \"\" or ''. It is reference datatype and it is used to represent text type data.\n",
    "\n",
    "-> A Variable is a store of information. It is any alphabet or group of an alphabet which work as temporary storage locations , a variable is used to represent any value.\n",
    "\n",
    "Example:-\n",
    "\n",
    "x = \"urvi\"\n",
    "\n",
    "-> Here, x is the Variable, and we declared it as a String."
   ]
  },
  {
   "cell_type": "markdown",
   "id": "traditional-strike",
   "metadata": {},
   "source": [
    "#### 3. Describe three different data types.\n",
    "\n",
    "-> Standard data types that define the storage method on each of them in Python are as follows:-\n",
    "\n",
    "1) Numeric ( Integer, Complex Number, Float )\n",
    "2) Dictionary \n",
    "3) Boolean\n",
    "4) Set\n",
    "5) Sequence Type ( Stings, List, Tuple )\n",
    "\n",
    "##### 1) Numeric - Number stores numeric values. Python provides the type() function to know the data-type of the variable.\n",
    "\n",
    "-> Python supports three types of numeric data.\n",
    "\n",
    "1) int - Integer value can be any length such as integers 10, 2, 29, -20, -150 etc. Python has no restriction on the length of an integer. Its value belongs to int.\n",
    "\n",
    "a = 5\n",
    "type(a)\n",
    "\n",
    "<class 'int'>\n",
    "\n",
    "2) Float - Float is used to store floating-point numbers like 1.9, 9.902, 15.2, etc. It is accurate upto 15 decimal points.\n",
    "\n",
    "b = 2.3\n",
    "type(b)\n",
    "\n",
    "<class 'float'>\n",
    "\n",
    "3) complex - A complex number contains an ordered pair, i.e., x + iy where x and y denote the real and imaginary parts, respectively. The complex numbers like 2.14j, 2.0 + 2.3j, etc.\n",
    "\n",
    "c = 1+3j\n",
    "type(c)\n",
    "\n",
    "<class 'complex'>\n",
    "\n",
    "##### 2) Sequence Type - It has three types : String, List and Tuple\n",
    "\n",
    "1) String - The string can be defined as the sequence of characters represented in the quotation marks. In Python, we can use single(' '), double(\" \"), or triple quotes(\"\"\" \"\"\" or ''' ''') to define a string.\n",
    "\n",
    "a = 'urvi'\n",
    "print(a)\n",
    "\n",
    "urvi\n",
    "\n",
    "b = \"this is an example of double quote string\"\n",
    "print(b)\n",
    "\n",
    "this is an example of double quote string\n",
    "\n",
    "c = \"\"\" this is multiline \n",
    "sting example\"\"\"\n",
    "print(c)\n",
    "\n",
    "this is multiline\n",
    "string example\n",
    "\n",
    "2) List - The list are separated with a comma (,) and enclosed within square brackets []. We can modify the values in lists that's why lists are mutable.\n",
    "\n",
    "list1 = [1, \"Abc\", 2.3]\n",
    "type(list1)\n",
    "print(list1)\n",
    "\n",
    "<class 'list'>\n",
    "[1, \"Abc\", 2.3]\n",
    "\n",
    "3) Tuple - A tuple is similar to the list in many ways. Like lists, tuples also contain the collection of the items of different data types. The items of the tuple are separated with a comma (,) and enclosed in parentheses ().\n",
    "\n",
    "A tuple is a read-only data structure as we can't modify the size and value of the items of a tuple  that's why tuples are immutable.\n",
    "\n",
    "tup1 = (1, \"urvi\", 2.3)\n",
    "type(tup1)\n",
    "\n",
    "<class 'tuple'>\n",
    "(1, \"urvi\", 2.3)\n",
    "\n",
    "##### 3) Dictionary - Dictionary is an unordered set of a key-value pair of items. It is like an associative array or a hash table where each key stores a specific value. Key can hold any primitive data type, whereas value is an arbitrary Python object.\n",
    "\n",
    "-> The items in the dictionary are separated with the comma (,) and enclosed in the curly braces {}.\n",
    "\n",
    "d = {1:'Jimmy', 2:'Alex', 3:'john', 4:'mike'}     \n",
    "  \n",
    "print (d)  \n",
    "\n",
    "#Accesing value using keys\n",
    "\n",
    "print(\"1st name is \"+d[1])   \n",
    "print(\"2nd name is \"+ d[4])    \n",
    "  \n",
    "print (d.keys())    \n",
    "print (d.values())   \n",
    "\n",
    "\n",
    "1st name is Jimmy\n",
    "2nd name is mike\n",
    "{1: 'Jimmy', 2: 'Alex', 3: 'john', 4: 'mike'}\n",
    "dict_keys([1, 2, 3, 4])\n",
    "dict_values(['Jimmy', 'Alex', 'john', 'mike'])\n",
    "\n",
    "##### 4) Boolean - Boolean type provides two built-in values, True (1) and False (0). It denotes by the class bool.\n",
    "\n",
    "print(type(True))  \n",
    "<class 'bool'>\n",
    "print(type(False))\n",
    "<class 'bool'>\n",
    "print(flase)\n",
    "NameError: name 'false' is not defined\n",
    "\n",
    "##### 5) set - Set is the unordered collection of the data type. It is iterable, mutable(can modify after creation), and has unique elements. In set, the order of the elements is undefined; it may return the changed sequence of the element. The set is created by using a built-in function set(), or a sequence of elements is passed in the curly braces and separated by the comma. It can contain various types of values.\n",
    "\n",
    "#Creating Empty set  \n",
    "set1 = set()  \n",
    "  \n",
    "set2 = {'James', 2, 3,'Python'}  \n",
    "  \n",
    "#Printing Set value  \n",
    "print(set2)  \n",
    "  \n",
    "#Adding element to the set  \n",
    "  \n",
    "set2.add(10)  \n",
    "print(set2)  \n",
    "  \n",
    "#Removing element from the set  \n",
    "set2.remove(2)  \n",
    "print(set2)  \n",
    "\n",
    "{3, 'Python', 'James', 2}\n",
    "{'Python', 'James', 3, 2, 10}\n",
    "{'Python', 'James', 3, 10}\n"
   ]
  },
  {
   "cell_type": "markdown",
   "id": "latin-formula",
   "metadata": {},
   "source": [
    "#### 4. What is an expression made up of? What do all expressions do?\n",
    "\n",
    "->  An expression is anything that has \"a value\". Like 3, 'Hello world', 1+1, math.sqrt(9), etc. Function names are expressions too. String is an expression.\n",
    "\n",
    "-> Mathematics a collection of symbols that jointly express a quantity : the expression for the circumference of a circle is 2πr. - from the New Oxford American Dictionary\n",
    "\n",
    "-> Examples of expressions:\n",
    "\n",
    "[Literals](https://docs.python.org/3/reference/lexical_analysis.html#literals) and syntactically correct combinations with [Operators](https://docs.python.org/3/reference/lexical_analysis.html#operators) and [built-in functions](https://docs.python.org/3/library/functions.html) or the call of a user-written functions:\n",
    "\n",
    ">>> 12\n",
    "12\n",
    ">>> 23l\n",
    "23L\n",
    ">>> range(4)\n",
    "[0, 1, 2, 3] \n",
    ">>> 2L*bin(2)\n",
    "'0b100b10'\n",
    ">>> def func(a):      # Statement, just part of the example...\n",
    "...    return a*a     # Statement...\n",
    "... \n",
    ">>> func(3)*4\n",
    "36    \n",
    ">>> func(5) is func(a=5)\n",
    "True"
   ]
  },
  {
   "cell_type": "markdown",
   "id": "framed-savage",
   "metadata": {},
   "source": [
    "#### 5. This assignment statements, like spam = 10. What is the difference between an expression and a statement?\n",
    "\n",
    "-> spam = 10\n",
    "\n",
    "-> An ```expression``` evaluates to a value. A ```statement``` does something.\n",
    "\n",
    "-> Here, '=' is an expression which assigns the value and the whole line 'spam = 10' is a statement.\n",
    "\n",
    "-> For reference:\n",
    "    \n",
    "    ```Expression``` : Mathematics a collection of symbols that jointly express a quantity : the expression for the circumference of a circle is 2πr.\n",
    "            \n",
    "    ```Statement``` : In computer programming a statement can be thought of as the smallest standalone element of an imperative programming language. A program is formed by a sequence of one or more statements. A statement will have internal components (e.g., expressions).\n",
    "\n"
   ]
  },
  {
   "cell_type": "markdown",
   "id": "green-moore",
   "metadata": {},
   "source": [
    "#### 6. After running the following code, what does the variable bacon contain?"
   ]
  },
  {
   "cell_type": "code",
   "execution_count": 1,
   "id": "seven-equality",
   "metadata": {},
   "outputs": [
    {
     "data": {
      "text/plain": [
       "23"
      ]
     },
     "execution_count": 1,
     "metadata": {},
     "output_type": "execute_result"
    }
   ],
   "source": [
    "bacon = 22\n",
    "bacon + 1"
   ]
  },
  {
   "cell_type": "markdown",
   "id": "parental-fancy",
   "metadata": {},
   "source": [
    "-> After running the above code the variable bacon increment by 1 and it contains the value 23."
   ]
  },
  {
   "cell_type": "markdown",
   "id": "level-performance",
   "metadata": {},
   "source": [
    "#### 7. What should the values of the following two terms be?"
   ]
  },
  {
   "cell_type": "code",
   "execution_count": 2,
   "id": "celtic-going",
   "metadata": {},
   "outputs": [
    {
     "data": {
      "text/plain": [
       "'spamspamspam'"
      ]
     },
     "execution_count": 2,
     "metadata": {},
     "output_type": "execute_result"
    }
   ],
   "source": [
    "'spam' + 'spamspam'"
   ]
  },
  {
   "cell_type": "code",
   "execution_count": 3,
   "id": "tropical-satellite",
   "metadata": {},
   "outputs": [
    {
     "data": {
      "text/plain": [
       "'spamspamspam'"
      ]
     },
     "execution_count": 3,
     "metadata": {},
     "output_type": "execute_result"
    }
   ],
   "source": [
    "'spam'*3"
   ]
  },
  {
   "cell_type": "markdown",
   "id": "circular-cycling",
   "metadata": {},
   "source": [
    "-> Both the values should be same and it is 3 times of spam - 'spamspamspam'"
   ]
  },
  {
   "cell_type": "markdown",
   "id": "novel-magnitude",
   "metadata": {},
   "source": [
    "#### 8. Why is eggs a valid variable name while 100 is invalid?\n",
    "\n",
    "-> Rules for creating variables in Python:\n",
    "\n",
    "* A variable name must start with a letter or the underscore character.\n",
    "* A variable name cannot start with a number.\n",
    "* A variable name can only contain alpha-numeric characters and underscores (A-z, 0-9, and _ ).\n",
    "* Variable names are case-sensitive (name, Name and NAME are three different variables).\n",
    "* The reserved words(keywords) cannot be used naming the variable.\n",
    "\n",
    "-> According to the rules, variable name cannot start with number. It must start with a letter or the underscore character that's why eggs is a valid variable name and 100 is invalid."
   ]
  },
  {
   "cell_type": "markdown",
   "id": "contrary-excess",
   "metadata": {},
   "source": [
    "#### 9. What three functions can be used to get the integer, floating-point number, or string version of a value?\n",
    "\n",
    "-> integer - int()\n",
    "-> floating-point - float()\n",
    "-> string - str()"
   ]
  },
  {
   "cell_type": "markdown",
   "id": "informative-factory",
   "metadata": {},
   "source": [
    "#### 10. Why does this expression cause an error? How can you fix it?"
   ]
  },
  {
   "cell_type": "code",
   "execution_count": 4,
   "id": "fatty-camel",
   "metadata": {},
   "outputs": [
    {
     "ename": "TypeError",
     "evalue": "must be str, not int",
     "output_type": "error",
     "traceback": [
      "\u001b[0;31m---------------------------------------------------------------------------\u001b[0m",
      "\u001b[0;31mTypeError\u001b[0m                                 Traceback (most recent call last)",
      "\u001b[0;32m<ipython-input-4-f5781a105d59>\u001b[0m in \u001b[0;36m<module>\u001b[0;34m\u001b[0m\n\u001b[0;32m----> 1\u001b[0;31m \u001b[0;34m'I have eaten'\u001b[0m \u001b[0;34m+\u001b[0m \u001b[0;36m99\u001b[0m \u001b[0;34m+\u001b[0m \u001b[0;34m'burritos.'\u001b[0m\u001b[0;34m\u001b[0m\u001b[0;34m\u001b[0m\u001b[0m\n\u001b[0m",
      "\u001b[0;31mTypeError\u001b[0m: must be str, not int"
     ]
    }
   ],
   "source": [
    "'I have eaten' + 99 + 'burritos.'"
   ]
  },
  {
   "cell_type": "markdown",
   "id": "western-initial",
   "metadata": {},
   "source": [
    "-> This expression cause an error due to 99 which is an integer value. To solve this error we need to cconvert this 99 integer value to the string. For converting integer to string we can use 'str()'. This cconversion is called as 'Type Conversion'."
   ]
  },
  {
   "cell_type": "code",
   "execution_count": 5,
   "id": "transparent-intention",
   "metadata": {},
   "outputs": [
    {
     "data": {
      "text/plain": [
       "'I have eaten99burritos.'"
      ]
     },
     "execution_count": 5,
     "metadata": {},
     "output_type": "execute_result"
    }
   ],
   "source": [
    "'I have eaten' + str(99) + 'burritos.'"
   ]
  },
  {
   "cell_type": "code",
   "execution_count": null,
   "id": "instrumental-syndicate",
   "metadata": {},
   "outputs": [],
   "source": []
  }
 ],
 "metadata": {
  "kernelspec": {
   "display_name": "Python 3",
   "language": "python",
   "name": "python3"
  },
  "language_info": {
   "codemirror_mode": {
    "name": "ipython",
    "version": 3
   },
   "file_extension": ".py",
   "mimetype": "text/x-python",
   "name": "python",
   "nbconvert_exporter": "python",
   "pygments_lexer": "ipython3",
   "version": "3.6.13"
  }
 },
 "nbformat": 4,
 "nbformat_minor": 5
}
