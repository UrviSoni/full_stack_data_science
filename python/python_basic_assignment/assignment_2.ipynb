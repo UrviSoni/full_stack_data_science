{
 "cells": [
  {
   "cell_type": "markdown",
   "id": "eastern-pension",
   "metadata": {},
   "source": [
    "#### 1.What are the two values of the Boolean data type? How do you write them?\n",
    "\n",
    "-> True and False are the two values of Boolean data type and we can write them as \"True\" and \"False\".\n",
    "-> **Note:-** The keywords True and False must have an **Upper Case first letter**. Using a lowercase true returns an error.\n",
    "\n",
    "-> **True = 1**\n",
    "\n",
    "-> **False = 0**\n",
    "\n",
    "-> **Example:-** \n",
    "\n",
    "```>>> a = True```\n",
    "\n",
    "```>>> type(a)```\n",
    "\n",
    "```<calss = 'bool'>```"
   ]
  },
  {
   "cell_type": "markdown",
   "id": "military-interference",
   "metadata": {},
   "source": [
    "#### 2. What are the three different types of Boolean operators?\n",
    "\n",
    "-> The three basic boolean operators are: **AND, OR,** and **NOT.**\n",
    "\n",
    "Operator | Meaning Of Operator | Example\n",
    "---------|---------------------|---------\n",
    "```and```|True if both are true\t|```x and y```\n",
    "```or```|True if at least one is true|```x or y```\n",
    "```not```|True only if false|```not x```\n",
    "\n"
   ]
  },
  {
   "cell_type": "markdown",
   "id": "lyric-calculation",
   "metadata": {},
   "source": [
    "#### 3. Make a list of each Boolean operator's truth tables (i.e. every possible combination of Boolean values for the operator and what it evaluate ).\n",
    "\n",
    "##### AND Truth Table ( x * y)\n",
    "\n",
    "x|and|y|Result\n",
    "-|---|-|------\n",
    "True|and|True|True\n",
    "True|and|False|False\n",
    "False|and|True|False\n",
    "False|and|False|False\n",
    "\n",
    "##### OR Truth Table ( x + y)\n",
    "\n",
    "x|or|y|Result\n",
    "-|--|-|------\n",
    "True|or|True|True\n",
    "True|or|False|True\n",
    "False|or|True|True\n",
    "False|or|False|False\n",
    "\n",
    "##### NOT Truth Table (!x)\n",
    "\n",
    "not|x|Result\n",
    "---|-|-------\n",
    "not|True|False\n",
    "not|False|True\n",
    "\n",
    "##### '==' Truth Table\n",
    "\n",
    "x|==|y|Returns\n",
    "-|--|-|--------\n",
    "True|==|True|True\n",
    "True|==|False|False\n",
    "False|==|True|False\n",
    "False|==|False|True\n",
    "\n"
   ]
  },
  {
   "cell_type": "markdown",
   "id": "tender-interval",
   "metadata": {},
   "source": [
    "#### 4. What are the values of the following expressions?"
   ]
  },
  {
   "cell_type": "code",
   "execution_count": 17,
   "id": "painted-wagon",
   "metadata": {},
   "outputs": [
    {
     "data": {
      "text/plain": [
       "False"
      ]
     },
     "execution_count": 17,
     "metadata": {},
     "output_type": "execute_result"
    }
   ],
   "source": [
    "(5 > 4) and (3 == 5) # True and False = False"
   ]
  },
  {
   "cell_type": "code",
   "execution_count": 18,
   "id": "helpful-expense",
   "metadata": {},
   "outputs": [
    {
     "data": {
      "text/plain": [
       "False"
      ]
     },
     "execution_count": 18,
     "metadata": {},
     "output_type": "execute_result"
    }
   ],
   "source": [
    "not (5 > 4) # not True"
   ]
  },
  {
   "cell_type": "code",
   "execution_count": 19,
   "id": "synthetic-illustration",
   "metadata": {},
   "outputs": [
    {
     "data": {
      "text/plain": [
       "True"
      ]
     },
     "execution_count": 19,
     "metadata": {},
     "output_type": "execute_result"
    }
   ],
   "source": [
    "(5 > 4) or (3 == 5) # True or False = True"
   ]
  },
  {
   "cell_type": "code",
   "execution_count": 20,
   "id": "interim-basket",
   "metadata": {},
   "outputs": [
    {
     "data": {
      "text/plain": [
       "False"
      ]
     },
     "execution_count": 20,
     "metadata": {},
     "output_type": "execute_result"
    }
   ],
   "source": [
    "not ((5 > 4) or (3 == 5)) # not (True or False) = not True = False"
   ]
  },
  {
   "cell_type": "code",
   "execution_count": 21,
   "id": "short-stopping",
   "metadata": {},
   "outputs": [
    {
     "data": {
      "text/plain": [
       "False"
      ]
     },
     "execution_count": 21,
     "metadata": {},
     "output_type": "execute_result"
    }
   ],
   "source": [
    "(True and True) and (True == False) # True and False = False"
   ]
  },
  {
   "cell_type": "code",
   "execution_count": 22,
   "id": "expressed-title",
   "metadata": {},
   "outputs": [
    {
     "data": {
      "text/plain": [
       "True"
      ]
     },
     "execution_count": 22,
     "metadata": {},
     "output_type": "execute_result"
    }
   ],
   "source": [
    "(not False) or (not True) # True or False = True"
   ]
  },
  {
   "cell_type": "markdown",
   "id": "protected-disclosure",
   "metadata": {},
   "source": [
    "#### 5. What are the six comparison operators?\n",
    "\n",
    "-> In programming, comparison operators are used to compare values and evaluate down to a single Boolean value of either True or False.\n",
    "\n",
    "Operator|Meaning of Operator\n",
    "--------|-------------------\n",
    "```==```|Equal to\n",
    "```!=```|Not equal to\n",
    "```<```|Less than\n",
    "```>```|Greater than\n",
    "```<=```|Less than or equal to\n",
    "```>=```|Greater than or equal to\n"
   ]
  },
  {
   "cell_type": "markdown",
   "id": "furnished-employer",
   "metadata": {},
   "source": [
    "#### 6. How do you tell the difference between the equal to and assignment operators? Describe a condition and when you would use one.\n",
    "\n",
    "-> **== operator** - The ‘==’ operator checks whether the two given operands are equal or not. If so, it returns True. Otherwise it returns False.\n",
    "\n",
    "**Example:-**\n",
    "\n",
    "```5 == 5```\n",
    "\n",
    "```True```\n",
    "\n",
    "```if (a==b)```\n",
    "\n",
    "\n",
    "-> **= operator** - The “=” is an assignment operator is used to assign the value on the right to the variable on the left.\n",
    "\n",
    "**Example:-**\n",
    "\n",
    "```a = 10```\n",
    "\n",
    "```ch = 'u'```\n",
    "\n"
   ]
  },
  {
   "cell_type": "markdown",
   "id": "controlled-large",
   "metadata": {},
   "source": [
    "#### 7. Identify the three blocks in this code:"
   ]
  },
  {
   "cell_type": "code",
   "execution_count": 23,
   "id": "danish-universal",
   "metadata": {},
   "outputs": [
    {
     "name": "stdout",
     "output_type": "stream",
     "text": [
      "ham\n",
      "spam\n",
      "spam\n"
     ]
    }
   ],
   "source": [
    "spam = 0\n",
    "\n",
    "if spam == 10:\n",
    "    print('eggs')\n",
    "if spam > 5:\n",
    "    print('bacon')\n",
    "else:\n",
    "    print('ham')\n",
    "    print('spam')\n",
    "    print('spam')"
   ]
  },
  {
   "cell_type": "markdown",
   "id": "fatty-russia",
   "metadata": {},
   "source": [
    "-> Here, if spam == 10 is a 1st block.\n",
    "\n",
    "-> if spam > 5 is 2nd block.\n",
    "\n",
    "-> else is the 3rd block."
   ]
  },
  {
   "cell_type": "markdown",
   "id": "applied-comparative",
   "metadata": {},
   "source": [
    "#### 8. Write code that prints Hello if 1 is stored in spam, prints Howdy if 2 is stored in spam, and prints Greetings! if anything else is stored in spam."
   ]
  },
  {
   "cell_type": "code",
   "execution_count": 24,
   "id": "demographic-suite",
   "metadata": {},
   "outputs": [
    {
     "name": "stdout",
     "output_type": "stream",
     "text": [
      "Greetings!\n"
     ]
    }
   ],
   "source": [
    "if (spam == 1):\n",
    "    print('Hello')\n",
    "if (spam == 2):\n",
    "    print(\"Howdy\")\n",
    "else:\n",
    "    print(\"Greetings!\")"
   ]
  },
  {
   "cell_type": "markdown",
   "id": "honest-benefit",
   "metadata": {},
   "source": [
    "#### 9.If your programme is stuck in an endless loop, what keys you’ll press?\n",
    "\n",
    "-> If programme is stuck in an endless loop then will press **'Ctrl + Z' or 'Ctrl + C'**\n",
    "\n",
    "-> To exit from comandline then will press **Ctrl + C**"
   ]
  },
  {
   "cell_type": "markdown",
   "id": "dietary-dietary",
   "metadata": {},
   "source": [
    "#### 10. How can you tell the difference between break and continue?\n",
    "\n",
    "-> The ```break``` statement terminates the loop containing it.\n",
    "\n",
    "**Syntax**\n",
    "\n",
    "```break```\n",
    "\n",
    "**Example**\n"
   ]
  },
  {
   "cell_type": "code",
   "execution_count": 29,
   "id": "ready-walter",
   "metadata": {},
   "outputs": [
    {
     "name": "stdout",
     "output_type": "stream",
     "text": [
      "u\n",
      "The End\n"
     ]
    }
   ],
   "source": [
    "for val in 'urvi':\n",
    "    if val == 'r':\n",
    "        break\n",
    "    print(val)\n",
    "      \n",
    "print(\"The End\")"
   ]
  },
  {
   "cell_type": "markdown",
   "id": "rocky-spice",
   "metadata": {},
   "source": [
    "-> The ```continue``` statement is used to skip the rest of the code inside a loop for the current iteration only. Loop does not terminate but continues on with the next iteration.\n",
    "\n",
    "**Syntax**\n",
    "\n",
    "```continue```\n",
    "\n",
    "**Example**"
   ]
  },
  {
   "cell_type": "code",
   "execution_count": 31,
   "id": "developed-thailand",
   "metadata": {},
   "outputs": [
    {
     "name": "stdout",
     "output_type": "stream",
     "text": [
      "u\n",
      "v\n",
      "i\n",
      "The End\n"
     ]
    }
   ],
   "source": [
    "for val in 'urvi':\n",
    "    if val == 'r':\n",
    "        continue      \n",
    "    print(val)\n",
    "      \n",
    "print(\"The End\")\n"
   ]
  },
  {
   "cell_type": "markdown",
   "id": "ahead-ratio",
   "metadata": {},
   "source": [
    "#### 11. In a for loop, what is the difference between range(10), range(0, 10), and range(0, 10, 1)?\n",
    "\n",
    "-> ```range(10) = range(stop)```\n",
    "\n",
    "-> When we call range() with one argument,we will get a series of numbers that starts at 0 and includes every whole number up to, but not including, the number that we have provided as the stop. \n",
    "\n",
    "For Example –"
   ]
  },
  {
   "cell_type": "code",
   "execution_count": 28,
   "id": "designing-syndrome",
   "metadata": {},
   "outputs": [
    {
     "name": "stdout",
     "output_type": "stream",
     "text": [
      "0 1 2 3 4 5 6 7 8 9 "
     ]
    }
   ],
   "source": [
    "for i in range(10):\n",
    "    print(i, end = ' ')"
   ]
  },
  {
   "cell_type": "markdown",
   "id": "independent-lindsay",
   "metadata": {},
   "source": [
    "-> ```range(0,10) = range(start, stop)```\n",
    "\n",
    "-> When we call range() with ```two arguments```, we get to decide not only where the series of numbers stops but also where it starts, so we don’t have to start at 0 all the time. we can use range() to generate a series of numbers from X to Y using a range(X, Y). \n",
    "\n",
    "For Example -arguments\n"
   ]
  },
  {
   "cell_type": "code",
   "execution_count": 32,
   "id": "frequent-baptist",
   "metadata": {},
   "outputs": [
    {
     "name": "stdout",
     "output_type": "stream",
     "text": [
      "0 1 2 3 4 5 6 7 8 9 \n"
     ]
    }
   ],
   "source": [
    "for i in range(0, 10):\n",
    "    print(i, end =\" \")\n",
    "print()"
   ]
  },
  {
   "cell_type": "markdown",
   "id": "insured-authority",
   "metadata": {},
   "source": [
    "-> ```range(0, 10, 1) = range(start, stop, step)```\n",
    "\n",
    "-> When we call range() with ```three arguments```, we can choose not only where the series of numbers will start and stop but also how big the difference will be between one number and the next. If we don’t provide a step, then range() will automatically behave as if the step is 1.\n",
    "\n",
    "For Example - "
   ]
  },
  {
   "cell_type": "code",
   "execution_count": 33,
   "id": "suspended-federal",
   "metadata": {},
   "outputs": [
    {
     "name": "stdout",
     "output_type": "stream",
     "text": [
      "0 1 2 3 4 5 6 7 8 9 \n"
     ]
    }
   ],
   "source": [
    "for i in range(0, 10, 1):\n",
    "    print(i, end =\" \")\n",
    "print()"
   ]
  },
  {
   "cell_type": "code",
   "execution_count": 34,
   "id": "documentary-candy",
   "metadata": {},
   "outputs": [
    {
     "name": "stdout",
     "output_type": "stream",
     "text": [
      "0 2 4 6 8 \n"
     ]
    }
   ],
   "source": [
    "for i in range(0, 10, 2):\n",
    "    print(i, end =\" \")\n",
    "print()"
   ]
  },
  {
   "cell_type": "markdown",
   "id": "architectural-custom",
   "metadata": {},
   "source": [
    "#### 12. Write a short program that prints the numbers 1 to 10 using a for loop. Then write an equivalent program that prints the numbers 1 to 10 using a while loop.\n",
    "\n"
   ]
  },
  {
   "cell_type": "code",
   "execution_count": 40,
   "id": "minute-treaty",
   "metadata": {},
   "outputs": [
    {
     "name": "stdout",
     "output_type": "stream",
     "text": [
      "1\n",
      "2\n",
      "3\n",
      "4\n",
      "5\n",
      "6\n",
      "7\n",
      "8\n",
      "9\n",
      "10\n",
      "\n"
     ]
    }
   ],
   "source": [
    "# Using 'for' loop\n",
    "\n",
    "for i in range(1, 11): # took range(1,11) because we want to print 1 - 10 numbers so it starts from 1 and iterate through 11.\n",
    "    print(i, end =\"\\n\")\n",
    "print()"
   ]
  },
  {
   "cell_type": "code",
   "execution_count": 42,
   "id": "historical-enlargement",
   "metadata": {},
   "outputs": [
    {
     "name": "stdout",
     "output_type": "stream",
     "text": [
      "1\n",
      "2\n",
      "3\n",
      "4\n",
      "5\n",
      "6\n",
      "7\n",
      "8\n",
      "9\n",
      "10\n"
     ]
    }
   ],
   "source": [
    "# Using 'while' loop\n",
    "\n",
    "i = 1\n",
    "while (i<=10):\n",
    "    print(i,end=\"\\n\")\n",
    "    i += 1 # increment i value by 1"
   ]
  },
  {
   "cell_type": "markdown",
   "id": "coral-worse",
   "metadata": {},
   "source": [
    "#### 13. If you had a function named bacon() inside a module named spam, how would you call it after importing spam?\n",
    "\n",
    "-> We can call it by using ```dot - (.)``` \n",
    "\n",
    "spam.bacon()"
   ]
  }
 ],
 "metadata": {
  "kernelspec": {
   "display_name": "Python 3",
   "language": "python",
   "name": "python3"
  },
  "language_info": {
   "codemirror_mode": {
    "name": "ipython",
    "version": 3
   },
   "file_extension": ".py",
   "mimetype": "text/x-python",
   "name": "python",
   "nbconvert_exporter": "python",
   "pygments_lexer": "ipython3",
   "version": "3.6.13"
  }
 },
 "nbformat": 4,
 "nbformat_minor": 5
}
