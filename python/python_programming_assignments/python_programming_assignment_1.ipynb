{
 "cells": [
  {
   "cell_type": "code",
   "execution_count": 1,
   "id": "grave-optimum",
   "metadata": {},
   "outputs": [
    {
     "name": "stdout",
     "output_type": "stream",
     "text": [
      "Hello Python\n"
     ]
    }
   ],
   "source": [
    "# Que 1 : Write a Python program to print \"Hello Python\" ?\n",
    "\n",
    "print(\"Hello Python\")"
   ]
  },
  {
   "cell_type": "code",
   "execution_count": 6,
   "id": "smooth-johnson",
   "metadata": {},
   "outputs": [],
   "source": [
    "# Que 2 : Write a Python program to do arithmetical operations addition and division.?\n",
    "\n",
    "def addition(a,b):\n",
    "    return a + b\n",
    "def division(c,d):\n",
    "    try :\n",
    "        return c/d\n",
    "    except ZeroDivisionError as e:\n",
    "        print(e)"
   ]
  },
  {
   "cell_type": "code",
   "execution_count": 7,
   "id": "heavy-fight",
   "metadata": {},
   "outputs": [
    {
     "data": {
      "text/plain": [
       "5"
      ]
     },
     "execution_count": 7,
     "metadata": {},
     "output_type": "execute_result"
    }
   ],
   "source": [
    "addition(2,3)"
   ]
  },
  {
   "cell_type": "code",
   "execution_count": 8,
   "id": "narrow-editing",
   "metadata": {},
   "outputs": [
    {
     "name": "stdout",
     "output_type": "stream",
     "text": [
      "division by zero\n"
     ]
    }
   ],
   "source": [
    "division(5,0)"
   ]
  },
  {
   "cell_type": "code",
   "execution_count": 9,
   "id": "exciting-closer",
   "metadata": {},
   "outputs": [
    {
     "data": {
      "text/plain": [
       "2.0"
      ]
     },
     "execution_count": 9,
     "metadata": {},
     "output_type": "execute_result"
    }
   ],
   "source": [
    "division(4,2)"
   ]
  },
  {
   "cell_type": "code",
   "execution_count": 10,
   "id": "fatty-poetry",
   "metadata": {},
   "outputs": [
    {
     "data": {
      "text/plain": [
       "2.9047375096555625"
      ]
     },
     "execution_count": 10,
     "metadata": {},
     "output_type": "execute_result"
    }
   ],
   "source": [
    "# Que 3 : Write a python program to find the area of a triangle?\n",
    "\n",
    "def area_tri(a,b,c):\n",
    "    \n",
    "    # calculate the semi-perimeter\n",
    "    \n",
    "    s = (a + b + c) / 2\n",
    "    \n",
    "    # calculate the area\n",
    "    \n",
    "    area = (s * (s - a) * (s - b) * (s -c)) ** 0.5\n",
    "    \n",
    "    return area\n",
    "\n",
    "area_tri(2,3,4)"
   ]
  },
  {
   "cell_type": "code",
   "execution_count": 13,
   "id": "unlike-cruise",
   "metadata": {},
   "outputs": [],
   "source": [
    "# Que 4 : Write a python program to swap two variables\n",
    "\n",
    "def swap(a,b):\n",
    "    \n",
    "    # using external variable\n",
    "    \n",
    "    temp = a\n",
    "    a = b\n",
    "    b = temp\n",
    "    \n",
    "    return 'a after swapping {}'.format(a) +  \" - \"+ 'b after swapping {}'.format(b)    "
   ]
  },
  {
   "cell_type": "code",
   "execution_count": 14,
   "id": "deadly-celebrity",
   "metadata": {},
   "outputs": [
    {
     "data": {
      "text/plain": [
       "'a after swapping 4 - b after swapping 3'"
      ]
     },
     "execution_count": 14,
     "metadata": {},
     "output_type": "execute_result"
    }
   ],
   "source": [
    "swap(3,4)"
   ]
  },
  {
   "cell_type": "code",
   "execution_count": 15,
   "id": "demographic-friend",
   "metadata": {},
   "outputs": [],
   "source": [
    "# without using external variable\n",
    "\n",
    "def without(x,y):\n",
    "    \n",
    "    x = x + y\n",
    "    y = x - y\n",
    "    x = x - y\n",
    "    \n",
    "    return 'x after swapping {}'.format(x) +  \" - \"+ 'y after swapping {}'.format(y)"
   ]
  },
  {
   "cell_type": "code",
   "execution_count": 16,
   "id": "irish-expression",
   "metadata": {},
   "outputs": [
    {
     "data": {
      "text/plain": [
       "'x after swapping 4 - y after swapping 3'"
      ]
     },
     "execution_count": 16,
     "metadata": {},
     "output_type": "execute_result"
    }
   ],
   "source": [
    "without(3,4)"
   ]
  },
  {
   "cell_type": "code",
   "execution_count": null,
   "id": "attended-satisfaction",
   "metadata": {},
   "outputs": [],
   "source": [
    "# Que 5 : Write a python program to generate a random number.\n",
    "\n",
    "import random\n",
    "\n",
    "def random_num():"
   ]
  }
 ],
 "metadata": {
  "kernelspec": {
   "display_name": "Python 3",
   "language": "python",
   "name": "python3"
  },
  "language_info": {
   "codemirror_mode": {
    "name": "ipython",
    "version": 3
   },
   "file_extension": ".py",
   "mimetype": "text/x-python",
   "name": "python",
   "nbconvert_exporter": "python",
   "pygments_lexer": "ipython3",
   "version": "3.6.13"
  }
 },
 "nbformat": 4,
 "nbformat_minor": 5
}
