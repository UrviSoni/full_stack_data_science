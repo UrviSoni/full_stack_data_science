{
 "cells": [
  {
   "cell_type": "code",
   "execution_count": 1,
   "id": "impressive-kazakhstan",
   "metadata": {},
   "outputs": [
    {
     "name": "stdout",
     "output_type": "stream",
     "text": [
      "Enter the value of kilometers : 4.6\n",
      "4.60 kilometers is equal to 2.86 miles\n"
     ]
    }
   ],
   "source": [
    "# 1) Write a Python program to convert kilometers to miles?\n",
    "\n",
    "# take input from user\n",
    "kilometers = float(input(\"Enter the value of kilometers : \"))\n",
    "\n",
    "# 1 kilometer = 0.621371 mile\n",
    "\n",
    "# conversion factor\n",
    "conv_fact = 0.621371\n",
    "\n",
    "miles = kilometers * conv_fact\n",
    "\n",
    "print('%.2f kilometers is equal to %.2f miles' %(kilometers,miles))"
   ]
  },
  {
   "cell_type": "code",
   "execution_count": 2,
   "id": "printable-wallace",
   "metadata": {},
   "outputs": [
    {
     "name": "stdout",
     "output_type": "stream",
     "text": [
      "Enter the temprature in Celsius : 42.5\n",
      "42.50 celsius is equal to 108.50 fahrenheit\n"
     ]
    }
   ],
   "source": [
    "# 2) Write a Python program to convert Celsius to Fahrenheit?\n",
    "\n",
    "# take input from usesr\n",
    "celsius = float(input(\"Enter the temprature in Celsius : \"))\n",
    "\n",
    "# formula ->> Fahrenheit = (celsius * 9/5) + 32  or  Fahrenheit = (celsius * 1.8) + 32\n",
    "\n",
    "fahrenheit = (celsius * 1.8) + 32\n",
    "\n",
    "print('%.2f celsius is equal to %.2f fahrenheit' %(celsius,fahrenheit))"
   ]
  },
  {
   "cell_type": "code",
   "execution_count": 16,
   "id": "fabulous-psychiatry",
   "metadata": {},
   "outputs": [
    {
     "name": "stdout",
     "output_type": "stream",
     "text": [
      "Enter the year you want to display the calender: 2021\n",
      "========================================\n",
      "Enter the month you want to display the calender: 5\n",
      "                                                                  2021\n",
      "\n",
      "                 January                                        February                                        March\n",
      " Mon   Tue   Wed   Thu   Fri   Sat   Sun        Mon   Tue   Wed   Thu   Fri   Sat   Sun        Mon   Tue   Wed   Thu   Fri   Sat   Sun\n",
      "                           1     2     3          1     2     3     4     5     6     7          1     2     3     4     5     6     7\n",
      "   4     5     6     7     8     9    10          8     9    10    11    12    13    14          8     9    10    11    12    13    14\n",
      "  11    12    13    14    15    16    17         15    16    17    18    19    20    21         15    16    17    18    19    20    21\n",
      "  18    19    20    21    22    23    24         22    23    24    25    26    27    28         22    23    24    25    26    27    28\n",
      "  25    26    27    28    29    30    31                                                        29    30    31\n",
      "\n",
      "                  April                                           May                                            June\n",
      " Mon   Tue   Wed   Thu   Fri   Sat   Sun        Mon   Tue   Wed   Thu   Fri   Sat   Sun        Mon   Tue   Wed   Thu   Fri   Sat   Sun\n",
      "                     1     2     3     4                                        1     2                1     2     3     4     5     6\n",
      "   5     6     7     8     9    10    11          3     4     5     6     7     8     9          7     8     9    10    11    12    13\n",
      "  12    13    14    15    16    17    18         10    11    12    13    14    15    16         14    15    16    17    18    19    20\n",
      "  19    20    21    22    23    24    25         17    18    19    20    21    22    23         21    22    23    24    25    26    27\n",
      "  26    27    28    29    30                     24    25    26    27    28    29    30         28    29    30\n",
      "                                                 31\n",
      "\n",
      "                   July                                          August                                       September\n",
      " Mon   Tue   Wed   Thu   Fri   Sat   Sun        Mon   Tue   Wed   Thu   Fri   Sat   Sun        Mon   Tue   Wed   Thu   Fri   Sat   Sun\n",
      "                     1     2     3     4                                              1                      1     2     3     4     5\n",
      "   5     6     7     8     9    10    11          2     3     4     5     6     7     8          6     7     8     9    10    11    12\n",
      "  12    13    14    15    16    17    18          9    10    11    12    13    14    15         13    14    15    16    17    18    19\n",
      "  19    20    21    22    23    24    25         16    17    18    19    20    21    22         20    21    22    23    24    25    26\n",
      "  26    27    28    29    30    31               23    24    25    26    27    28    29         27    28    29    30\n",
      "                                                 30    31\n",
      "\n",
      "                 October                                        November                                       December\n",
      " Mon   Tue   Wed   Thu   Fri   Sat   Sun        Mon   Tue   Wed   Thu   Fri   Sat   Sun        Mon   Tue   Wed   Thu   Fri   Sat   Sun\n",
      "                           1     2     3          1     2     3     4     5     6     7                      1     2     3     4     5\n",
      "   4     5     6     7     8     9    10          8     9    10    11    12    13    14          6     7     8     9    10    11    12\n",
      "  11    12    13    14    15    16    17         15    16    17    18    19    20    21         13    14    15    16    17    18    19\n",
      "  18    19    20    21    22    23    24         22    23    24    25    26    27    28         20    21    22    23    24    25    26\n",
      "  25    26    27    28    29    30    31         29    30                                       27    28    29    30    31\n",
      "\n"
     ]
    }
   ],
   "source": [
    "# 3) Write a Python Program to display calender\n",
    "\n",
    "# import the calendar\n",
    "import calendar\n",
    "\n",
    "# take year from the user which he/she wants to diplay the calender\n",
    "year = int(input(\"Enter the year you want to display the calender: \"))\n",
    "#print(calendar.calendar(year))\n",
    "\n",
    "print(\"========================================\")\n",
    "# print calendar with month and year\n",
    "month = int(input(\"Enter the month you want to display the calender: \"))\n",
    "print(calendar.calendar(year, month))\n"
   ]
  },
  {
   "cell_type": "code",
   "execution_count": 7,
   "id": "assumed-township",
   "metadata": {},
   "outputs": [
    {
     "name": "stdout",
     "output_type": "stream",
     "text": [
      "Enter the value of 'a' : 3\n",
      "Enter the value of 'b' : 4\n",
      "Enter the value of 'c' : 5\n",
      "Complex Roots\n",
      "-0.6666666666666666  + i 6.6332495807108\n",
      "-0.6666666666666666  - i 6.6332495807108\n"
     ]
    }
   ],
   "source": [
    "# 4) Write a Python program to solve quadratic equation?\n",
    "import math\n",
    "\n",
    "# function for finding roots\n",
    "def equationroots(a, b, c):\n",
    "    \n",
    "    # calculating discriminant using formula\n",
    "    dis = b * b - 4 * a * c\n",
    "    sqrt_val = math.sqrt(abs(dis))\n",
    "    # check condition\n",
    "    if dis > 0:\n",
    "        print(\"Real and Different Roots\")\n",
    "        print((-b + sqrt_val)/(2 * a))\n",
    "        print((-b - sqrt_val)/(2 * a))\n",
    "    elif dis == 0:\n",
    "        print(\"Real and Same Roots\")\n",
    "        print(-b/(2 * a))\n",
    "    else:\n",
    "        print(\"Complex Roots\")\n",
    "        print(-b/(2 * a), \" + i\", sqrt_val)\n",
    "        print(-b/(2 * a), \" - i\", sqrt_val)\n",
    "\n",
    "a = int(input(\"Enter the value of 'a' : \"))\n",
    "b = int(input(\"Enter the value of 'b' : \"))\n",
    "c = int(input(\"Enter the value of 'c' : \"))\n",
    "\n",
    "if a == 0:\n",
    "    # If a is 0, then incorrect equation\n",
    "    print(\"Input correct quadratic equation\")\n",
    "else:\n",
    "    equationroots(a, b, c)"
   ]
  },
  {
   "cell_type": "code",
   "execution_count": 10,
   "id": "welcome-listing",
   "metadata": {},
   "outputs": [
    {
     "name": "stdout",
     "output_type": "stream",
     "text": [
      "Enter the value of 'a' : 3\n",
      "Enter the value of 'b' : 4\n",
      "Before swapping numbers: 3   4\n",
      "\n",
      "After swapping: 4   3\n",
      "\n"
     ]
    }
   ],
   "source": [
    "# 5) Write a Python program to swap two variables without temp variable?\n",
    "\n",
    "def swap_without_temp():\n",
    "    a = int(input(\"Enter the value of 'a' : \"))\n",
    "    b = int(input(\"Enter the value of 'b' : \"))\n",
    "    print(\"Before swapping numbers: %d   %d\\n\" %(a,b))  \n",
    "    a = a + b # exa:- a = 3, b = 4 then a + b = 7 = a\n",
    "    b = a - b # 7 - 4 = 3 = b\n",
    "    a = a - b # 7 - 3 = 4 = a\n",
    "    \n",
    "    print(\"After swapping: %d   %d\\n\"%(a,b))\n",
    "\n",
    "swap_without_temp()"
   ]
  },
  {
   "cell_type": "code",
   "execution_count": null,
   "id": "distant-prophet",
   "metadata": {},
   "outputs": [],
   "source": []
  }
 ],
 "metadata": {
  "kernelspec": {
   "display_name": "Python 3",
   "language": "python",
   "name": "python3"
  },
  "language_info": {
   "codemirror_mode": {
    "name": "ipython",
    "version": 3
   },
   "file_extension": ".py",
   "mimetype": "text/x-python",
   "name": "python",
   "nbconvert_exporter": "python",
   "pygments_lexer": "ipython3",
   "version": "3.6.13"
  }
 },
 "nbformat": 4,
 "nbformat_minor": 5
}
