{
 "cells": [
  {
   "cell_type": "code",
   "execution_count": 3,
   "id": "threatened-scenario",
   "metadata": {},
   "outputs": [
    {
     "data": {
      "text/plain": [
       "120"
      ]
     },
     "execution_count": 3,
     "metadata": {},
     "output_type": "execute_result"
    }
   ],
   "source": [
    "# 1) Write a Python Program to Find the Factorial of a Number?\n",
    "\n",
    "def factorial(n):\n",
    "    if n < 0:\n",
    "        print(\"Sorry, factorial does not exist for negative numbers\")\n",
    "    elif n == 0 or n == 1:\n",
    "        return 1\n",
    "    else:\n",
    "        fact = 1\n",
    "        while(n > 1):\n",
    "            fact *= n\n",
    "            n -= 1\n",
    "        return fact\n",
    "    \n",
    "factorial(5)"
   ]
  },
  {
   "cell_type": "code",
   "execution_count": 4,
   "id": "stone-visitor",
   "metadata": {},
   "outputs": [
    {
     "name": "stdout",
     "output_type": "stream",
     "text": [
      "Enter the number to which you want to print multiplication table :- 5\n",
      "5 x 1 = 5\n",
      "5 x 2 = 10\n",
      "5 x 3 = 15\n",
      "5 x 4 = 20\n",
      "5 x 5 = 25\n",
      "5 x 6 = 30\n",
      "5 x 7 = 35\n",
      "5 x 8 = 40\n",
      "5 x 9 = 45\n",
      "5 x 10 = 50\n"
     ]
    }
   ],
   "source": [
    "# 2) Write a Python Program to Display the multiplication Table?\n",
    "\n",
    "def multiplication():\n",
    "    num = int(input(\"Enter the number to which you want to print multiplication table :- \"))\n",
    "    \n",
    "    for i in range(1,11):\n",
    "        print(num, 'x', i, '=', num*i)\n",
    "    \n",
    "multiplication()"
   ]
  },
  {
   "cell_type": "code",
   "execution_count": 6,
   "id": "polish-affect",
   "metadata": {},
   "outputs": [
    {
     "name": "stdout",
     "output_type": "stream",
     "text": [
      "Enter the number of terms you want to print : 5\n",
      "Fibonacci sequence:\n",
      "0\n",
      "1\n",
      "1\n",
      "2\n",
      "3\n"
     ]
    }
   ],
   "source": [
    "# 3) Write a Python Program to Print the Fibonacci sequence?\n",
    "\n",
    "def fibonacci():\n",
    "    \n",
    "    num_terms = int(input(\"Enter the number of terms you want to print : \"))\n",
    "    n1, n2 = 0, 1\n",
    "    count = 0\n",
    "    \n",
    "    # check if the number of terms is valid\n",
    "    if num_terms <= 0:\n",
    "        print(\"Please enter a positive integer\")\n",
    "    elif num_terms == 1:\n",
    "        print(\"Fibonacci sequence upto\",num_terms,\":\")\n",
    "        print(n1)\n",
    "    else:\n",
    "        print(\"Fibonacci sequence:\")\n",
    "        while count < num_terms:\n",
    "            print(n1)\n",
    "            nth = n1 + n2\n",
    "            # update values\n",
    "            n1 = n2\n",
    "            n2 = nth\n",
    "            count += 1\n",
    "            \n",
    "fibonacci()\n"
   ]
  },
  {
   "cell_type": "code",
   "execution_count": 11,
   "id": "representative-karma",
   "metadata": {},
   "outputs": [
    {
     "name": "stdout",
     "output_type": "stream",
     "text": [
      "Enter a number : 407\n",
      "407 is An Armstong Number\n"
     ]
    }
   ],
   "source": [
    "# 4) Write A python program to check Armstrong Number?\n",
    "\n",
    "def isArmstrong():\n",
    "    \n",
    "    num = int(input(\"Enter a number : \"))\n",
    "    sum1 = 0\n",
    "    temp = num\n",
    "    \n",
    "    while temp > 0:\n",
    "        digit = temp % 10\n",
    "        sum1 += digit**3\n",
    "        temp//=10\n",
    "        \n",
    "    if (num==sum1):\n",
    "        print(num,\"is An Armstong Number\")\n",
    "    else:\n",
    "        print(num,\"is not An Armstrong Number\")\n",
    "    \n",
    "isArmstrong()"
   ]
  },
  {
   "cell_type": "code",
   "execution_count": 13,
   "id": "former-wonder",
   "metadata": {},
   "outputs": [
    {
     "name": "stdout",
     "output_type": "stream",
     "text": [
      "153\n",
      "370\n",
      "371\n",
      "407\n",
      "1634\n"
     ]
    }
   ],
   "source": [
    "# 5) Write a Python Program to Find Armstrong Number in an Interval?\n",
    "\n",
    "def armstrong_interval():\n",
    "    \n",
    "    minimum = 100\n",
    "    maximum = 5000\n",
    "    \n",
    "    for num in range(minimum, maximum+1):\n",
    "        \n",
    "        order = len(str(num))\n",
    "        \n",
    "        sum = 0\n",
    "        \n",
    "        temp = num\n",
    "        while temp > 0:\n",
    "            digit = temp % 10\n",
    "            sum += digit**order\n",
    "            temp //= 10\n",
    "            \n",
    "        if (num==sum):\n",
    "            print(num)\n",
    "        \n",
    "armstrong_interval()"
   ]
  },
  {
   "cell_type": "code",
   "execution_count": 14,
   "id": "surrounded-trademark",
   "metadata": {},
   "outputs": [
    {
     "data": {
      "text/plain": [
       "55.0"
      ]
     },
     "execution_count": 14,
     "metadata": {},
     "output_type": "execute_result"
    }
   ],
   "source": [
    "# 6) Write a Python Program to Find the Sum of Natural Numbers?\n",
    "\n",
    "def findSum(n):\n",
    "    return n * (n+1) / 2\n",
    "\n",
    "findSum(10)"
   ]
  },
  {
   "cell_type": "code",
   "execution_count": 16,
   "id": "objective-france",
   "metadata": {},
   "outputs": [
    {
     "name": "stdout",
     "output_type": "stream",
     "text": [
      "Enter the number : 10\n",
      "The Sum is  55\n"
     ]
    }
   ],
   "source": [
    "def findSum():\n",
    "    num = int(input(\"Enter the number : \"))\n",
    "    \n",
    "    if num < 0:\n",
    "        print(\"Enter the positive number\")\n",
    "        \n",
    "    else:\n",
    "        sum = 0\n",
    "        while(num>0):\n",
    "            sum += num\n",
    "            num -= 1\n",
    "        print(\"The Sum is \", sum)\n",
    "    \n",
    "findSum()"
   ]
  },
  {
   "cell_type": "code",
   "execution_count": null,
   "id": "sitting-prior",
   "metadata": {},
   "outputs": [],
   "source": []
  }
 ],
 "metadata": {
  "kernelspec": {
   "display_name": "Python 3",
   "language": "python",
   "name": "python3"
  },
  "language_info": {
   "codemirror_mode": {
    "name": "ipython",
    "version": 3
   },
   "file_extension": ".py",
   "mimetype": "text/x-python",
   "name": "python",
   "nbconvert_exporter": "python",
   "pygments_lexer": "ipython3",
   "version": "3.6.13"
  }
 },
 "nbformat": 4,
 "nbformat_minor": 5
}
