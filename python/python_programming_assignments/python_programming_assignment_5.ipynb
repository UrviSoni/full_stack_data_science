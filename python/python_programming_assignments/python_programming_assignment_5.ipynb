{
 "cells": [
  {
   "cell_type": "markdown",
   "id": "provincial-vietnam",
   "metadata": {},
   "source": [
    "#### 1) Write a Python Program to Find LCM?\n",
    "\n",
    "LCM: Least Common Multiple/ Lowest Common Multiple\n",
    "\n",
    "-> LCM stands for Least Common Multiple. \n",
    "-> It is a concept of arithmetic and number system. \n",
    "-> The LCM of two integers a and b is denoted by LCM (a,b). \n",
    "-> It is the smallest positive integer that is divisible by both \"a\" and \"b\".\n",
    "\n",
    "**For example:** We have two integers 4 and 6. Let's find LCM\n",
    "\n",
    "**Multiples of 4 are:**\n",
    "\n",
    "4, 8, 12, 16, 20, 24, 28, 32, 36,... and so on...  \n",
    "\n",
    "**Multiples of 6 are:**\n",
    "\n",
    "6, 12, 18, 24, 30, 36, 42,... and so on....  \n",
    "\n",
    "**Common multiples of 4 and 6 are simply the numbers that are in both lists:**\n",
    "\n",
    "12, 24, 36, 48, 60, 72,.... and so on....  \n",
    "\n",
    "-> LCM is the lowest common multiplier so it is 12.\n"
   ]
  },
  {
   "cell_type": "code",
   "execution_count": 1,
   "id": "controversial-priest",
   "metadata": {},
   "outputs": [
    {
     "name": "stdout",
     "output_type": "stream",
     "text": [
      "Enter the number1 for finding the lcm :- 4\n",
      "Enter the number2 for finding the lcm :- 6\n"
     ]
    },
    {
     "data": {
      "text/plain": [
       "12"
      ]
     },
     "execution_count": 1,
     "metadata": {},
     "output_type": "execute_result"
    }
   ],
   "source": [
    "def compute_lcm():\n",
    "    \n",
    "    num1 = int(input(\"Enter the number1 for finding the lcm :- \"))\n",
    "    num2 = int(input(\"Enter the number2 for finding the lcm :- \"))\n",
    "    \n",
    "    if num1 > num2:\n",
    "        greater = num1\n",
    "    else:\n",
    "        greater = num2\n",
    "        \n",
    "    while(True):\n",
    "        if((greater%num1==0) and (greater%num2==0)):\n",
    "            lcm = greater\n",
    "            break\n",
    "        greater += 1\n",
    "\n",
    "    return lcm\n",
    "\n",
    "compute_lcm()"
   ]
  },
  {
   "cell_type": "markdown",
   "id": "private-christopher",
   "metadata": {},
   "source": [
    "#### 2) Write a Python Program to Find HCF?\n",
    "\n",
    "HCF: Highest Common Factor\n",
    "\n",
    "-> Highest Common Factor(HCF) or Greatest Common Divisor(GCD) of two or more integers when at least one of them is not zero is the largest positive integer that evenly divides the numbers without a remainder. \n",
    "\n",
    "-> For example, the GCD of 8 and 12 is 4.\n",
    "\n",
    "**For example:**\n",
    "\n",
    "-> We have two integers 8 and 12. Let's find the HCF.\n",
    "\n",
    "-> The divisors of 8 are:\n",
    "\n",
    "1, 2, 4, 8  \n",
    "\n",
    "-> The divisors of 12 are:\n",
    "\n",
    "-> HCF / GCD is the greatest common divisor. So HCF of 8 and 12 are 4.\n",
    "\n",
    "\n",
    "\n"
   ]
  },
  {
   "cell_type": "code",
   "execution_count": 2,
   "id": "employed-immune",
   "metadata": {},
   "outputs": [
    {
     "name": "stdout",
     "output_type": "stream",
     "text": [
      "Enter the number1 for findind the hcf :- 8\n",
      "Enter the number2 for finding the hcf :- 12\n"
     ]
    },
    {
     "data": {
      "text/plain": [
       "4"
      ]
     },
     "execution_count": 2,
     "metadata": {},
     "output_type": "execute_result"
    }
   ],
   "source": [
    "def compute_hcf():\n",
    "    \n",
    "    num1 = int(input(\"Enter the number1 for findind the hcf :- \"))\n",
    "    num2 = int(input(\"Enter the number2 for finding the hcf :- \"))\n",
    "    \n",
    "    if num1>num2:\n",
    "        smaller = num2\n",
    "    else:\n",
    "        smaller = num1\n",
    "        \n",
    "    for i in range(1, smaller+1):\n",
    "        if((num1%i == 0) and (num2%i == 0)):\n",
    "            hcf = i\n",
    "    return hcf\n",
    "\n",
    "compute_hcf()"
   ]
  },
  {
   "cell_type": "markdown",
   "id": "accredited-champagne",
   "metadata": {},
   "source": [
    "#### 3) Write a Python Program to Convert Decimal to Binary, Octal and Hexadecimal?\n",
    "\n",
    "**-> Decimal System:** The most widely used number system is decimal system. This system is base 10 number system. In this system, ten numbers (0-9) are used to represent a number.\n",
    "\n",
    "**-> Binary System:** Binary system is base 2 number system. Binary system is used because computers only understand binary numbers (0 and 1).\n",
    "\n",
    "**-> Octal System:** Octal system is base 8 number system.\n",
    "\n",
    "**-> Hexadecimal System:** Hexadecimal system is base 16 number system.\n",
    "\n",
    "-> A number with the prefix ```0b``` is considered **_binary_**, ```0o``` is considered **_octal_** and ```0x``` as **_hexadecimal._**\n",
    "\n",
    "**For example:-**\n",
    "\n",
    "```60 = 0b11100 = 0o74 = 0x3c```\n"
   ]
  },
  {
   "cell_type": "code",
   "execution_count": 3,
   "id": "continental-attraction",
   "metadata": {},
   "outputs": [
    {
     "name": "stdout",
     "output_type": "stream",
     "text": [
      "The decimal value of 344 is:\n",
      "0b101011000 in binary.\n",
      "0o530 in octal.\n",
      "0x158 in hexadecimal.\n"
     ]
    }
   ],
   "source": [
    "dec = 344\n",
    "\n",
    "print(\"The decimal value of\", dec, \"is:\")\n",
    "print(bin(dec), \"in binary.\")\n",
    "print(oct(dec), \"in octal.\")\n",
    "print(hex(dec), \"in hexadecimal.\")\n"
   ]
  },
  {
   "cell_type": "markdown",
   "id": "parental-passion",
   "metadata": {},
   "source": [
    "#### 4) Write a Python Program To Find ASCII value of a character?\n",
    "\n",
    "**ASCII:** ASCII is an acronym stands for ```American Standard Code for Information Interchange```. \n",
    "\n",
    "-> In ASCII, a specific numerical value is given to different characters and symbols, for computers to store and manipulate.\n",
    "\n",
    "-> It is case sensitive. Same character, having different format (upper case and lower case) has different value. For example: The ASCII value of ```\"A\"``` is 65 while the ASCII value of ```\"a\"``` is 97.\n",
    "\n"
   ]
  },
  {
   "cell_type": "code",
   "execution_count": 4,
   "id": "lonely-madonna",
   "metadata": {},
   "outputs": [
    {
     "name": "stdout",
     "output_type": "stream",
     "text": [
      "The ASCII value of 'U' is 85\n"
     ]
    }
   ],
   "source": [
    "c = 'U'\n",
    "print(\"The ASCII value of '\" + c + \"' is\", ord(c))"
   ]
  },
  {
   "cell_type": "markdown",
   "id": "vanilla-society",
   "metadata": {},
   "source": [
    "-> Here we have used ```ord()``` function to convert a character to an integer (ASCII value). This function returns the Unicode code point of that character.\n",
    "\n",
    "-> Unicode is also an encoding technique that provides a unique number to a character. While ASCII only encodes 128 characters, the current Unicode has more than 100,000 characters from hundreds of scripts.\n",
    "\n",
    "-> To get characters from their corresponding ASCII values using the ```chr()``` function as shown below."
   ]
  },
  {
   "cell_type": "code",
   "execution_count": 5,
   "id": "medical-sight",
   "metadata": {},
   "outputs": [
    {
     "data": {
      "text/plain": [
       "'A'"
      ]
     },
     "execution_count": 5,
     "metadata": {},
     "output_type": "execute_result"
    }
   ],
   "source": [
    "chr(65)"
   ]
  },
  {
   "cell_type": "code",
   "execution_count": 6,
   "id": "annoying-casting",
   "metadata": {},
   "outputs": [
    {
     "data": {
      "text/plain": [
       "'x'"
      ]
     },
     "execution_count": 6,
     "metadata": {},
     "output_type": "execute_result"
    }
   ],
   "source": [
    "chr(120)"
   ]
  },
  {
   "cell_type": "code",
   "execution_count": 7,
   "id": "breathing-scheme",
   "metadata": {},
   "outputs": [
    {
     "data": {
      "text/plain": [
       "'T'"
      ]
     },
     "execution_count": 7,
     "metadata": {},
     "output_type": "execute_result"
    }
   ],
   "source": [
    "chr(ord('S') + 1)"
   ]
  },
  {
   "cell_type": "markdown",
   "id": "criminal-fusion",
   "metadata": {},
   "source": [
    "-> Here, ```ord()``` and ```chr()``` are built-in functions."
   ]
  },
  {
   "cell_type": "markdown",
   "id": "geographic-prior",
   "metadata": {},
   "source": [
    "#### 5) Write a Python Program to Make a Simple Calculator with 4 basic mathematical operations?\n",
    "\n",
    "-> Basic Mathematical Operations Are :-\n",
    "\n",
    "1) Addition\n",
    "\n",
    "2) Subtraction\n",
    "\n",
    "3) Multiplication\n",
    "\n",
    "4) Division"
   ]
  },
  {
   "cell_type": "code",
   "execution_count": 8,
   "id": "formal-sword",
   "metadata": {},
   "outputs": [
    {
     "name": "stdout",
     "output_type": "stream",
     "text": [
      "Enter the first number:- 4\n",
      "Enter the second number:- 6\n",
      "The sum of 4 and 6 is 10\n",
      "The difference of 4 and 6 is -2\n",
      "The product of 4 and 6 is 24\n",
      "The quotient of 4 is divided by 6 is 0.6666666666666666\n"
     ]
    }
   ],
   "source": [
    "class Calculator:\n",
    "    def __init__(self):\n",
    "        self.num1 = int(input(\"Enter the first number:- \"))\n",
    "        self.num2 = int(input(\"Enter the second number:- \"))\n",
    "\n",
    "    def add(self):\n",
    "        r = self.num1 + self.num2\n",
    "        result = \"The sum of \" + str(self.num1) + \" and \" + str(self.num2) + \" is \" + str(r)\n",
    "        print(result)\n",
    "        return result\n",
    "\n",
    "    def subtract(self):\n",
    "        r = self.num1 - self.num2\n",
    "        result = \"The difference of \" + str(self.num1) + \" and \" + str(self.num2) + \" is \" + str(r)\n",
    "        print(result)\n",
    "        return result\n",
    "\n",
    "    def multiply(self):\n",
    "        r = self.num1 * self.num2\n",
    "        result = \"The product of \" + str(self.num1) + \" and \" + str(self.num2) + \" is \" + str(r)\n",
    "        print(result)\n",
    "        return result\n",
    "\n",
    "    def divide(self):\n",
    "        r = self.num1 / self.num2\n",
    "        result = \"The quotient of \" + str(self.num1) + \" is divided by \" + str(self.num2) + \" is \" + str(r)\n",
    "        print(result)\n",
    "        return result\n",
    "\n",
    "if __name__ == '__main__':\n",
    "    operation = Calculator()\n",
    "    operation.add()\n",
    "    operation.subtract()\n",
    "    operation.multiply()\n",
    "    operation.divide()"
   ]
  },
  {
   "cell_type": "code",
   "execution_count": null,
   "id": "monthly-princess",
   "metadata": {},
   "outputs": [],
   "source": []
  }
 ],
 "metadata": {
  "kernelspec": {
   "display_name": "Python 3",
   "language": "python",
   "name": "python3"
  },
  "language_info": {
   "codemirror_mode": {
    "name": "ipython",
    "version": 3
   },
   "file_extension": ".py",
   "mimetype": "text/x-python",
   "name": "python",
   "nbconvert_exporter": "python",
   "pygments_lexer": "ipython3",
   "version": "3.6.13"
  }
 },
 "nbformat": 4,
 "nbformat_minor": 5
}
