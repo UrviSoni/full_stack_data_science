{
 "cells": [
  {
   "cell_type": "code",
   "execution_count": 3,
   "id": "interstate-guinea",
   "metadata": {},
   "outputs": [
    {
     "name": "stdout",
     "output_type": "stream",
     "text": [
      "Enter the number of terms:- 15\n",
      "Fibonacci sequence:- \n",
      "0\n",
      "1\n",
      "1\n",
      "2\n",
      "3\n",
      "5\n",
      "8\n",
      "13\n",
      "21\n",
      "34\n",
      "55\n",
      "89\n",
      "144\n",
      "233\n",
      "377\n"
     ]
    }
   ],
   "source": [
    "# 1) Write a Python Program to Display Fibonacci Sequence Using Recursion?\n",
    "\n",
    "'''\n",
    "    Fibonacci Sequence:- It is the integer sequence of 0, 1, 1, 2, 3, 5, 8....\n",
    "    \n",
    "    The first two terms are 0 and 1. All other terms are obtained by adding the preceding two terms.\n",
    "    \n",
    "    This means to say the nth term is the sum of (n-1)th and (n-2)th term.\n",
    "'''\n",
    "\n",
    "def recur_fibo(n):\n",
    "    if n <= 1:\n",
    "        return n\n",
    "    else:\n",
    "        return(recur_fibo(n - 1) + recur_fibo(n - 2))\n",
    "    \n",
    "nterms = int(input(\"Enter the number of terms:- \"))\n",
    "\n",
    "# check if the number of terms is valid\n",
    "\n",
    "if nterms<= 0:\n",
    "    print(\"Please enter the positive integer.\")   \n",
    "else:\n",
    "    print(\"Fibonacci sequence:- \")\n",
    "    for i in range(nterms):\n",
    "        print(recur_fibo(i))"
   ]
  },
  {
   "cell_type": "code",
   "execution_count": 7,
   "id": "qualified-setup",
   "metadata": {},
   "outputs": [
    {
     "name": "stdout",
     "output_type": "stream",
     "text": [
      "Enter number :- 6\n",
      "The factorail of  6 is  720\n"
     ]
    }
   ],
   "source": [
    "# 2) Write a Python Program to Find Factorial of Number Using Recursion?\n",
    "\n",
    "'''\n",
    "    The factorial of a number is the product of all the integers from 1 to that number.\n",
    "\n",
    "    For example, the factorial of 6 is ```1*2*3*4*5*6 = 720```. \n",
    "    \n",
    "    Factorial is not defined for negative numbers and the factorial of zero is one, 0! = 1.\n",
    "\n",
    "'''\n",
    "\n",
    "def recur_factorial(n):\n",
    "    return 1 if n == 1 else (n * recur_factorial(n - 1))\n",
    "\n",
    "def main():\n",
    "    num = int(input(\"Enter number :- \"))\n",
    "    print(\"The factorail of \", num, \"is \", recur_factorial(num))\n",
    "    \n",
    "if __name__ == '__main__':\n",
    "    main()"
   ]
  },
  {
   "cell_type": "code",
   "execution_count": 9,
   "id": "professional-shadow",
   "metadata": {},
   "outputs": [
    {
     "name": "stdout",
     "output_type": "stream",
     "text": [
      "Enter your Height:- 5.2\n",
      "Enter your weight:- 47\n",
      "The BMI is 1.7381656804733725 so Underweight\n"
     ]
    }
   ],
   "source": [
    "# 3) Write a Python Program to calculate your Body Mass Index?\n",
    "\n",
    "'''\n",
    "    The Body Mass Index (BMI) or Quetelet index is a value derived from the mass (weight) and height of an individual, male or female. \n",
    "    \n",
    "    The BMI is defined as the body mass divided by the square of the body height and is universally expressed in units of kg/m2, resulting from the mass in kilograms and height in meters. \n",
    "    \n",
    "    The formula is: \n",
    "    \n",
    "        BMI = (mass or weight)/(height*height)\n",
    "        where,\n",
    "        mass or weight is in Kg,\n",
    "        height is in meters\n",
    "\n",
    "'''\n",
    "\n",
    "def BMI(height, weight):\n",
    "    bmi = weight/(height**2)\n",
    "    return bmi\n",
    "\n",
    "def main():\n",
    "    height = float(input(\"Enter your Height:- \"))\n",
    "    weight = float(input(\"Enter your weight:- \"))\n",
    "    \n",
    "    # calling the BMI function\n",
    "    bmi = BMI(height, weight)\n",
    "    print(\"The BMI is\", format(bmi), \"so \", end='')\n",
    " \n",
    "    # Conditions to find out BMI category\n",
    "    if (bmi < 18.5):\n",
    "        print(\"Underweight\")\n",
    "\n",
    "    elif ( bmi >= 18.5 and bmi < 24.9):\n",
    "        print(\"Healthy\")\n",
    "\n",
    "    elif ( bmi >= 24.9 and bmi < 30):\n",
    "        print(\"Overweight\")\n",
    "\n",
    "    elif ( bmi >=30):\n",
    "        print(\"Suffering From Obesity\")\n",
    "        \n",
    "if __name__ == \"__main__\":\n",
    "    main()"
   ]
  },
  {
   "cell_type": "code",
   "execution_count": 11,
   "id": "interpreted-vietnamese",
   "metadata": {},
   "outputs": [
    {
     "name": "stdout",
     "output_type": "stream",
     "text": [
      "0.17609125905568124\n"
     ]
    }
   ],
   "source": [
    "# 4) Write a Python Program to calculate the natural logarithm of any number?\n",
    "\n",
    "'''\n",
    "    With one argument, return the natural logarithm of x (to base e).\n",
    "    \n",
    "    With two arguments, return the logarithm of x to the given base, calculated as ```log(x)/log(base)```.\n",
    "\n",
    "'''\n",
    "\n",
    "import math\n",
    "print( math.log(1.5, 10))\n"
   ]
  },
  {
   "cell_type": "code",
   "execution_count": 12,
   "id": "settled-morrison",
   "metadata": {},
   "outputs": [
    {
     "name": "stdout",
     "output_type": "stream",
     "text": [
      "Enter the number:- 5\n",
      "225\n"
     ]
    }
   ],
   "source": [
    "# 5) Write a Python Program for cube sum of first n natural numbers?\n",
    "\n",
    "# Approach 1 - By using mathematical formula:-\n",
    "\n",
    "'''\n",
    "    An efficient solution is to use direct mathematical formula which is (n ( n + 1 ) / 2) ^ 2 \n",
    "\n",
    "'''\n",
    "\n",
    "def sumOfSeries(n):\n",
    "    x = (n * (n + 1)  / 2)\n",
    "    return (int)(x * x)\n",
    "\n",
    "\n",
    "def main():\n",
    "    n = int(input(\"Enter the number:- \"))\n",
    "    print(sumOfSeries(n))\n",
    "    \n",
    "if __name__ == \"__main__\":\n",
    "    main()"
   ]
  },
  {
   "cell_type": "code",
   "execution_count": 13,
   "id": "handled-stanford",
   "metadata": {},
   "outputs": [
    {
     "name": "stdout",
     "output_type": "stream",
     "text": [
      "Enter the number:- 5\n",
      "225\n"
     ]
    }
   ],
   "source": [
    "# Approach 2 - Simple mathematical Solution - One by One add terms\n",
    "\n",
    "def sumOfSeries(n):\n",
    "    sum_n = 0\n",
    "    for i in range(1, n + 1):\n",
    "        sum_n += i * i*i\n",
    "        \n",
    "    return sum_n\n",
    "\n",
    "def main():\n",
    "    n = int(input(\"Enter the number:- \"))\n",
    "    print(sumOfSeries(n))\n",
    "    \n",
    "if __name__ == \"__main__\":\n",
    "    main()"
   ]
  },
  {
   "cell_type": "code",
   "execution_count": null,
   "id": "pressing-findings",
   "metadata": {},
   "outputs": [],
   "source": []
  }
 ],
 "metadata": {
  "kernelspec": {
   "display_name": "Python 3",
   "language": "python",
   "name": "python3"
  },
  "language_info": {
   "codemirror_mode": {
    "name": "ipython",
    "version": 3
   },
   "file_extension": ".py",
   "mimetype": "text/x-python",
   "name": "python",
   "nbconvert_exporter": "python",
   "pygments_lexer": "ipython3",
   "version": "3.6.13"
  }
 },
 "nbformat": 4,
 "nbformat_minor": 5
}
