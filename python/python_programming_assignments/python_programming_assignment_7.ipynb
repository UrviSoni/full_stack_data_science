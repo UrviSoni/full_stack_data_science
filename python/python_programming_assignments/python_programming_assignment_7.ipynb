{
 "cells": [
  {
   "cell_type": "code",
   "execution_count": 1,
   "id": "municipal-track",
   "metadata": {},
   "outputs": [
    {
     "data": {
      "text/plain": [
       "15"
      ]
     },
     "execution_count": 1,
     "metadata": {},
     "output_type": "execute_result"
    }
   ],
   "source": [
    "# 1) Write a Python Program to find sum of array?\n",
    "\n",
    "def sum_array(arr):\n",
    "    total = 0\n",
    "    for item in arr:\n",
    "        # shorthand of total = total + item\n",
    "        total += item\n",
    "    return total\n",
    "\n",
    "sum_array([1,2,3,4,5])"
   ]
  },
  {
   "cell_type": "code",
   "execution_count": 2,
   "id": "complex-couple",
   "metadata": {},
   "outputs": [
    {
     "data": {
      "text/plain": [
       "8"
      ]
     },
     "execution_count": 2,
     "metadata": {},
     "output_type": "execute_result"
    }
   ],
   "source": [
    "# 2) Write a Python Program to find largest element in an array?\n",
    "\n",
    "def largest_el_array(arr):\n",
    "    largest = 0\n",
    "    for x in range(0, len(arr)):\n",
    "        if(arr[x] > largest):\n",
    "            largest = arr[x]\n",
    "    return largest\n",
    "\n",
    "largest_el_array([1,3,8,5,7])"
   ]
  },
  {
   "cell_type": "code",
   "execution_count": 6,
   "id": "conventional-restriction",
   "metadata": {},
   "outputs": [
    {
     "name": "stdout",
     "output_type": "stream",
     "text": [
      "Enter the size of the list :- 5\n",
      "Enter the elements of the list :- \n",
      "1\n",
      "2\n",
      "3\n",
      "4\n",
      "5\n",
      "The array is ::>\n",
      "1 2 3 4 5 \n",
      "Rotated array is\n",
      "5 1 2 3 4 "
     ]
    }
   ],
   "source": [
    "# 3) Write a Python Program for array rotation?\n",
    "\n",
    "def rotate_arr(arr, n):\n",
    "    x = arr[n - 1]\n",
    "    for i in range(n - 1, 0, -1):\n",
    "        arr[i] = arr[i - 1]\n",
    "    arr[0] = x\n",
    "    \n",
    "A = list()\n",
    "n = int(input(\"Enter the size of the list :- \"))\n",
    "print(\"Enter the elements of the list :- \")\n",
    "\n",
    "for i in range(int(n)):\n",
    "    k=int(input(\"\"))\n",
    "    A.append(k)\n",
    "\n",
    "print (\"The array is ::>\")\n",
    "\n",
    "for i in range(0, n):\n",
    "    print (A[i], end = ' ')\n",
    "\n",
    "rotate_arr(A, n)\n",
    "\n",
    "print (\"\\nRotated array is\")\n",
    "\n",
    "for i in range(0, n):\n",
    "    print (A[i], end = ' ')\n",
    "        "
   ]
  },
  {
   "cell_type": "code",
   "execution_count": 11,
   "id": "decimal-elite",
   "metadata": {},
   "outputs": [
    {
     "name": "stdout",
     "output_type": "stream",
     "text": [
      "Enter the size of the list :- 5\n",
      "Enter the elements of the list :- \n",
      "1\n",
      "2\n",
      "3\n",
      "4\n",
      "5\n",
      "The array is ::>\n",
      "1 2 3 4 5 \n",
      "Enter the position:- 2\n",
      "Splitted Array and First Part will be added in the end :- \n",
      "3 4 5 1 2 "
     ]
    }
   ],
   "source": [
    "# 4) Write a Python Program to Split the array and add the first part to the end?\n",
    "\n",
    "def splitArr(arr, n, k): \n",
    "    for i in range(0, k): \n",
    "        x = arr[0]\n",
    "        for j in range(0, n-1):\n",
    "            arr[j] = arr[j + 1]\n",
    "          \n",
    "        arr[n-1] = x\n",
    "        \n",
    "# main\n",
    "\n",
    "A = list()\n",
    "n = int(input(\"Enter the size of the list :- \"))\n",
    "print(\"Enter the elements of the list :- \")\n",
    "\n",
    "for i in range(int(n)):\n",
    "    k=int(input(\"\"))\n",
    "    A.append(k)\n",
    "\n",
    "print (\"The array is ::>\")\n",
    "\n",
    "for i in range(0, n):\n",
    "    print (A[i], end = ' ')\n",
    "\n",
    "position = int(input(\"\\nEnter the position:- \"))\n",
    "  \n",
    "splitArr(A, n, position)\n",
    "  \n",
    "print(\"Splitted Array and First Part will be added in the end :- \")\n",
    "for i in range(0, n): \n",
    "    print(A[i], end = ' ')"
   ]
  },
  {
   "cell_type": "code",
   "execution_count": 15,
   "id": "explicit-blond",
   "metadata": {},
   "outputs": [
    {
     "name": "stdout",
     "output_type": "stream",
     "text": [
      "Enter the size of the list :- 4\n",
      "Enter the elements of the list :- \n",
      "6\n",
      "5\n",
      "4\n",
      "4\n",
      "The array is ::>\n",
      "6 5 4 4 \n",
      "Is the Array Monotonic :-  True\n"
     ]
    }
   ],
   "source": [
    "# 5) Write a Python Program to check if given array is Monotonic?\n",
    "\n",
    "'''\n",
    "    An array is said to be monotonic in nature if it is either continuously increasing or continuously decreasing.\n",
    "\n",
    "'''\n",
    "\n",
    "def isMonotonic(A):\n",
    "    return (all(A[i] <= A[i + 1] for i in range(len(A) - 1)) or\n",
    "      all(A[i] >= A[i + 1] for i in range(len(A) - 1)))\n",
    "\n",
    "A = list()\n",
    "n = int(input(\"Enter the size of the list :- \"))\n",
    "print(\"Enter the elements of the list :- \")\n",
    "\n",
    "for i in range(int(n)):\n",
    "    k=int(input(\"\"))\n",
    "    A.append(k)\n",
    "\n",
    "print (\"The array is ::>\")\n",
    "\n",
    "for i in range(0, n):\n",
    "    print (A[i], end = ' ')\n",
    "\n",
    "print(\"\\nthe Array Monotonic :- \",isMonotonic(A))\n"
   ]
  },
  {
   "cell_type": "code",
   "execution_count": null,
   "id": "inclusive-harmony",
   "metadata": {},
   "outputs": [],
   "source": []
  }
 ],
 "metadata": {
  "kernelspec": {
   "display_name": "Python 3",
   "language": "python",
   "name": "python3"
  },
  "language_info": {
   "codemirror_mode": {
    "name": "ipython",
    "version": 3
   },
   "file_extension": ".py",
   "mimetype": "text/x-python",
   "name": "python",
   "nbconvert_exporter": "python",
   "pygments_lexer": "ipython3",
   "version": "3.6.13"
  }
 },
 "nbformat": 4,
 "nbformat_minor": 5
}
