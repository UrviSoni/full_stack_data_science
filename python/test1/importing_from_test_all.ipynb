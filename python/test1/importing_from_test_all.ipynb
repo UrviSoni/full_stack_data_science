{
 "cells": [
  {
   "cell_type": "code",
   "execution_count": 4,
   "id": "weighted-vatican",
   "metadata": {},
   "outputs": [],
   "source": [
    "import test123"
   ]
  },
  {
   "cell_type": "code",
   "execution_count": 5,
   "id": "altered-photographer",
   "metadata": {},
   "outputs": [],
   "source": [
    "from test123 import mod1"
   ]
  },
  {
   "cell_type": "code",
   "execution_count": 6,
   "id": "radio-adrian",
   "metadata": {},
   "outputs": [],
   "source": [
    "from test123 import mod2"
   ]
  },
  {
   "cell_type": "code",
   "execution_count": 7,
   "id": "least-notion",
   "metadata": {},
   "outputs": [],
   "source": [
    "from test123 import mod2"
   ]
  },
  {
   "cell_type": "code",
   "execution_count": 8,
   "id": "resistant-california",
   "metadata": {},
   "outputs": [],
   "source": [
    "from test123 import mod3"
   ]
  },
  {
   "cell_type": "code",
   "execution_count": null,
   "id": "alike-trinidad",
   "metadata": {},
   "outputs": [],
   "source": []
  }
 ],
 "metadata": {
  "kernelspec": {
   "display_name": "Python 3",
   "language": "python",
   "name": "python3"
  },
  "language_info": {
   "codemirror_mode": {
    "name": "ipython",
    "version": 3
   },
   "file_extension": ".py",
   "mimetype": "text/x-python",
   "name": "python",
   "nbconvert_exporter": "python",
   "pygments_lexer": "ipython3",
   "version": "3.6.13"
  }
 },
 "nbformat": 4,
 "nbformat_minor": 5
}
