{
 "cells": [
  {
   "cell_type": "code",
   "execution_count": 3,
   "id": "ceramic-national",
   "metadata": {},
   "outputs": [],
   "source": [
    "from mod1 import *"
   ]
  },
  {
   "cell_type": "code",
   "execution_count": 4,
   "id": "light-ireland",
   "metadata": {},
   "outputs": [],
   "source": [
    "from mod2 import *"
   ]
  },
  {
   "cell_type": "code",
   "execution_count": 5,
   "id": "surface-scheduling",
   "metadata": {},
   "outputs": [],
   "source": [
    "from mod3 import *"
   ]
  },
  {
   "cell_type": "code",
   "execution_count": 6,
   "id": "optional-wonder",
   "metadata": {},
   "outputs": [],
   "source": [
    "import mod1, mod2, mod3"
   ]
  },
  {
   "cell_type": "code",
   "execution_count": 7,
   "id": "arctic-instruction",
   "metadata": {},
   "outputs": [
    {
     "data": {
      "text/plain": [
       "'Hello World!'"
      ]
     },
     "execution_count": 7,
     "metadata": {},
     "output_type": "execute_result"
    }
   ],
   "source": [
    "mod1.fun1()"
   ]
  },
  {
   "cell_type": "code",
   "execution_count": 9,
   "id": "temporal-injection",
   "metadata": {},
   "outputs": [
    {
     "data": {
      "text/plain": [
       "'Namaste!'"
      ]
     },
     "execution_count": 9,
     "metadata": {},
     "output_type": "execute_result"
    }
   ],
   "source": [
    "mod1.fun2()"
   ]
  },
  {
   "cell_type": "code",
   "execution_count": 10,
   "id": "outdoor-encoding",
   "metadata": {},
   "outputs": [
    {
     "data": {
      "text/plain": [
       "'iNeuron'"
      ]
     },
     "execution_count": 10,
     "metadata": {},
     "output_type": "execute_result"
    }
   ],
   "source": [
    "mod1.fun3()"
   ]
  },
  {
   "cell_type": "code",
   "execution_count": 11,
   "id": "accessible-malawi",
   "metadata": {},
   "outputs": [
    {
     "data": {
      "text/plain": [
       "'ABC'"
      ]
     },
     "execution_count": 11,
     "metadata": {},
     "output_type": "execute_result"
    }
   ],
   "source": [
    "mod2.fun2_1()"
   ]
  },
  {
   "cell_type": "code",
   "execution_count": 12,
   "id": "hindu-virgin",
   "metadata": {},
   "outputs": [
    {
     "data": {
      "text/plain": [
       "'DEF'"
      ]
     },
     "execution_count": 12,
     "metadata": {},
     "output_type": "execute_result"
    }
   ],
   "source": [
    "mod2.fun2_2()"
   ]
  },
  {
   "cell_type": "code",
   "execution_count": 13,
   "id": "numerical-brief",
   "metadata": {},
   "outputs": [
    {
     "data": {
      "text/plain": [
       "'GHI'"
      ]
     },
     "execution_count": 13,
     "metadata": {},
     "output_type": "execute_result"
    }
   ],
   "source": [
    "mod2.fun2_3()"
   ]
  },
  {
   "cell_type": "code",
   "execution_count": 14,
   "id": "labeled-blackjack",
   "metadata": {},
   "outputs": [
    {
     "data": {
      "text/plain": [
       "'Test'"
      ]
     },
     "execution_count": 14,
     "metadata": {},
     "output_type": "execute_result"
    }
   ],
   "source": [
    "mod3.fun3_1()"
   ]
  },
  {
   "cell_type": "code",
   "execution_count": null,
   "id": "thirty-lotus",
   "metadata": {},
   "outputs": [],
   "source": []
  }
 ],
 "metadata": {
  "kernelspec": {
   "display_name": "Python 3",
   "language": "python",
   "name": "python3"
  },
  "language_info": {
   "codemirror_mode": {
    "name": "ipython",
    "version": 3
   },
   "file_extension": ".py",
   "mimetype": "text/x-python",
   "name": "python",
   "nbconvert_exporter": "python",
   "pygments_lexer": "ipython3",
   "version": "3.6.13"
  }
 },
 "nbformat": 4,
 "nbformat_minor": 5
}
